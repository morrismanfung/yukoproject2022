{
 "cells": [
  {
   "cell_type": "code",
   "execution_count": 1,
   "metadata": {},
   "outputs": [
    {
     "data": {
      "text/plain": [
       "DataTransformerRegistry.enable('data_server')"
      ]
     },
     "execution_count": 1,
     "metadata": {},
     "output_type": "execute_result"
    }
   ],
   "source": [
    "import numpy as np\n",
    "import pandas as pd\n",
    "import altair as alt\n",
    "alt.renderers.enable('mimetype')\n",
    "alt.data_transformers.enable('data_server')"
   ]
  },
  {
   "cell_type": "code",
   "execution_count": 2,
   "metadata": {},
   "outputs": [
    {
     "name": "stdout",
     "output_type": "stream",
     "text": [
      "Index(['Place', 'ActualWeight', 'DeclaredHorseWeight', 'Draw', 'WinOdds',\n",
      "       'J_Rate_win', 'J_Rate_place', 'J_Rate_show', 'T_Rate_win',\n",
      "       'T_Rate_place', 'T_Rate_show', 'H_TotalStake', 'H_Total', 'H_Rate_win',\n",
      "       'H_Rate_place', 'H_Rate_show', 'H_Age', 'LastRace_nDays',\n",
      "       'PreviousPlace', 'AvgPlace3', 'AvgPlace5', 'WeightDiff',\n",
      "       'CombinedRating', 'Place_norm', 'ActualWeight_norm',\n",
      "       'DeclaredHorseWeight_norm', 'Draw_norm', 'WinOdds_norm',\n",
      "       'J_Rate_win_norm', 'J_Rate_place_norm', 'J_Rate_show_norm',\n",
      "       'T_Rate_win_norm', 'T_Rate_place_norm', 'T_Rate_show_norm',\n",
      "       'H_TotalStake_norm', 'H_Total_norm', 'H_Rate_win_norm',\n",
      "       'H_Rate_place_norm', 'H_Rate_show_norm', 'H_Age_norm',\n",
      "       'LastRace_nDays_norm', 'PreviousPlace_norm', 'AvgPlace3_norm',\n",
      "       'AvgPlace5_norm', 'WeightDiff_norm', 'CombinedRating_norm'],\n",
      "      dtype='object')\n"
     ]
    },
    {
     "name": "stderr",
     "output_type": "stream",
     "text": [
      "C:\\Users\\User\\AppData\\Local\\Temp\\ipykernel_10768\\1300057193.py:1: DtypeWarning: Columns (62) have mixed types. Specify dtype option on import or set low_memory=False.\n",
      "  data_full = pd.read_csv( '..\\\\01-data\\\\data_merged_20220910_norm.csv')\n"
     ]
    }
   ],
   "source": [
    "data_full = pd.read_csv( '..\\\\01-data\\\\data_merged_20220910_norm.csv')\n",
    "data_full = data_full.query( 'H_Age<100&Draw>0')\n",
    "# data_full = data_full[ data_full[ 'Place'] < 11]\n",
    "# data_full = data_full[ data_full[ 'RaceYear'] > 2020]\n",
    "# data_full.info( verbose = True)\n",
    "X = data_full.loc[ :, data_full.columns.str.startswith( 'ActualWeight') | data_full.columns.str.startswith( 'DeclaredHorseWeight') | \\\n",
    "    data_full.columns.str.startswith( 'WinOdds') | data_full.columns.str.startswith( 'Draw') | \\\n",
    "    data_full.columns.str.startswith( 'J_Total_') | data_full.columns.str.startswith( 'J_TotalStakes_') | \\\n",
    "    data_full.columns.str.startswith( 'J_Rate_') | \\\n",
    "    data_full.columns.str.startswith( 'T_Total_') | data_full.columns.str.startswith( 'T_TotalStakes_') | \\\n",
    "    data_full.columns.str.startswith( 'T_Rate') | \\\n",
    "    data_full.columns.str.startswith( 'H_Rate_') | data_full.columns.str.startswith( 'H_Total') | \\\n",
    "    data_full.columns.str.startswith( 'H_TotalStake') | data_full.columns.str.startswith( 'CombinedRating') | \\\n",
    "    data_full.columns.str.startswith( 'H_Age') | data_full.columns.str.startswith( 'WeightDiff') | \\\n",
    "    data_full.columns.str.startswith( 'LastRace_nDays') | data_full.columns.str.startswith( 'PreviousPlace') | \\\n",
    "    data_full.columns.str.startswith( 'AvgPlace3') | data_full.columns.str.startswith( 'AvgPlace5') | \\\n",
    "    data_full.columns.str.startswith( 'Place')] # Place is added for downsampling\n",
    "\n",
    "print( X.columns)\n",
    "y = data_full[ 'Winner']"
   ]
  },
  {
   "cell_type": "code",
   "execution_count": 3,
   "metadata": {},
   "outputs": [
    {
     "name": "stdout",
     "output_type": "stream",
     "text": [
      "False    15038\n",
      "True      1355\n",
      "Name: Winner, dtype: int64\n"
     ]
    }
   ],
   "source": [
    "print( y.value_counts())"
   ]
  },
  {
   "cell_type": "markdown",
   "metadata": {},
   "source": [
    "# Exploratory analysis"
   ]
  },
  {
   "cell_type": "markdown",
   "metadata": {},
   "source": [
    "Exploratory analysis is performed on (1) actual weight, (2) declared horse weight, (3) draw, (4) Win odds, (5) jockey’s win rate, (6) jockey’s place rate, (7) jockey’s show rate, (8) trainer’s win rate, (9) trainer’s place rate, (10) trainer’s show rate, (11) total stake the horse has earned, (12) total race the horse has run, (13) horse’s win rate, (14) horse’s place rate, (15) horse’s show rate, (16) horse age, (17) number of days since last race, (18) place in the previous race, (19) average place in the previous 3 races, (20) average place in the previous 5 races, (21) chang in horse weight since the last race, (22) rating."
   ]
  },
  {
   "cell_type": "markdown",
   "metadata": {},
   "source": [
    "### Actual Weight"
   ]
  },
  {
   "cell_type": "code",
   "execution_count": 4,
   "metadata": {},
   "outputs": [],
   "source": [
    "def EDA( variable, text, size = 50, height = 200):\n",
    "    global data_full\n",
    "    bar = alt.Chart( data_full, title = f'Distribution of {text}').mark_bar().encode(\n",
    "    x = alt.X( variable, bin = alt.Bin( maxbins = 30), title = f'{text}'),\n",
    "    y = 'count()'\n",
    "    ).properties(\n",
    "        height = height,\n",
    "        width = 200\n",
    "    )\n",
    "\n",
    "    box = alt.Chart( data_full, title = f'Distribution of {text} by Class').mark_boxplot( size = size).encode(\n",
    "        x = alt.X( variable, scale = alt.Scale( zero = False), title = f'{text}'),\n",
    "        y = 'Winner',\n",
    "        color = 'Winner'\n",
    "    ).properties(\n",
    "        height = height,\n",
    "        width = 200\n",
    "    )\n",
    "\n",
    "    data_full[ f'{variable}_bin'] = pd.qcut( data_full[ variable], q = 10, labels = False, duplicates = 'drop')\n",
    "    df_tmp = data_full[ [ f'{variable}_bin', 'Winner']].groupby( f'{variable}_bin').mean()\n",
    "\n",
    "    bin_ = alt.Chart( df_tmp.reset_index(), title = f'Effect of {text} on % on Winning').mark_bar().encode(\n",
    "        x = alt.X( f'{variable}_bin:O', title = f'Percentiles of {text}'),\n",
    "        y = alt.Y( 'Winner', title = 'Chance of Wining')\n",
    "    ).properties(\n",
    "        height = height,\n",
    "        width = 200\n",
    "    )\n",
    "\n",
    "    return ( bar | box | bin_)"
   ]
  },
  {
   "cell_type": "code",
   "execution_count": 5,
   "metadata": {},
   "outputs": [
    {
     "data": {
      "application/vnd.vegalite.v4+json": {
       "$schema": "https://vega.github.io/schema/vega-lite/v4.17.0.json",
       "config": {
        "view": {
         "continuousHeight": 300,
         "continuousWidth": 400
        }
       },
       "data": {
        "url": "http://localhost:51059/77da610c9319597c402e12674e4b3242.json"
       },
       "hconcat": [
        {
         "encoding": {
          "x": {
           "bin": {
            "maxbins": 30
           },
           "field": "ActualWeight",
           "title": "Actual Weight",
           "type": "quantitative"
          },
          "y": {
           "aggregate": "count",
           "type": "quantitative"
          }
         },
         "height": 200,
         "mark": "bar",
         "title": "Distribution of Actual Weight",
         "width": 200
        },
        {
         "encoding": {
          "color": {
           "field": "Winner",
           "type": "nominal"
          },
          "x": {
           "field": "ActualWeight",
           "scale": {
            "zero": false
           },
           "title": "Actual Weight",
           "type": "quantitative"
          },
          "y": {
           "field": "Winner",
           "type": "nominal"
          }
         },
         "height": 200,
         "mark": {
          "size": 50,
          "type": "boxplot"
         },
         "title": "Distribution of Actual Weight by Class",
         "width": 200
        },
        {
         "data": {
          "url": "http://localhost:51059/600268d52968efeadd05bbf0923d23ff.json"
         },
         "encoding": {
          "x": {
           "field": "ActualWeight_bin",
           "title": "Percentiles of Actual Weight",
           "type": "ordinal"
          },
          "y": {
           "field": "Winner",
           "title": "Chance of Wining",
           "type": "quantitative"
          }
         },
         "height": 200,
         "mark": "bar",
         "title": "Effect of Actual Weight on % on Winning",
         "width": 200
        }
       ]
      },
      "image/png": "[encoded data removed]",
      "text/plain": [
       "<VegaLite 4 object>\n",
       "\n",
       "If you see this message, it means the renderer has not been properly enabled\n",
       "for the frontend that you are using. For more information, see\n",
       "https://altair-viz.github.io/user_guide/troubleshooting.html\n"
      ]
     },
     "execution_count": 5,
     "metadata": {},
     "output_type": "execute_result"
    }
   ],
   "source": [
    "EDA( variable = 'ActualWeight', text = 'Actual Weight')"
   ]
  },
  {
   "cell_type": "markdown",
   "metadata": {},
   "source": [
    "Actual weight is slight negatively skewed with low kurtosis. The difference in actual weight between winners and non-winners is not visually obvious. Still, the boxplot shows that winners have slightly heavier actual weight to be carried. After binning the actual weights of each horses, it can be seen that those with large weights are more likely to win. Standard scaling will be applied to this variable."
   ]
  },
  {
   "cell_type": "code",
   "execution_count": 6,
   "metadata": {},
   "outputs": [
    {
     "data": {
      "application/vnd.vegalite.v4+json": {
       "$schema": "https://vega.github.io/schema/vega-lite/v4.17.0.json",
       "config": {
        "view": {
         "continuousHeight": 300,
         "continuousWidth": 400
        }
       },
       "data": {
        "url": "http://localhost:51059/1fdb90a3b1ae4920f3e3b26bab571127.json"
       },
       "hconcat": [
        {
         "encoding": {
          "x": {
           "bin": {
            "maxbins": 30
           },
           "field": "ActualWeight_norm",
           "title": "Relative Actual Weight",
           "type": "quantitative"
          },
          "y": {
           "aggregate": "count",
           "type": "quantitative"
          }
         },
         "height": 200,
         "mark": "bar",
         "title": "Distribution of Relative Actual Weight",
         "width": 200
        },
        {
         "encoding": {
          "color": {
           "field": "Winner",
           "type": "nominal"
          },
          "x": {
           "field": "ActualWeight_norm",
           "scale": {
            "zero": false
           },
           "title": "Relative Actual Weight",
           "type": "quantitative"
          },
          "y": {
           "field": "Winner",
           "type": "nominal"
          }
         },
         "height": 200,
         "mark": {
          "size": 50,
          "type": "boxplot"
         },
         "title": "Distribution of Relative Actual Weight by Class",
         "width": 200
        },
        {
         "data": {
          "url": "http://localhost:51059/ef37fc873703a60adc617a29ff57b186.json"
         },
         "encoding": {
          "x": {
           "field": "ActualWeight_norm_bin",
           "title": "Percentiles of Relative Actual Weight",
           "type": "ordinal"
          },
          "y": {
           "field": "Winner",
           "title": "Chance of Wining",
           "type": "quantitative"
          }
         },
         "height": 200,
         "mark": "bar",
         "title": "Effect of Relative Actual Weight on % on Winning",
         "width": 200
        }
       ]
      },
      "image/png": "[encoded data removed]",
      "text/plain": [
       "<VegaLite 4 object>\n",
       "\n",
       "If you see this message, it means the renderer has not been properly enabled\n",
       "for the frontend that you are using. For more information, see\n",
       "https://altair-viz.github.io/user_guide/troubleshooting.html\n"
      ]
     },
     "execution_count": 6,
     "metadata": {},
     "output_type": "execute_result"
    }
   ],
   "source": [
    "EDA( variable = 'ActualWeight_norm', text = 'Relative Actual Weight')"
   ]
  },
  {
   "cell_type": "markdown",
   "metadata": {},
   "source": [
    "Relative acutal weight is more normally distributed. From the boxplot, it is hard to determine whether it differs in winners and non-winners. The final bar chart shows that those with higher relative actual weights seem to have higher chance to win a race. No scaling will be used on this variable as it is already normalized."
   ]
  },
  {
   "cell_type": "markdown",
   "metadata": {},
   "source": [
    "### Declared Horse Weight"
   ]
  },
  {
   "cell_type": "code",
   "execution_count": null,
   "metadata": {},
   "outputs": [],
   "source": [
    "EDA( variable = 'DeclaredHorseWeight', text = 'Declared Horse Weight')"
   ]
  },
  {
   "cell_type": "markdown",
   "metadata": {},
   "source": [
    "By visual insepection, it is not likely that declared horse weight will be an effective feature in predicting winners"
   ]
  },
  {
   "cell_type": "code",
   "execution_count": null,
   "metadata": {},
   "outputs": [],
   "source": [
    "EDA( variable = 'DeclaredHorseWeight', text = 'Relative Declared Horse Weight')"
   ]
  },
  {
   "cell_type": "markdown",
   "metadata": {},
   "source": [
    "By visual insepection, it is not likely that relative declared horse weight will be an effective feature in predicting winners"
   ]
  },
  {
   "cell_type": "markdown",
   "metadata": {},
   "source": [
    "## Draw"
   ]
  },
  {
   "cell_type": "code",
   "execution_count": null,
   "metadata": {},
   "outputs": [],
   "source": [
    "count_ = alt.Chart( data_full, title = 'Count of Entries in each Draw').mark_bar().encode(\n",
    "    x = 'Draw:O',\n",
    "    y = 'count()'\n",
    ").properties(\n",
    "    height = 200,\n",
    "    width = 200)\n",
    "\n",
    "prob_draw = data_full[ data_full[ 'Winner'] == True][ 'Draw'].value_counts() / data_full[ 'Draw'].value_counts()\n",
    "prob_draw = prob_draw.reset_index()\n",
    "\n",
    "chance_ = alt.Chart( prob_draw, title = 'Effect of Draw of Chance of Winning').mark_bar().encode(\n",
    "    x = alt.X( 'index:O', title = 'Draw'),\n",
    "    y = alt.Y( 'Draw', title = 'Chance of Winning')\n",
    ").properties(\n",
    "    height = 200,\n",
    "    width = 200)\n",
    "\n",
    "count_ | chance_"
   ]
  },
  {
   "cell_type": "markdown",
   "metadata": {},
   "source": [
    "It can be seen that draw number may have a effect on the chance of winning. It is also noted that the distribution of draw number in the data is not even. It is because some of the races have fewer horses and only a limited number of races are with more than 12 horses. Although it is an ordinal variable, this feature will be scaled with standard scaler as models will be sensitive to scales."
   ]
  },
  {
   "cell_type": "markdown",
   "metadata": {},
   "source": [
    "### Win Odds"
   ]
  },
  {
   "cell_type": "code",
   "execution_count": null,
   "metadata": {},
   "outputs": [],
   "source": [
    "EDA( variable = 'WinOdds', text = 'Win Odds')"
   ]
  },
  {
   "cell_type": "markdown",
   "metadata": {},
   "source": [
    "While the variable is highly positively skewed, logarithmaic transformation will be applied."
   ]
  },
  {
   "cell_type": "code",
   "execution_count": null,
   "metadata": {},
   "outputs": [],
   "source": [
    "data_full[ 'log_WinOdds'] = np.log( data_full[ 'WinOdds'])\n",
    "data_full.loc[ data_full[ 'log_WinOdds'] == -np.inf, 'log_WinOdds'] = 0\n",
    "\n",
    "EDA( variable = 'log_WinOdds', text = 'Win Odds (log)')"
   ]
  },
  {
   "cell_type": "markdown",
   "metadata": {},
   "source": [
    "Win odds after logarithmic transformation appears to be more normally distributed and it is obvious that smaller odds are associated with higher chance of winning. This feature will be scaled by a standard scaler."
   ]
  },
  {
   "cell_type": "code",
   "execution_count": null,
   "metadata": {},
   "outputs": [],
   "source": [
    "EDA( variable = 'WinOdds_norm', text = 'Relataive Win Odds')"
   ]
  },
  {
   "cell_type": "markdown",
   "metadata": {},
   "source": [
    "While the relative score appears to be skewed, it will not be further transformed as it is normalized theoretically. It can be seen that the relative win odd can also potentially predict winners."
   ]
  },
  {
   "cell_type": "markdown",
   "metadata": {},
   "source": [
    "### Jockey's rate of winning"
   ]
  },
  {
   "cell_type": "code",
   "execution_count": null,
   "metadata": {},
   "outputs": [],
   "source": [
    "EDA( variable = 'J_Rate_win', text = 'Jockey\\'s Win Rate', size = 30, height = 100) & (\n",
    "    EDA( variable = 'J_Rate_place', text = 'Jockey\\'s Place Rate', size = 30, height = 100)) & (\n",
    "        EDA( variable = 'J_Rate_show', text = 'Jockey\\'s Show Rate', size = 30, height = 100))"
   ]
  },
  {
   "cell_type": "code",
   "execution_count": null,
   "metadata": {},
   "outputs": [],
   "source": [
    "EDA( variable = 'J_Rate_win_norm', text = 'Relative Jockey\\'s Win Rate', size = 30, height = 100) & (\n",
    "    EDA( variable = 'J_Rate_place_norm', text = 'Relative Jockey\\'s Place Rate', size = 30, height = 100)) & (\n",
    "        EDA( variable = 'J_Rate_show_norm', text = 'Relative Jockey\\'s Show Rate', size = 30, height = 100))"
   ]
  },
  {
   "cell_type": "markdown",
   "metadata": {},
   "source": [
    "It should not be a surprise that Jockeys' rates of winning (1st, 2nd, 3rd) is associated with whehther an entry can win a race or not. This feature will not be further scaled as it is already bounded between 0 and 1. However, it should be noted that this feature may not be practical in real life prediction as the winning rates are fetched at the end of the season. Thus, these features already stored whether a jockey has been winning in the past, but may not signal their performance in the feature."
   ]
  },
  {
   "cell_type": "markdown",
   "metadata": {},
   "source": [
    "### Trainer's rate of winning"
   ]
  },
  {
   "cell_type": "code",
   "execution_count": null,
   "metadata": {},
   "outputs": [],
   "source": [
    "EDA( variable = 'T_Rate_win', text = 'Trainer\\'s Win Rate', size = 30, height = 100) & (\n",
    "    EDA( variable = 'T_Rate_place', text = 'Trainer\\'s Place Rate', size = 30, height = 100)) & (\n",
    "        EDA( variable = 'T_Rate_show', text = 'Trainer\\'s Show Rate', size = 30, height = 100))"
   ]
  },
  {
   "cell_type": "code",
   "execution_count": null,
   "metadata": {},
   "outputs": [],
   "source": [
    "EDA( variable = 'T_Rate_win_norm', text = 'Relative Trainer\\'s Win Rate', size = 30, height = 100) & (\n",
    "    EDA( variable = 'T_Rate_place_norm', text = 'Relative Trainer\\'s Place Rate', size = 30, height = 100)) & (\n",
    "        EDA( variable = 'T_Rate_show_norm', text = 'Relative Trainer\\'s Show Rate', size = 30, height = 100))"
   ]
  },
  {
   "cell_type": "markdown",
   "metadata": {},
   "source": [
    "The distributions of winning rates are not smooth because there is only a few trainers, compared to the large amount of races and hores entries. From visual inspection, it is seen that trainers' winning rates are not effective in predicting winners. It is decided that no scaling will be performed as this variable is bounded between 0 and 1."
   ]
  },
  {
   "cell_type": "markdown",
   "metadata": {},
   "source": [
    "### Total Stake by the Horse"
   ]
  },
  {
   "cell_type": "code",
   "execution_count": null,
   "metadata": {},
   "outputs": [],
   "source": [
    "EDA( variable = 'H_TotalStake', text = 'Total Stake by the Horse')"
   ]
  },
  {
   "cell_type": "markdown",
   "metadata": {},
   "source": [
    "Logarithmic transformation is performed as the distribution is highly positively skewed."
   ]
  },
  {
   "cell_type": "code",
   "execution_count": null,
   "metadata": {},
   "outputs": [],
   "source": [
    "data_full[ 'log_H_TotalStake'] = np.log( data_full[ 'H_TotalStake'])\n",
    "data_full.loc[ data_full[ 'log_H_TotalStake'] == -np.inf, 'log_H_TotalStake'] = 0\n",
    "EDA( variable = 'log_H_TotalStake', text = 'Total Stake by the Horse (log)')"
   ]
  },
  {
   "cell_type": "markdown",
   "metadata": {},
   "source": [
    "It is seen that winners have higher total stake earned. Standard scaling will be used for this feature."
   ]
  },
  {
   "cell_type": "code",
   "execution_count": null,
   "metadata": {},
   "outputs": [],
   "source": [
    "EDA( variable = 'H_TotalStake_norm', text = 'Relative Total Stake by the Horse')"
   ]
  },
  {
   "cell_type": "markdown",
   "metadata": {},
   "source": [
    "By visual insepction, it is observed that relative stake earned by the horse can be used to predict winners effectively."
   ]
  },
  {
   "cell_type": "markdown",
   "metadata": {},
   "source": [
    "### Horses' "
   ]
  },
  {
   "cell_type": "code",
   "execution_count": null,
   "metadata": {},
   "outputs": [],
   "source": [
    "EDA( variable = 'H_Total', text = 'Total Race by the Horse')"
   ]
  },
  {
   "cell_type": "markdown",
   "metadata": {},
   "source": [
    "We attempt to test whether a logrithmatic transformation will reduce the skewness of the distribution."
   ]
  },
  {
   "cell_type": "code",
   "execution_count": null,
   "metadata": {},
   "outputs": [],
   "source": [
    "data_full[ 'log_H_Total'] = np.log( data_full[ 'H_Total'])\n",
    "data_full.loc[ data_full[ 'log_H_Total'] == -np.inf, 'log_H_Total'] = 0\n",
    "EDA( variable = 'log_H_Total', text = 'Total Race by the Horse (log)')"
   ]
  },
  {
   "cell_type": "code",
   "execution_count": null,
   "metadata": {},
   "outputs": [],
   "source": [
    "EDA( variable = 'H_Total_norm', text = 'Relative Total Race by the Horse')"
   ]
  },
  {
   "cell_type": "markdown",
   "metadata": {},
   "source": [
    "The total number of race a horse has participated may not be an effective predictor of winners. If this feature is decided to be used in the model, standard scaling will be performed."
   ]
  },
  {
   "cell_type": "markdown",
   "metadata": {},
   "source": [
    "### Horses' Winning Rates"
   ]
  },
  {
   "cell_type": "code",
   "execution_count": null,
   "metadata": {},
   "outputs": [],
   "source": [
    "EDA( variable = 'H_Rate_win', text = 'Horse\\'s Win Rate', size = 30, height = 100) & (\n",
    "    EDA( variable = 'H_Rate_place', text = 'Horse\\'s Place Rate', size = 30, height = 100)) & (\n",
    "        EDA( variable = 'H_Rate_show', text = 'Horse\\'s Show Rate', size = 30, height = 100))"
   ]
  },
  {
   "cell_type": "code",
   "execution_count": null,
   "metadata": {},
   "outputs": [],
   "source": [
    "EDA( variable = 'H_Rate_win_norm', text = 'Relative Horse\\'s Win Rate', size = 30, height = 100) & (\n",
    "    EDA( variable = 'H_Rate_place_norm', text = 'Relative Horse\\'s Place Rate', size = 30, height = 100)) & (\n",
    "        EDA( variable = 'H_Rate_show_norm', text = 'Relative Horse\\'s Show Rate', size = 30, height = 100))"
   ]
  },
  {
   "cell_type": "markdown",
   "metadata": {},
   "source": [
    "Horses' winning rates may be effective in predicting winners. However, similar to jockeys' and trainers' winning rates, this feature may not be realistically practical due to the timing of data collection."
   ]
  },
  {
   "cell_type": "markdown",
   "metadata": {},
   "source": [
    "### Horse Age"
   ]
  },
  {
   "cell_type": "code",
   "execution_count": null,
   "metadata": {},
   "outputs": [],
   "source": [
    "EDA( variable = 'H_Age', text = 'Horse Age')"
   ]
  },
  {
   "cell_type": "code",
   "execution_count": null,
   "metadata": {},
   "outputs": [],
   "source": [
    "EDA( variable = 'H_Age_norm', text = 'Relative Horse Age')"
   ]
  },
  {
   "cell_type": "markdown",
   "metadata": {},
   "source": [
    "It seems that younger horses in a race can have a sight advantage over the older horses. Standard scaling will be used for this feature."
   ]
  },
  {
   "cell_type": "markdown",
   "metadata": {},
   "source": [
    "### Number of Days since Last Race"
   ]
  },
  {
   "cell_type": "code",
   "execution_count": null,
   "metadata": {},
   "outputs": [],
   "source": [
    "EDA( variable = 'LastRace_nDays', text = '# of Days since Last Race')"
   ]
  },
  {
   "cell_type": "markdown",
   "metadata": {},
   "source": [
    "Logarithmic transformation is applied as the data is highly positively skewed."
   ]
  },
  {
   "cell_type": "code",
   "execution_count": null,
   "metadata": {},
   "outputs": [],
   "source": [
    "data_full[ 'log_LastRace_nDays'] = np.log( data_full[ 'LastRace_nDays'])\n",
    "data_full.loc[ data_full[ 'log_LastRace_nDays'] == -np.inf, 'log_LastRace_nDays'] = 0\n",
    "EDA( variable = 'log_LastRace_nDays', text = '# of Days since Last Race (log)')"
   ]
  },
  {
   "cell_type": "code",
   "execution_count": null,
   "metadata": {},
   "outputs": [],
   "source": [
    "EDA( variable = 'LastRace_nDays_norm', text = 'Relative # of Days since Last Race')"
   ]
  },
  {
   "cell_type": "markdown",
   "metadata": {},
   "source": [
    "The correlation between number of days since the last race is not obvious. For the absolute number of days, standard scaling will be used after logarithmic transformatio is applied."
   ]
  },
  {
   "cell_type": "markdown",
   "metadata": {},
   "source": [
    "### Place in Previous Races"
   ]
  },
  {
   "cell_type": "code",
   "execution_count": null,
   "metadata": {},
   "outputs": [],
   "source": [
    "EDA( variable = 'PreviousPlace', text = 'Place in the Previous Races', size = 30, height = 100) & (\n",
    "    EDA( variable = 'AvgPlace3', text = 'Average Place in the Previous 3 Races', size = 30, height = 100)) & (\n",
    "        EDA( variable = 'AvgPlace5', text = 'Average Place in the Previous 5 Races', size = 30, height = 100))"
   ]
  },
  {
   "cell_type": "code",
   "execution_count": null,
   "metadata": {},
   "outputs": [],
   "source": [
    "EDA( variable = 'PreviousPlace_norm', text = 'Relative Place in the Previous Races', size = 30, height = 100) & (\n",
    "    EDA( variable = 'AvgPlace3_norm', text = 'Relative Average Place in the Previous 3 Races', size = 30, height = 100)) & (\n",
    "        EDA( variable = 'AvgPlace5_norm', text = 'Relative Average Place in the Previous 5 Races', size = 30, height = 100))"
   ]
  },
  {
   "cell_type": "markdown",
   "metadata": {},
   "source": [
    "Winners seem to have better historical results in the past races. The absolute places will be scaled with a standard scaler when used."
   ]
  },
  {
   "cell_type": "markdown",
   "metadata": {},
   "source": [
    "### Change in Horse Weight"
   ]
  },
  {
   "cell_type": "code",
   "execution_count": null,
   "metadata": {},
   "outputs": [],
   "source": [
    "EDA( variable = 'WeightDiff', text = 'Change in Horse Weight')"
   ]
  },
  {
   "cell_type": "code",
   "execution_count": null,
   "metadata": {},
   "outputs": [],
   "source": [
    "EDA( variable = 'WeightDiff_norm', text = 'Relative Change in Horse Weight')"
   ]
  },
  {
   "cell_type": "markdown",
   "metadata": {},
   "source": [
    "Changes in horse weight does not seem to correlated with winning rates. Standard scaling will be used if the feature is included in the models."
   ]
  },
  {
   "cell_type": "markdown",
   "metadata": {},
   "source": [
    "### Rating"
   ]
  },
  {
   "cell_type": "code",
   "execution_count": null,
   "metadata": {},
   "outputs": [],
   "source": [
    "EDA( variable = 'CombinedRating', text = 'Rating')"
   ]
  },
  {
   "cell_type": "code",
   "execution_count": null,
   "metadata": {},
   "outputs": [],
   "source": [
    "EDA( variable = 'CombinedRating_norm', text = 'Relative Rating')"
   ]
  },
  {
   "cell_type": "markdown",
   "metadata": {},
   "source": [
    "Winners seem to have higher ratings. Standard scaling will be applied for the absolute rating."
   ]
  }
 ],
 "metadata": {
  "kernelspec": {
   "display_name": "Python 3 (ipykernel)",
   "language": "python",
   "name": "python3"
  },
  "language_info": {
   "codemirror_mode": {
    "name": "ipython",
    "version": 3
   },
   "file_extension": ".py",
   "mimetype": "text/x-python",
   "name": "python",
   "nbconvert_exporter": "python",
   "pygments_lexer": "ipython3",
   "version": "3.9.13"
  },
  "vscode": {
   "interpreter": {
    "hash": "aa9577bf9db9b144917b0ea983e51eec2009430ca0028f76211db629f8ab9653"
   }
  }
 },
 "nbformat": 4,
 "nbformat_minor": 4
}
