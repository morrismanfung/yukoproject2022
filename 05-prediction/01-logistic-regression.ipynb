{
 "cells": [
  {
   "cell_type": "markdown",
   "id": "49adfc16-a85d-4147-b5d7-c68bd02f630d",
   "metadata": {},
   "source": [
    "## General Data Wrangling"
   ]
  },
  {
   "cell_type": "code",
   "execution_count": 1,
   "id": "23b06c64-e29f-4b6e-a75a-4cb27155a193",
   "metadata": {},
   "outputs": [],
   "source": [
    "import numpy as np\n",
    "import pandas as pd\n",
    "import matplotlib.pyplot as plt\n",
    "import seaborn as sns\n",
    "from sklearn.model_selection import cross_val_score, cross_validate, train_test_split, GridSearchCV, RandomizedSearchCV\n",
    "from sklearn.preprocessing import StandardScaler, FunctionTransformer\n",
    "from sklearn.pipeline import Pipeline, make_pipeline\n",
    "from sklearn.compose import ColumnTransformer, make_column_transformer\n",
    "from sklearn.linear_model import LogisticRegression\n",
    "from sklearn.metrics import classification_report, confusion_matrix"
   ]
  },
  {
   "cell_type": "code",
   "execution_count": 2,
   "id": "9c852635-b091-4111-ab8a-dae66b85bba6",
   "metadata": {},
   "outputs": [
    {
     "name": "stderr",
     "output_type": "stream",
     "text": [
      "C:\\Users\\User\\AppData\\Local\\Temp\\ipykernel_2812\\2406342619.py:1: DtypeWarning: Columns (62) have mixed types. Specify dtype option on import or set low_memory=False.\n",
      "  data_full = pd.read_csv( '../01-data/data_merged_20220910_norm.csv')\n"
     ]
    }
   ],
   "source": [
    "data_full = pd.read_csv( '../01-data/data_merged_20220910_norm.csv')\n",
    "data_full = data_full.query('H_Age<100&Draw>0').reset_index( drop = True)\n",
    "y = data_full[ 'Winner']"
   ]
  },
  {
   "cell_type": "code",
   "execution_count": 3,
   "id": "5dadf8e4-f594-44bc-8366-46f2a36552e4",
   "metadata": {},
   "outputs": [
    {
     "name": "stdout",
     "output_type": "stream",
     "text": [
      "Index(['Place', 'ActualWeight', 'DeclaredHorseWeight', 'Draw', 'WinOdds',\n",
      "       'J_Rate_win', 'J_Rate_place', 'J_Rate_show', 'T_Rate_win',\n",
      "       'T_Rate_place', 'T_Rate_show', 'H_TotalStake', 'H_Total', 'H_Rate_win',\n",
      "       'H_Rate_place', 'H_Rate_show', 'H_Age', 'LastRace_nDays',\n",
      "       'PreviousPlace', 'AvgPlace3', 'AvgPlace5', 'WeightDiff',\n",
      "       'CombinedRating', 'Place_norm', 'ActualWeight_norm',\n",
      "       'DeclaredHorseWeight_norm', 'Draw_norm', 'WinOdds_norm',\n",
      "       'J_Rate_win_norm', 'J_Rate_place_norm', 'J_Rate_show_norm',\n",
      "       'T_Rate_win_norm', 'T_Rate_place_norm', 'T_Rate_show_norm',\n",
      "       'H_TotalStake_norm', 'H_Total_norm', 'H_Rate_win_norm',\n",
      "       'H_Rate_place_norm', 'H_Rate_show_norm', 'H_Age_norm',\n",
      "       'LastRace_nDays_norm', 'PreviousPlace_norm', 'AvgPlace3_norm',\n",
      "       'AvgPlace5_norm', 'WeightDiff_norm', 'CombinedRating_norm'],\n",
      "      dtype='object')\n"
     ]
    }
   ],
   "source": [
    "X = data_full.loc[ :, data_full.columns.str.startswith( 'ActualWeight') | data_full.columns.str.startswith( 'DeclaredHorseWeight') | \\\n",
    "    data_full.columns.str.startswith( 'WinOdds') | data_full.columns.str.startswith( 'Draw') | \\\n",
    "    data_full.columns.str.startswith( 'J_Total_') | data_full.columns.str.startswith( 'J_TotalStakes_') | \\\n",
    "    data_full.columns.str.startswith( 'J_Rate_') | \\\n",
    "    data_full.columns.str.startswith( 'T_Total_') | data_full.columns.str.startswith( 'T_TotalStakes_') | \\\n",
    "    data_full.columns.str.startswith( 'T_Rate') | \\\n",
    "    data_full.columns.str.startswith( 'H_Rate_') | data_full.columns.str.startswith( 'H_Total') | \\\n",
    "    data_full.columns.str.startswith( 'H_TotalStake') | data_full.columns.str.startswith( 'CombinedRating') | \\\n",
    "    data_full.columns.str.startswith( 'H_Age') | data_full.columns.str.startswith( 'WeightDiff') | \\\n",
    "    data_full.columns.str.startswith( 'LastRace_nDays') | data_full.columns.str.startswith( 'PreviousPlace') | \\\n",
    "    data_full.columns.str.startswith( 'AvgPlace3') | data_full.columns.str.startswith( 'AvgPlace5') | \\\n",
    "    data_full.columns.str.startswith( 'Place')] # Place is added for downsampling\n",
    "\n",
    "print( X.columns)"
   ]
  },
  {
   "cell_type": "code",
   "execution_count": 4,
   "id": "33b00a76-fac8-4594-91e1-a9cecba02625",
   "metadata": {},
   "outputs": [],
   "source": [
    "X_train, X_test, y_train, y_test = train_test_split( X, y, test_size = 0.8, random_state = 918)"
   ]
  },
  {
   "cell_type": "code",
   "execution_count": 5,
   "id": "bc73f870-1150-442a-87e4-54cddd35e62c",
   "metadata": {},
   "outputs": [],
   "source": [
    "cols_std = [\n",
    "    'ActualWeight', 'DeclaredHorseWeight', 'Draw', 'H_Age', 'PreviousPlace', 'AvgPlace3', 'AvgPlace5', 'WeightDiff', 'CombinedRating']\n",
    "\n",
    "cols_log_std = [\n",
    "    'WinOdds', 'H_TotalStake', 'H_Total', 'LastRace_nDays']\n",
    "\n",
    "cols_passthrough = [\n",
    "    'J_Rate_win', 'J_Rate_place', 'J_Rate_show', 'T_Rate_win', 'T_Rate_place', 'T_Rate_show',\n",
    "    'H_Rate_win', 'H_Rate_place', 'H_Rate_show',\n",
    "    'ActualWeight_norm', 'DeclaredHorseWeight_norm', 'WinOdds_norm',\n",
    "    'J_Rate_win_norm', 'J_Rate_place_norm', 'J_Rate_show_norm', 'T_Rate_win_norm', 'T_Rate_place_norm', 'T_Rate_show_norm',\n",
    "    'H_TotalStake_norm', 'H_Total_norm', 'H_Rate_win_norm', 'H_Rate_place_norm', 'H_Rate_show_norm', 'H_Age_norm',\n",
    "    'LastRace_nDays_norm', 'PreviousPlace_norm', 'AvgPlace3_norm', 'AvgPlace5_norm', 'WeightDiff_norm', 'CombinedRating_norm']\n",
    "\n",
    "cols_drop = [\n",
    "    'Place', 'Place_norm', 'Draw_norm']"
   ]
  },
  {
   "cell_type": "code",
   "execution_count": 6,
   "id": "d9bf48fd-31b8-42e5-b4e7-a45f3384dc21",
   "metadata": {},
   "outputs": [],
   "source": [
    "def log_func(x):\n",
    "    return np.log( x+1)"
   ]
  },
  {
   "cell_type": "code",
   "execution_count": 7,
   "id": "189c4cf5-b874-4b2f-a47e-7f789758b647",
   "metadata": {},
   "outputs": [],
   "source": [
    "log_transformer = FunctionTransformer( log_func)"
   ]
  },
  {
   "cell_type": "code",
   "execution_count": 8,
   "id": "3febf5db-acca-4053-b926-c8a2e75b51f9",
   "metadata": {},
   "outputs": [],
   "source": [
    "pipe_log_std = make_pipeline(\n",
    "    log_transformer, StandardScaler()\n",
    ")"
   ]
  },
  {
   "cell_type": "code",
   "execution_count": 9,
   "id": "3c9d6fab-fe34-4c23-8f93-f13477580a97",
   "metadata": {},
   "outputs": [],
   "source": [
    "column_transformer = make_column_transformer(\n",
    "    ( StandardScaler(), cols_std),\n",
    "    ( pipe_log_std, cols_log_std),\n",
    "    ( 'passthrough', cols_passthrough),\n",
    "    ( 'drop', cols_drop)\n",
    ")"
   ]
  },
  {
   "cell_type": "markdown",
   "id": "dbcd6360-7016-4863-b8ec-de37fc5fe03d",
   "metadata": {},
   "source": [
    "## Logistic Regression"
   ]
  },
  {
   "cell_type": "code",
   "execution_count": 10,
   "id": "edcbae6b-08ee-4684-8ea6-a82b3b51710b",
   "metadata": {},
   "outputs": [],
   "source": [
    "future_input = pd.read_csv( '01-preprocessed_20221130.csv')"
   ]
  },
  {
   "cell_type": "code",
   "execution_count": 11,
   "id": "08f04f94-476b-45d0-9995-2d4d610bc8d3",
   "metadata": {},
   "outputs": [],
   "source": [
    "pipe_logreg_opt = make_pipeline( column_transformer, LogisticRegression( max_iter = 500, solver = 'saga', C = 0.01, penalty = 'l2'))"
   ]
  },
  {
   "cell_type": "code",
   "execution_count": 12,
   "id": "926ffd54-7a60-4710-97b1-20d087734047",
   "metadata": {},
   "outputs": [
    {
     "data": {
      "text/html": [
       "<style>#sk-container-id-1 {color: black;background-color: white;}#sk-container-id-1 pre{padding: 0;}#sk-container-id-1 div.sk-toggleable {background-color: white;}#sk-container-id-1 label.sk-toggleable__label {cursor: pointer;display: block;width: 100%;margin-bottom: 0;padding: 0.3em;box-sizing: border-box;text-align: center;}#sk-container-id-1 label.sk-toggleable__label-arrow:before {content: \"▸\";float: left;margin-right: 0.25em;color: #696969;}#sk-container-id-1 label.sk-toggleable__label-arrow:hover:before {color: black;}#sk-container-id-1 div.sk-estimator:hover label.sk-toggleable__label-arrow:before {color: black;}#sk-container-id-1 div.sk-toggleable__content {max-height: 0;max-width: 0;overflow: hidden;text-align: left;background-color: #f0f8ff;}#sk-container-id-1 div.sk-toggleable__content pre {margin: 0.2em;color: black;border-radius: 0.25em;background-color: #f0f8ff;}#sk-container-id-1 input.sk-toggleable__control:checked~div.sk-toggleable__content {max-height: 200px;max-width: 100%;overflow: auto;}#sk-container-id-1 input.sk-toggleable__control:checked~label.sk-toggleable__label-arrow:before {content: \"▾\";}#sk-container-id-1 div.sk-estimator input.sk-toggleable__control:checked~label.sk-toggleable__label {background-color: #d4ebff;}#sk-container-id-1 div.sk-label input.sk-toggleable__control:checked~label.sk-toggleable__label {background-color: #d4ebff;}#sk-container-id-1 input.sk-hidden--visually {border: 0;clip: rect(1px 1px 1px 1px);clip: rect(1px, 1px, 1px, 1px);height: 1px;margin: -1px;overflow: hidden;padding: 0;position: absolute;width: 1px;}#sk-container-id-1 div.sk-estimator {font-family: monospace;background-color: #f0f8ff;border: 1px dotted black;border-radius: 0.25em;box-sizing: border-box;margin-bottom: 0.5em;}#sk-container-id-1 div.sk-estimator:hover {background-color: #d4ebff;}#sk-container-id-1 div.sk-parallel-item::after {content: \"\";width: 100%;border-bottom: 1px solid gray;flex-grow: 1;}#sk-container-id-1 div.sk-label:hover label.sk-toggleable__label {background-color: #d4ebff;}#sk-container-id-1 div.sk-serial::before {content: \"\";position: absolute;border-left: 1px solid gray;box-sizing: border-box;top: 0;bottom: 0;left: 50%;z-index: 0;}#sk-container-id-1 div.sk-serial {display: flex;flex-direction: column;align-items: center;background-color: white;padding-right: 0.2em;padding-left: 0.2em;position: relative;}#sk-container-id-1 div.sk-item {position: relative;z-index: 1;}#sk-container-id-1 div.sk-parallel {display: flex;align-items: stretch;justify-content: center;background-color: white;position: relative;}#sk-container-id-1 div.sk-item::before, #sk-container-id-1 div.sk-parallel-item::before {content: \"\";position: absolute;border-left: 1px solid gray;box-sizing: border-box;top: 0;bottom: 0;left: 50%;z-index: -1;}#sk-container-id-1 div.sk-parallel-item {display: flex;flex-direction: column;z-index: 1;position: relative;background-color: white;}#sk-container-id-1 div.sk-parallel-item:first-child::after {align-self: flex-end;width: 50%;}#sk-container-id-1 div.sk-parallel-item:last-child::after {align-self: flex-start;width: 50%;}#sk-container-id-1 div.sk-parallel-item:only-child::after {width: 0;}#sk-container-id-1 div.sk-dashed-wrapped {border: 1px dashed gray;margin: 0 0.4em 0.5em 0.4em;box-sizing: border-box;padding-bottom: 0.4em;background-color: white;}#sk-container-id-1 div.sk-label label {font-family: monospace;font-weight: bold;display: inline-block;line-height: 1.2em;}#sk-container-id-1 div.sk-label-container {text-align: center;}#sk-container-id-1 div.sk-container {/* jupyter's `normalize.less` sets `[hidden] { display: none; }` but bootstrap.min.css set `[hidden] { display: none !important; }` so we also need the `!important` here to be able to override the default hidden behavior on the sphinx rendered scikit-learn.org. See: https://github.com/scikit-learn/scikit-learn/issues/21755 */display: inline-block !important;position: relative;}#sk-container-id-1 div.sk-text-repr-fallback {display: none;}</style><div id=\"sk-container-id-1\" class=\"sk-top-container\"><div class=\"sk-text-repr-fallback\"><pre>Pipeline(steps=[(&#x27;columntransformer&#x27;,\n",
       "                 ColumnTransformer(transformers=[(&#x27;standardscaler&#x27;,\n",
       "                                                  StandardScaler(),\n",
       "                                                  [&#x27;ActualWeight&#x27;,\n",
       "                                                   &#x27;DeclaredHorseWeight&#x27;,\n",
       "                                                   &#x27;Draw&#x27;, &#x27;H_Age&#x27;,\n",
       "                                                   &#x27;PreviousPlace&#x27;, &#x27;AvgPlace3&#x27;,\n",
       "                                                   &#x27;AvgPlace5&#x27;, &#x27;WeightDiff&#x27;,\n",
       "                                                   &#x27;CombinedRating&#x27;]),\n",
       "                                                 (&#x27;pipeline&#x27;,\n",
       "                                                  Pipeline(steps=[(&#x27;functiontransformer&#x27;,\n",
       "                                                                   FunctionTransformer(func=&lt;function log_func at 0x0000020228B2F940&gt;)),\n",
       "                                                                  (&#x27;st...\n",
       "                                                   &#x27;H_TotalStake_norm&#x27;,\n",
       "                                                   &#x27;H_Total_norm&#x27;,\n",
       "                                                   &#x27;H_Rate_win_norm&#x27;,\n",
       "                                                   &#x27;H_Rate_place_norm&#x27;,\n",
       "                                                   &#x27;H_Rate_show_norm&#x27;,\n",
       "                                                   &#x27;H_Age_norm&#x27;,\n",
       "                                                   &#x27;LastRace_nDays_norm&#x27;,\n",
       "                                                   &#x27;PreviousPlace_norm&#x27;,\n",
       "                                                   &#x27;AvgPlace3_norm&#x27;,\n",
       "                                                   &#x27;AvgPlace5_norm&#x27;,\n",
       "                                                   &#x27;WeightDiff_norm&#x27;,\n",
       "                                                   &#x27;CombinedRating_norm&#x27;]),\n",
       "                                                 (&#x27;drop&#x27;, &#x27;drop&#x27;,\n",
       "                                                  [&#x27;Place&#x27;, &#x27;Place_norm&#x27;,\n",
       "                                                   &#x27;Draw_norm&#x27;])])),\n",
       "                (&#x27;logisticregression&#x27;,\n",
       "                 LogisticRegression(C=0.01, max_iter=500, solver=&#x27;saga&#x27;))])</pre><b>In a Jupyter environment, please rerun this cell to show the HTML representation or trust the notebook. <br />On GitHub, the HTML representation is unable to render, please try loading this page with nbviewer.org.</b></div><div class=\"sk-container\" hidden><div class=\"sk-item sk-dashed-wrapped\"><div class=\"sk-label-container\"><div class=\"sk-label sk-toggleable\"><input class=\"sk-toggleable__control sk-hidden--visually\" id=\"sk-estimator-id-1\" type=\"checkbox\" ><label for=\"sk-estimator-id-1\" class=\"sk-toggleable__label sk-toggleable__label-arrow\">Pipeline</label><div class=\"sk-toggleable__content\"><pre>Pipeline(steps=[(&#x27;columntransformer&#x27;,\n",
       "                 ColumnTransformer(transformers=[(&#x27;standardscaler&#x27;,\n",
       "                                                  StandardScaler(),\n",
       "                                                  [&#x27;ActualWeight&#x27;,\n",
       "                                                   &#x27;DeclaredHorseWeight&#x27;,\n",
       "                                                   &#x27;Draw&#x27;, &#x27;H_Age&#x27;,\n",
       "                                                   &#x27;PreviousPlace&#x27;, &#x27;AvgPlace3&#x27;,\n",
       "                                                   &#x27;AvgPlace5&#x27;, &#x27;WeightDiff&#x27;,\n",
       "                                                   &#x27;CombinedRating&#x27;]),\n",
       "                                                 (&#x27;pipeline&#x27;,\n",
       "                                                  Pipeline(steps=[(&#x27;functiontransformer&#x27;,\n",
       "                                                                   FunctionTransformer(func=&lt;function log_func at 0x0000020228B2F940&gt;)),\n",
       "                                                                  (&#x27;st...\n",
       "                                                   &#x27;H_TotalStake_norm&#x27;,\n",
       "                                                   &#x27;H_Total_norm&#x27;,\n",
       "                                                   &#x27;H_Rate_win_norm&#x27;,\n",
       "                                                   &#x27;H_Rate_place_norm&#x27;,\n",
       "                                                   &#x27;H_Rate_show_norm&#x27;,\n",
       "                                                   &#x27;H_Age_norm&#x27;,\n",
       "                                                   &#x27;LastRace_nDays_norm&#x27;,\n",
       "                                                   &#x27;PreviousPlace_norm&#x27;,\n",
       "                                                   &#x27;AvgPlace3_norm&#x27;,\n",
       "                                                   &#x27;AvgPlace5_norm&#x27;,\n",
       "                                                   &#x27;WeightDiff_norm&#x27;,\n",
       "                                                   &#x27;CombinedRating_norm&#x27;]),\n",
       "                                                 (&#x27;drop&#x27;, &#x27;drop&#x27;,\n",
       "                                                  [&#x27;Place&#x27;, &#x27;Place_norm&#x27;,\n",
       "                                                   &#x27;Draw_norm&#x27;])])),\n",
       "                (&#x27;logisticregression&#x27;,\n",
       "                 LogisticRegression(C=0.01, max_iter=500, solver=&#x27;saga&#x27;))])</pre></div></div></div><div class=\"sk-serial\"><div class=\"sk-item sk-dashed-wrapped\"><div class=\"sk-label-container\"><div class=\"sk-label sk-toggleable\"><input class=\"sk-toggleable__control sk-hidden--visually\" id=\"sk-estimator-id-2\" type=\"checkbox\" ><label for=\"sk-estimator-id-2\" class=\"sk-toggleable__label sk-toggleable__label-arrow\">columntransformer: ColumnTransformer</label><div class=\"sk-toggleable__content\"><pre>ColumnTransformer(transformers=[(&#x27;standardscaler&#x27;, StandardScaler(),\n",
       "                                 [&#x27;ActualWeight&#x27;, &#x27;DeclaredHorseWeight&#x27;, &#x27;Draw&#x27;,\n",
       "                                  &#x27;H_Age&#x27;, &#x27;PreviousPlace&#x27;, &#x27;AvgPlace3&#x27;,\n",
       "                                  &#x27;AvgPlace5&#x27;, &#x27;WeightDiff&#x27;,\n",
       "                                  &#x27;CombinedRating&#x27;]),\n",
       "                                (&#x27;pipeline&#x27;,\n",
       "                                 Pipeline(steps=[(&#x27;functiontransformer&#x27;,\n",
       "                                                  FunctionTransformer(func=&lt;function log_func at 0x0000020228B2F940&gt;)),\n",
       "                                                 (&#x27;standardscaler&#x27;,\n",
       "                                                  StandardScaler())]),\n",
       "                                 [&#x27;W...\n",
       "                                  &#x27;J_Rate_show_norm&#x27;, &#x27;T_Rate_win_norm&#x27;,\n",
       "                                  &#x27;T_Rate_place_norm&#x27;, &#x27;T_Rate_show_norm&#x27;,\n",
       "                                  &#x27;H_TotalStake_norm&#x27;, &#x27;H_Total_norm&#x27;,\n",
       "                                  &#x27;H_Rate_win_norm&#x27;, &#x27;H_Rate_place_norm&#x27;,\n",
       "                                  &#x27;H_Rate_show_norm&#x27;, &#x27;H_Age_norm&#x27;,\n",
       "                                  &#x27;LastRace_nDays_norm&#x27;, &#x27;PreviousPlace_norm&#x27;,\n",
       "                                  &#x27;AvgPlace3_norm&#x27;, &#x27;AvgPlace5_norm&#x27;,\n",
       "                                  &#x27;WeightDiff_norm&#x27;, &#x27;CombinedRating_norm&#x27;]),\n",
       "                                (&#x27;drop&#x27;, &#x27;drop&#x27;,\n",
       "                                 [&#x27;Place&#x27;, &#x27;Place_norm&#x27;, &#x27;Draw_norm&#x27;])])</pre></div></div></div><div class=\"sk-parallel\"><div class=\"sk-parallel-item\"><div class=\"sk-item\"><div class=\"sk-label-container\"><div class=\"sk-label sk-toggleable\"><input class=\"sk-toggleable__control sk-hidden--visually\" id=\"sk-estimator-id-3\" type=\"checkbox\" ><label for=\"sk-estimator-id-3\" class=\"sk-toggleable__label sk-toggleable__label-arrow\">standardscaler</label><div class=\"sk-toggleable__content\"><pre>[&#x27;ActualWeight&#x27;, &#x27;DeclaredHorseWeight&#x27;, &#x27;Draw&#x27;, &#x27;H_Age&#x27;, &#x27;PreviousPlace&#x27;, &#x27;AvgPlace3&#x27;, &#x27;AvgPlace5&#x27;, &#x27;WeightDiff&#x27;, &#x27;CombinedRating&#x27;]</pre></div></div></div><div class=\"sk-serial\"><div class=\"sk-item\"><div class=\"sk-estimator sk-toggleable\"><input class=\"sk-toggleable__control sk-hidden--visually\" id=\"sk-estimator-id-4\" type=\"checkbox\" ><label for=\"sk-estimator-id-4\" class=\"sk-toggleable__label sk-toggleable__label-arrow\">StandardScaler</label><div class=\"sk-toggleable__content\"><pre>StandardScaler()</pre></div></div></div></div></div></div><div class=\"sk-parallel-item\"><div class=\"sk-item\"><div class=\"sk-label-container\"><div class=\"sk-label sk-toggleable\"><input class=\"sk-toggleable__control sk-hidden--visually\" id=\"sk-estimator-id-5\" type=\"checkbox\" ><label for=\"sk-estimator-id-5\" class=\"sk-toggleable__label sk-toggleable__label-arrow\">pipeline</label><div class=\"sk-toggleable__content\"><pre>[&#x27;WinOdds&#x27;, &#x27;H_TotalStake&#x27;, &#x27;H_Total&#x27;, &#x27;LastRace_nDays&#x27;]</pre></div></div></div><div class=\"sk-serial\"><div class=\"sk-item\"><div class=\"sk-serial\"><div class=\"sk-item\"><div class=\"sk-estimator sk-toggleable\"><input class=\"sk-toggleable__control sk-hidden--visually\" id=\"sk-estimator-id-6\" type=\"checkbox\" ><label for=\"sk-estimator-id-6\" class=\"sk-toggleable__label sk-toggleable__label-arrow\">FunctionTransformer</label><div class=\"sk-toggleable__content\"><pre>FunctionTransformer(func=&lt;function log_func at 0x0000020228B2F940&gt;)</pre></div></div></div><div class=\"sk-item\"><div class=\"sk-estimator sk-toggleable\"><input class=\"sk-toggleable__control sk-hidden--visually\" id=\"sk-estimator-id-7\" type=\"checkbox\" ><label for=\"sk-estimator-id-7\" class=\"sk-toggleable__label sk-toggleable__label-arrow\">StandardScaler</label><div class=\"sk-toggleable__content\"><pre>StandardScaler()</pre></div></div></div></div></div></div></div></div><div class=\"sk-parallel-item\"><div class=\"sk-item\"><div class=\"sk-label-container\"><div class=\"sk-label sk-toggleable\"><input class=\"sk-toggleable__control sk-hidden--visually\" id=\"sk-estimator-id-8\" type=\"checkbox\" ><label for=\"sk-estimator-id-8\" class=\"sk-toggleable__label sk-toggleable__label-arrow\">passthrough</label><div class=\"sk-toggleable__content\"><pre>[&#x27;J_Rate_win&#x27;, &#x27;J_Rate_place&#x27;, &#x27;J_Rate_show&#x27;, &#x27;T_Rate_win&#x27;, &#x27;T_Rate_place&#x27;, &#x27;T_Rate_show&#x27;, &#x27;H_Rate_win&#x27;, &#x27;H_Rate_place&#x27;, &#x27;H_Rate_show&#x27;, &#x27;ActualWeight_norm&#x27;, &#x27;DeclaredHorseWeight_norm&#x27;, &#x27;WinOdds_norm&#x27;, &#x27;J_Rate_win_norm&#x27;, &#x27;J_Rate_place_norm&#x27;, &#x27;J_Rate_show_norm&#x27;, &#x27;T_Rate_win_norm&#x27;, &#x27;T_Rate_place_norm&#x27;, &#x27;T_Rate_show_norm&#x27;, &#x27;H_TotalStake_norm&#x27;, &#x27;H_Total_norm&#x27;, &#x27;H_Rate_win_norm&#x27;, &#x27;H_Rate_place_norm&#x27;, &#x27;H_Rate_show_norm&#x27;, &#x27;H_Age_norm&#x27;, &#x27;LastRace_nDays_norm&#x27;, &#x27;PreviousPlace_norm&#x27;, &#x27;AvgPlace3_norm&#x27;, &#x27;AvgPlace5_norm&#x27;, &#x27;WeightDiff_norm&#x27;, &#x27;CombinedRating_norm&#x27;]</pre></div></div></div><div class=\"sk-serial\"><div class=\"sk-item\"><div class=\"sk-estimator sk-toggleable\"><input class=\"sk-toggleable__control sk-hidden--visually\" id=\"sk-estimator-id-9\" type=\"checkbox\" ><label for=\"sk-estimator-id-9\" class=\"sk-toggleable__label sk-toggleable__label-arrow\">passthrough</label><div class=\"sk-toggleable__content\"><pre>passthrough</pre></div></div></div></div></div></div><div class=\"sk-parallel-item\"><div class=\"sk-item\"><div class=\"sk-label-container\"><div class=\"sk-label sk-toggleable\"><input class=\"sk-toggleable__control sk-hidden--visually\" id=\"sk-estimator-id-10\" type=\"checkbox\" ><label for=\"sk-estimator-id-10\" class=\"sk-toggleable__label sk-toggleable__label-arrow\">drop</label><div class=\"sk-toggleable__content\"><pre>[&#x27;Place&#x27;, &#x27;Place_norm&#x27;, &#x27;Draw_norm&#x27;]</pre></div></div></div><div class=\"sk-serial\"><div class=\"sk-item\"><div class=\"sk-estimator sk-toggleable\"><input class=\"sk-toggleable__control sk-hidden--visually\" id=\"sk-estimator-id-11\" type=\"checkbox\" ><label for=\"sk-estimator-id-11\" class=\"sk-toggleable__label sk-toggleable__label-arrow\">drop</label><div class=\"sk-toggleable__content\"><pre>drop</pre></div></div></div></div></div></div></div></div><div class=\"sk-item\"><div class=\"sk-estimator sk-toggleable\"><input class=\"sk-toggleable__control sk-hidden--visually\" id=\"sk-estimator-id-12\" type=\"checkbox\" ><label for=\"sk-estimator-id-12\" class=\"sk-toggleable__label sk-toggleable__label-arrow\">LogisticRegression</label><div class=\"sk-toggleable__content\"><pre>LogisticRegression(C=0.01, max_iter=500, solver=&#x27;saga&#x27;)</pre></div></div></div></div></div></div></div>"
      ],
      "text/plain": [
       "Pipeline(steps=[('columntransformer',\n",
       "                 ColumnTransformer(transformers=[('standardscaler',\n",
       "                                                  StandardScaler(),\n",
       "                                                  ['ActualWeight',\n",
       "                                                   'DeclaredHorseWeight',\n",
       "                                                   'Draw', 'H_Age',\n",
       "                                                   'PreviousPlace', 'AvgPlace3',\n",
       "                                                   'AvgPlace5', 'WeightDiff',\n",
       "                                                   'CombinedRating']),\n",
       "                                                 ('pipeline',\n",
       "                                                  Pipeline(steps=[('functiontransformer',\n",
       "                                                                   FunctionTransformer(func=<function log_func at 0x0000020228B2F940>)),\n",
       "                                                                  ('st...\n",
       "                                                   'H_TotalStake_norm',\n",
       "                                                   'H_Total_norm',\n",
       "                                                   'H_Rate_win_norm',\n",
       "                                                   'H_Rate_place_norm',\n",
       "                                                   'H_Rate_show_norm',\n",
       "                                                   'H_Age_norm',\n",
       "                                                   'LastRace_nDays_norm',\n",
       "                                                   'PreviousPlace_norm',\n",
       "                                                   'AvgPlace3_norm',\n",
       "                                                   'AvgPlace5_norm',\n",
       "                                                   'WeightDiff_norm',\n",
       "                                                   'CombinedRating_norm']),\n",
       "                                                 ('drop', 'drop',\n",
       "                                                  ['Place', 'Place_norm',\n",
       "                                                   'Draw_norm'])])),\n",
       "                ('logisticregression',\n",
       "                 LogisticRegression(C=0.01, max_iter=500, solver='saga'))])"
      ]
     },
     "execution_count": 12,
     "metadata": {},
     "output_type": "execute_result"
    }
   ],
   "source": [
    "pipe_logreg_opt.fit( X_train, y_train)"
   ]
  },
  {
   "cell_type": "code",
   "execution_count": 13,
   "id": "89b0b8c7-f192-47a8-967e-d58d4dece361",
   "metadata": {},
   "outputs": [],
   "source": [
    "y_hat = pipe_logreg_opt.predict( future_input)"
   ]
  },
  {
   "cell_type": "code",
   "execution_count": 14,
   "id": "dbd42b62-c5ab-4d6d-93cf-814da6763495",
   "metadata": {},
   "outputs": [
    {
     "data": {
      "text/plain": [
       "array([False, False, False, False, False, False, False, False, False,\n",
       "       False, False, False, False, False, False, False, False, False,\n",
       "       False, False, False, False, False, False, False, False, False,\n",
       "       False, False, False, False, False, False, False, False, False,\n",
       "       False, False, False, False, False, False, False, False, False,\n",
       "       False, False, False, False, False, False, False, False, False,\n",
       "       False, False, False, False, False, False, False, False, False,\n",
       "       False, False, False, False, False, False, False, False, False,\n",
       "       False, False, False, False, False, False, False, False, False,\n",
       "       False, False, False, False, False, False, False, False, False,\n",
       "       False, False, False, False, False, False])"
      ]
     },
     "execution_count": 14,
     "metadata": {},
     "output_type": "execute_result"
    }
   ],
   "source": [
    "y_hat"
   ]
  },
  {
   "cell_type": "code",
   "execution_count": 15,
   "id": "9c83f2ee-3171-4e39-8d32-d3234287e324",
   "metadata": {},
   "outputs": [
    {
     "data": {
      "text/plain": [
       "'No horse predicted as winner'"
      ]
     },
     "execution_count": 15,
     "metadata": {},
     "output_type": "execute_result"
    }
   ],
   "source": [
    "future_input[ 'prediction'] = y_hat\n",
    "output = future_input[ ['Race', 'HorseNo', 'HorseName', 'WinOdds', 'prediction']].query( 'prediction == True')\n",
    "if len( output) == 0:\n",
    "    output = 'No horse predicted as winner'\n",
    "output"
   ]
  },
  {
   "cell_type": "code",
   "execution_count": 21,
   "id": "67efbac4-010f-4eec-9bbe-9396dfa8d785",
   "metadata": {},
   "outputs": [],
   "source": [
    "def logreg_by_proba( pipe_logreg, X_test, threshold):\n",
    "    proba = pipe_logreg.predict_proba( X_test)[ :, 1]\n",
    "    y_hat = proba > threshold\n",
    "    return y_hat"
   ]
  },
  {
   "cell_type": "code",
   "execution_count": 22,
   "id": "4a484954-c99c-4e67-8913-565eed80510d",
   "metadata": {},
   "outputs": [
    {
     "data": {
      "text/plain": [
       "'No horse predicted as winner'"
      ]
     },
     "execution_count": 22,
     "metadata": {},
     "output_type": "execute_result"
    }
   ],
   "source": [
    "y_hat_proba = logreg_by_proba( pipe_logreg_opt, future_input, 0.45)\n",
    "output = future_input[ ['Race', 'HorseNo', 'HorseName', 'WinOdds', 'prediction']].query( 'prediction == True')\n",
    "if len( output) == 0:\n",
    "    output = 'No horse predicted as winner'\n",
    "output"
   ]
  }
 ],
 "metadata": {
  "kernelspec": {
   "display_name": "Python 3 (ipykernel)",
   "language": "python",
   "name": "python3"
  },
  "language_info": {
   "codemirror_mode": {
    "name": "ipython",
    "version": 3
   },
   "file_extension": ".py",
   "mimetype": "text/x-python",
   "name": "python",
   "nbconvert_exporter": "python",
   "pygments_lexer": "ipython3",
   "version": "3.9.13"
  },
  "vscode": {
   "interpreter": {
    "hash": "aa9577bf9db9b144917b0ea983e51eec2009430ca0028f76211db629f8ab9653"
   }
  }
 },
 "nbformat": 4,
 "nbformat_minor": 5
}
