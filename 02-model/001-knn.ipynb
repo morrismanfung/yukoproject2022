{
 "cells": [
  {
   "cell_type": "markdown",
   "id": "49adfc16-a85d-4147-b5d7-c68bd02f630d",
   "metadata": {},
   "source": [
    "## General Data Wrangling"
   ]
  },
  {
   "cell_type": "code",
   "execution_count": 2,
   "id": "23b06c64-e29f-4b6e-a75a-4cb27155a193",
   "metadata": {},
   "outputs": [],
   "source": [
    "import numpy as np\n",
    "import pandas as pd\n",
    "import matplotlib.pyplot as plt\n",
    "import seaborn as sns\n",
    "from sklearn.model_selection import cross_val_score, cross_validate, train_test_split, GridSearchCV\n",
    "from sklearn.preprocessing import StandardScaler, FunctionTransformer\n",
    "from sklearn.pipeline import Pipeline, make_pipeline\n",
    "from sklearn.compose import ColumnTransformer, make_column_transformer\n",
    "from sklearn.neighbors import KNeighborsClassifier\n",
    "from sklearn.metrics import classification_report, confusion_matrix"
   ]
  },
  {
   "cell_type": "code",
   "execution_count": 3,
   "id": "9c852635-b091-4111-ab8a-dae66b85bba6",
   "metadata": {},
   "outputs": [
    {
     "name": "stderr",
     "output_type": "stream",
     "text": [
      "C:\\Users\\User\\AppData\\Local\\Temp\\ipykernel_14460\\2406342619.py:1: DtypeWarning: Columns (62) have mixed types. Specify dtype option on import or set low_memory=False.\n",
      "  data_full = pd.read_csv( '../01-data/data_merged_20220910_norm.csv')\n"
     ]
    }
   ],
   "source": [
    "data_full = pd.read_csv( '../01-data/data_merged_20220910_norm.csv')\n",
    "data_full = data_full.query('H_Age<100&Draw>0').reset_index( drop = True)\n",
    "y = data_full[ 'Winner']"
   ]
  },
  {
   "cell_type": "code",
   "execution_count": 4,
   "id": "5dadf8e4-f594-44bc-8366-46f2a36552e4",
   "metadata": {},
   "outputs": [
    {
     "name": "stdout",
     "output_type": "stream",
     "text": [
      "Index(['Place', 'ActualWeight', 'DeclaredHorseWeight', 'Draw', 'WinOdds',\n",
      "       'J_Rate_win', 'J_Rate_place', 'J_Rate_show', 'T_Rate_win',\n",
      "       'T_Rate_place', 'T_Rate_show', 'H_TotalStake', 'H_Total', 'H_Rate_win',\n",
      "       'H_Rate_place', 'H_Rate_show', 'H_Age', 'LastRace_nDays',\n",
      "       'PreviousPlace', 'AvgPlace3', 'AvgPlace5', 'WeightDiff',\n",
      "       'CombinedRating', 'Place_norm', 'ActualWeight_norm',\n",
      "       'DeclaredHorseWeight_norm', 'Draw_norm', 'WinOdds_norm',\n",
      "       'J_Rate_win_norm', 'J_Rate_place_norm', 'J_Rate_show_norm',\n",
      "       'T_Rate_win_norm', 'T_Rate_place_norm', 'T_Rate_show_norm',\n",
      "       'H_TotalStake_norm', 'H_Total_norm', 'H_Rate_win_norm',\n",
      "       'H_Rate_place_norm', 'H_Rate_show_norm', 'H_Age_norm',\n",
      "       'LastRace_nDays_norm', 'PreviousPlace_norm', 'AvgPlace3_norm',\n",
      "       'AvgPlace5_norm', 'WeightDiff_norm', 'CombinedRating_norm'],\n",
      "      dtype='object')\n"
     ]
    }
   ],
   "source": [
    "X = data_full.loc[ :, data_full.columns.str.startswith( 'ActualWeight') | data_full.columns.str.startswith( 'DeclaredHorseWeight') | \\\n",
    "    data_full.columns.str.startswith( 'WinOdds') | data_full.columns.str.startswith( 'Draw') | \\\n",
    "    data_full.columns.str.startswith( 'J_Total_') | data_full.columns.str.startswith( 'J_TotalStakes_') | \\\n",
    "    data_full.columns.str.startswith( 'J_Rate_') | \\\n",
    "    data_full.columns.str.startswith( 'T_Total_') | data_full.columns.str.startswith( 'T_TotalStakes_') | \\\n",
    "    data_full.columns.str.startswith( 'T_Rate') | \\\n",
    "    data_full.columns.str.startswith( 'H_Rate_') | data_full.columns.str.startswith( 'H_Total') | \\\n",
    "    data_full.columns.str.startswith( 'H_TotalStake') | data_full.columns.str.startswith( 'CombinedRating') | \\\n",
    "    data_full.columns.str.startswith( 'H_Age') | data_full.columns.str.startswith( 'WeightDiff') | \\\n",
    "    data_full.columns.str.startswith( 'LastRace_nDays') | data_full.columns.str.startswith( 'PreviousPlace') | \\\n",
    "    data_full.columns.str.startswith( 'AvgPlace3') | data_full.columns.str.startswith( 'AvgPlace5') | \\\n",
    "    data_full.columns.str.startswith( 'Place')] # Place is added for downsampling\n",
    "\n",
    "print( X.columns)"
   ]
  },
  {
   "cell_type": "code",
   "execution_count": 5,
   "id": "33b00a76-fac8-4594-91e1-a9cecba02625",
   "metadata": {},
   "outputs": [],
   "source": [
    "X_train, X_test, y_train, y_test = train_test_split( X, y, test_size = 0.8, random_state = 918)"
   ]
  },
  {
   "cell_type": "markdown",
   "id": "fb067844-e2a0-4591-af59-e76e58e0e8f6",
   "metadata": {},
   "source": [
    "Variables and corresponding transformations. (All relative indexes will not be transformed as they are theoretically normal)\n",
    "\n",
    "\n",
    "| Variable | Log? | Scaling |\n",
    "|----------|------|---------|\n",
    "| ActualWeight | No | Standard |\n",
    "| DeclaredHorseWeight | No | Standard |\n",
    "| Draw | No | Standard (_Ordinal_+Scaling) |\n",
    "| WinOdds | Yes  |Standard |\n",
    "| J_Rate_* | No | None |\n",
    "| T_Rate_* | No | None |\n",
    "| H_TotalStake | Yes | Standard |\n",
    "| H_Total | Yes | Standard |\n",
    "| H_Rate_* | No | None |\n",
    "| H_Age | No | Standard |\n",
    "| LastRace_nDays | Yes | Standard |\n",
    "| PreviousPlace | No | Standard |\n",
    "| AvgPlace* | No | Standard |\n",
    "| WeightDiff | No | Standard |\n",
    "| Rating | No | Standard |\n"
   ]
  },
  {
   "cell_type": "code",
   "execution_count": 6,
   "id": "bc73f870-1150-442a-87e4-54cddd35e62c",
   "metadata": {},
   "outputs": [],
   "source": [
    "cols_std = [\n",
    "    'ActualWeight', 'DeclaredHorseWeight', 'Draw', 'H_Age', 'PreviousPlace', 'AvgPlace3', 'AvgPlace5', 'WeightDiff', 'CombinedRating']\n",
    "\n",
    "cols_log_std = [\n",
    "    'WinOdds', 'H_TotalStake', 'H_Total', 'LastRace_nDays']\n",
    "\n",
    "cols_passthrough = [\n",
    "    'J_Rate_win', 'J_Rate_place', 'J_Rate_show', 'T_Rate_win', 'T_Rate_place', 'T_Rate_show',\n",
    "    'H_Rate_win', 'H_Rate_place', 'H_Rate_show',\n",
    "    'ActualWeight_norm', 'DeclaredHorseWeight_norm', 'WinOdds_norm',\n",
    "    'J_Rate_win_norm', 'J_Rate_place_norm', 'J_Rate_show_norm', 'T_Rate_win_norm', 'T_Rate_place_norm', 'T_Rate_show_norm',\n",
    "    'H_TotalStake_norm', 'H_Total_norm', 'H_Rate_win_norm', 'H_Rate_place_norm', 'H_Rate_show_norm', 'H_Age_norm',\n",
    "    'LastRace_nDays_norm', 'PreviousPlace_norm', 'AvgPlace3_norm', 'AvgPlace5_norm', 'WeightDiff_norm', 'CombinedRating_norm']\n",
    "\n",
    "cols_drop = [\n",
    "    'Place', 'Place_norm', 'Draw_norm']"
   ]
  },
  {
   "cell_type": "code",
   "execution_count": 7,
   "id": "d9bf48fd-31b8-42e5-b4e7-a45f3384dc21",
   "metadata": {},
   "outputs": [],
   "source": [
    "def log_func(x):\n",
    "    return np.log(x+1)"
   ]
  },
  {
   "cell_type": "code",
   "execution_count": 8,
   "id": "189c4cf5-b874-4b2f-a47e-7f789758b647",
   "metadata": {},
   "outputs": [],
   "source": [
    "log_transformer = FunctionTransformer( log_func)"
   ]
  },
  {
   "cell_type": "code",
   "execution_count": 9,
   "id": "3febf5db-acca-4053-b926-c8a2e75b51f9",
   "metadata": {},
   "outputs": [],
   "source": [
    "pipe_log_std = make_pipeline(\n",
    "    log_transformer, StandardScaler()\n",
    ")"
   ]
  },
  {
   "cell_type": "code",
   "execution_count": 10,
   "id": "3c9d6fab-fe34-4c23-8f93-f13477580a97",
   "metadata": {},
   "outputs": [],
   "source": [
    "column_transformer = make_column_transformer(\n",
    "    ( StandardScaler(), cols_std),\n",
    "    ( pipe_log_std, cols_log_std),\n",
    "    ( 'passthrough', cols_passthrough),\n",
    "    ( 'drop', cols_drop)\n",
    ")"
   ]
  },
  {
   "cell_type": "markdown",
   "id": "dbcd6360-7016-4863-b8ec-de37fc5fe03d",
   "metadata": {},
   "source": [
    "## KNN"
   ]
  },
  {
   "cell_type": "code",
   "execution_count": 11,
   "id": "29d4bb5c-aeb1-4581-8005-5773644a1358",
   "metadata": {},
   "outputs": [],
   "source": [
    "pipe_knn = make_pipeline( column_transformer, KNeighborsClassifier())"
   ]
  },
  {
   "cell_type": "code",
   "execution_count": 16,
   "id": "14e2536c-45ef-4534-b009-542c8ff6d225",
   "metadata": {},
   "outputs": [],
   "source": [
    "cv_result = cross_validate( pipe_knn, X_train, y_train, cv = 5, return_train_score = True, scoring = 'precision')"
   ]
  },
  {
   "cell_type": "code",
   "execution_count": 17,
   "id": "d0d04dd8-362b-4682-afce-23f4571de8fe",
   "metadata": {},
   "outputs": [
    {
     "data": {
      "text/html": [
       "<div>\n",
       "<style scoped>\n",
       "    .dataframe tbody tr th:only-of-type {\n",
       "        vertical-align: middle;\n",
       "    }\n",
       "\n",
       "    .dataframe tbody tr th {\n",
       "        vertical-align: top;\n",
       "    }\n",
       "\n",
       "    .dataframe thead th {\n",
       "        text-align: right;\n",
       "    }\n",
       "</style>\n",
       "<table border=\"1\" class=\"dataframe\">\n",
       "  <thead>\n",
       "    <tr style=\"text-align: right;\">\n",
       "      <th></th>\n",
       "      <th>fit_time</th>\n",
       "      <th>score_time</th>\n",
       "      <th>test_score</th>\n",
       "      <th>train_score</th>\n",
       "    </tr>\n",
       "  </thead>\n",
       "  <tbody>\n",
       "    <tr>\n",
       "      <th>0</th>\n",
       "      <td>0.026145</td>\n",
       "      <td>0.136079</td>\n",
       "      <td>0.352941</td>\n",
       "      <td>0.660714</td>\n",
       "    </tr>\n",
       "    <tr>\n",
       "      <th>1</th>\n",
       "      <td>0.014037</td>\n",
       "      <td>0.085500</td>\n",
       "      <td>0.250000</td>\n",
       "      <td>0.742424</td>\n",
       "    </tr>\n",
       "    <tr>\n",
       "      <th>2</th>\n",
       "      <td>0.015023</td>\n",
       "      <td>0.086083</td>\n",
       "      <td>0.428571</td>\n",
       "      <td>0.661290</td>\n",
       "    </tr>\n",
       "    <tr>\n",
       "      <th>3</th>\n",
       "      <td>0.016983</td>\n",
       "      <td>0.085073</td>\n",
       "      <td>0.352941</td>\n",
       "      <td>0.754098</td>\n",
       "    </tr>\n",
       "    <tr>\n",
       "      <th>4</th>\n",
       "      <td>0.022173</td>\n",
       "      <td>0.135121</td>\n",
       "      <td>0.312500</td>\n",
       "      <td>0.666667</td>\n",
       "    </tr>\n",
       "  </tbody>\n",
       "</table>\n",
       "</div>"
      ],
      "text/plain": [
       "   fit_time  score_time  test_score  train_score\n",
       "0  0.026145    0.136079    0.352941     0.660714\n",
       "1  0.014037    0.085500    0.250000     0.742424\n",
       "2  0.015023    0.086083    0.428571     0.661290\n",
       "3  0.016983    0.085073    0.352941     0.754098\n",
       "4  0.022173    0.135121    0.312500     0.666667"
      ]
     },
     "execution_count": 17,
     "metadata": {},
     "output_type": "execute_result"
    }
   ],
   "source": [
    "pd.DataFrame( cv_result)"
   ]
  },
  {
   "cell_type": "code",
   "execution_count": 18,
   "id": "29a27ca1-9dd8-46df-8892-7b7671ba0732",
   "metadata": {},
   "outputs": [
    {
     "data": {
      "text/plain": [
       "fit_time       0.018872\n",
       "score_time     0.105571\n",
       "test_score     0.339391\n",
       "train_score    0.697039\n",
       "dtype: float64"
      ]
     },
     "execution_count": 18,
     "metadata": {},
     "output_type": "execute_result"
    }
   ],
   "source": [
    "pd.DataFrame( cv_result).mean()"
   ]
  },
  {
   "cell_type": "markdown",
   "id": "a8289e82-2a57-4829-ae0b-12bb5861e85c",
   "metadata": {},
   "source": [
    "## Hyperparameter optimization"
   ]
  },
  {
   "cell_type": "code",
   "execution_count": 26,
   "id": "a81eb306-ee30-44e5-8229-22657c3aa354",
   "metadata": {},
   "outputs": [],
   "source": [
    "param_grid = {\n",
    "    \"kneighborsclassifier__n_neighbors\": list( range( 5, 35, 5))\n",
    "}\n",
    "\n",
    "grid_search = GridSearchCV(\n",
    "    pipe_knn, param_grid, cv = 5, scoring = 'precision', n_jobs=-1, return_train_score = True\n",
    ")"
   ]
  },
  {
   "cell_type": "code",
   "execution_count": 27,
   "id": "d7f06498-56d6-4973-b028-39a357228c7d",
   "metadata": {},
   "outputs": [
    {
     "data": {
      "text/html": [
       "<style>#sk-container-id-4 {color: black;background-color: white;}#sk-container-id-4 pre{padding: 0;}#sk-container-id-4 div.sk-toggleable {background-color: white;}#sk-container-id-4 label.sk-toggleable__label {cursor: pointer;display: block;width: 100%;margin-bottom: 0;padding: 0.3em;box-sizing: border-box;text-align: center;}#sk-container-id-4 label.sk-toggleable__label-arrow:before {content: \"▸\";float: left;margin-right: 0.25em;color: #696969;}#sk-container-id-4 label.sk-toggleable__label-arrow:hover:before {color: black;}#sk-container-id-4 div.sk-estimator:hover label.sk-toggleable__label-arrow:before {color: black;}#sk-container-id-4 div.sk-toggleable__content {max-height: 0;max-width: 0;overflow: hidden;text-align: left;background-color: #f0f8ff;}#sk-container-id-4 div.sk-toggleable__content pre {margin: 0.2em;color: black;border-radius: 0.25em;background-color: #f0f8ff;}#sk-container-id-4 input.sk-toggleable__control:checked~div.sk-toggleable__content {max-height: 200px;max-width: 100%;overflow: auto;}#sk-container-id-4 input.sk-toggleable__control:checked~label.sk-toggleable__label-arrow:before {content: \"▾\";}#sk-container-id-4 div.sk-estimator input.sk-toggleable__control:checked~label.sk-toggleable__label {background-color: #d4ebff;}#sk-container-id-4 div.sk-label input.sk-toggleable__control:checked~label.sk-toggleable__label {background-color: #d4ebff;}#sk-container-id-4 input.sk-hidden--visually {border: 0;clip: rect(1px 1px 1px 1px);clip: rect(1px, 1px, 1px, 1px);height: 1px;margin: -1px;overflow: hidden;padding: 0;position: absolute;width: 1px;}#sk-container-id-4 div.sk-estimator {font-family: monospace;background-color: #f0f8ff;border: 1px dotted black;border-radius: 0.25em;box-sizing: border-box;margin-bottom: 0.5em;}#sk-container-id-4 div.sk-estimator:hover {background-color: #d4ebff;}#sk-container-id-4 div.sk-parallel-item::after {content: \"\";width: 100%;border-bottom: 1px solid gray;flex-grow: 1;}#sk-container-id-4 div.sk-label:hover label.sk-toggleable__label {background-color: #d4ebff;}#sk-container-id-4 div.sk-serial::before {content: \"\";position: absolute;border-left: 1px solid gray;box-sizing: border-box;top: 0;bottom: 0;left: 50%;z-index: 0;}#sk-container-id-4 div.sk-serial {display: flex;flex-direction: column;align-items: center;background-color: white;padding-right: 0.2em;padding-left: 0.2em;position: relative;}#sk-container-id-4 div.sk-item {position: relative;z-index: 1;}#sk-container-id-4 div.sk-parallel {display: flex;align-items: stretch;justify-content: center;background-color: white;position: relative;}#sk-container-id-4 div.sk-item::before, #sk-container-id-4 div.sk-parallel-item::before {content: \"\";position: absolute;border-left: 1px solid gray;box-sizing: border-box;top: 0;bottom: 0;left: 50%;z-index: -1;}#sk-container-id-4 div.sk-parallel-item {display: flex;flex-direction: column;z-index: 1;position: relative;background-color: white;}#sk-container-id-4 div.sk-parallel-item:first-child::after {align-self: flex-end;width: 50%;}#sk-container-id-4 div.sk-parallel-item:last-child::after {align-self: flex-start;width: 50%;}#sk-container-id-4 div.sk-parallel-item:only-child::after {width: 0;}#sk-container-id-4 div.sk-dashed-wrapped {border: 1px dashed gray;margin: 0 0.4em 0.5em 0.4em;box-sizing: border-box;padding-bottom: 0.4em;background-color: white;}#sk-container-id-4 div.sk-label label {font-family: monospace;font-weight: bold;display: inline-block;line-height: 1.2em;}#sk-container-id-4 div.sk-label-container {text-align: center;}#sk-container-id-4 div.sk-container {/* jupyter's `normalize.less` sets `[hidden] { display: none; }` but bootstrap.min.css set `[hidden] { display: none !important; }` so we also need the `!important` here to be able to override the default hidden behavior on the sphinx rendered scikit-learn.org. See: https://github.com/scikit-learn/scikit-learn/issues/21755 */display: inline-block !important;position: relative;}#sk-container-id-4 div.sk-text-repr-fallback {display: none;}</style><div id=\"sk-container-id-4\" class=\"sk-top-container\"><div class=\"sk-text-repr-fallback\"><pre>GridSearchCV(cv=5,\n",
       "             estimator=Pipeline(steps=[(&#x27;columntransformer&#x27;,\n",
       "                                        ColumnTransformer(transformers=[(&#x27;standardscaler&#x27;,\n",
       "                                                                         StandardScaler(),\n",
       "                                                                         [&#x27;ActualWeight&#x27;,\n",
       "                                                                          &#x27;DeclaredHorseWeight&#x27;,\n",
       "                                                                          &#x27;Draw&#x27;,\n",
       "                                                                          &#x27;H_Age&#x27;,\n",
       "                                                                          &#x27;PreviousPlace&#x27;,\n",
       "                                                                          &#x27;AvgPlace3&#x27;,\n",
       "                                                                          &#x27;AvgPlace5&#x27;,\n",
       "                                                                          &#x27;WeightDiff&#x27;,\n",
       "                                                                          &#x27;CombinedRating&#x27;]),\n",
       "                                                                        (&#x27;pipeline&#x27;,\n",
       "                                                                         Pipeline(steps=[(&#x27;functiontransformer&#x27;,\n",
       "                                                                                          FunctionTransformer(func=&lt;function log_func...\n",
       "                                                                          &#x27;H_Age_norm&#x27;,\n",
       "                                                                          &#x27;LastRace_nDays_norm&#x27;,\n",
       "                                                                          &#x27;PreviousPlace_norm&#x27;,\n",
       "                                                                          &#x27;AvgPlace3_norm&#x27;,\n",
       "                                                                          &#x27;AvgPlace5_norm&#x27;,\n",
       "                                                                          &#x27;WeightDiff_norm&#x27;,\n",
       "                                                                          &#x27;CombinedRating_norm&#x27;]),\n",
       "                                                                        (&#x27;drop&#x27;,\n",
       "                                                                         &#x27;drop&#x27;,\n",
       "                                                                         [&#x27;Place&#x27;,\n",
       "                                                                          &#x27;Place_norm&#x27;,\n",
       "                                                                          &#x27;Draw_norm&#x27;])])),\n",
       "                                       (&#x27;kneighborsclassifier&#x27;,\n",
       "                                        KNeighborsClassifier())]),\n",
       "             n_jobs=-1,\n",
       "             param_grid={&#x27;kneighborsclassifier__n_neighbors&#x27;: [5, 10, 15, 20,\n",
       "                                                               25, 30]},\n",
       "             return_train_score=True, scoring=&#x27;precision&#x27;)</pre><b>In a Jupyter environment, please rerun this cell to show the HTML representation or trust the notebook. <br />On GitHub, the HTML representation is unable to render, please try loading this page with nbviewer.org.</b></div><div class=\"sk-container\" hidden><div class=\"sk-item sk-dashed-wrapped\"><div class=\"sk-label-container\"><div class=\"sk-label sk-toggleable\"><input class=\"sk-toggleable__control sk-hidden--visually\" id=\"sk-estimator-id-38\" type=\"checkbox\" ><label for=\"sk-estimator-id-38\" class=\"sk-toggleable__label sk-toggleable__label-arrow\">GridSearchCV</label><div class=\"sk-toggleable__content\"><pre>GridSearchCV(cv=5,\n",
       "             estimator=Pipeline(steps=[(&#x27;columntransformer&#x27;,\n",
       "                                        ColumnTransformer(transformers=[(&#x27;standardscaler&#x27;,\n",
       "                                                                         StandardScaler(),\n",
       "                                                                         [&#x27;ActualWeight&#x27;,\n",
       "                                                                          &#x27;DeclaredHorseWeight&#x27;,\n",
       "                                                                          &#x27;Draw&#x27;,\n",
       "                                                                          &#x27;H_Age&#x27;,\n",
       "                                                                          &#x27;PreviousPlace&#x27;,\n",
       "                                                                          &#x27;AvgPlace3&#x27;,\n",
       "                                                                          &#x27;AvgPlace5&#x27;,\n",
       "                                                                          &#x27;WeightDiff&#x27;,\n",
       "                                                                          &#x27;CombinedRating&#x27;]),\n",
       "                                                                        (&#x27;pipeline&#x27;,\n",
       "                                                                         Pipeline(steps=[(&#x27;functiontransformer&#x27;,\n",
       "                                                                                          FunctionTransformer(func=&lt;function log_func...\n",
       "                                                                          &#x27;H_Age_norm&#x27;,\n",
       "                                                                          &#x27;LastRace_nDays_norm&#x27;,\n",
       "                                                                          &#x27;PreviousPlace_norm&#x27;,\n",
       "                                                                          &#x27;AvgPlace3_norm&#x27;,\n",
       "                                                                          &#x27;AvgPlace5_norm&#x27;,\n",
       "                                                                          &#x27;WeightDiff_norm&#x27;,\n",
       "                                                                          &#x27;CombinedRating_norm&#x27;]),\n",
       "                                                                        (&#x27;drop&#x27;,\n",
       "                                                                         &#x27;drop&#x27;,\n",
       "                                                                         [&#x27;Place&#x27;,\n",
       "                                                                          &#x27;Place_norm&#x27;,\n",
       "                                                                          &#x27;Draw_norm&#x27;])])),\n",
       "                                       (&#x27;kneighborsclassifier&#x27;,\n",
       "                                        KNeighborsClassifier())]),\n",
       "             n_jobs=-1,\n",
       "             param_grid={&#x27;kneighborsclassifier__n_neighbors&#x27;: [5, 10, 15, 20,\n",
       "                                                               25, 30]},\n",
       "             return_train_score=True, scoring=&#x27;precision&#x27;)</pre></div></div></div><div class=\"sk-parallel\"><div class=\"sk-parallel-item\"><div class=\"sk-item\"><div class=\"sk-label-container\"><div class=\"sk-label sk-toggleable\"><input class=\"sk-toggleable__control sk-hidden--visually\" id=\"sk-estimator-id-39\" type=\"checkbox\" ><label for=\"sk-estimator-id-39\" class=\"sk-toggleable__label sk-toggleable__label-arrow\">estimator: Pipeline</label><div class=\"sk-toggleable__content\"><pre>Pipeline(steps=[(&#x27;columntransformer&#x27;,\n",
       "                 ColumnTransformer(transformers=[(&#x27;standardscaler&#x27;,\n",
       "                                                  StandardScaler(),\n",
       "                                                  [&#x27;ActualWeight&#x27;,\n",
       "                                                   &#x27;DeclaredHorseWeight&#x27;,\n",
       "                                                   &#x27;Draw&#x27;, &#x27;H_Age&#x27;,\n",
       "                                                   &#x27;PreviousPlace&#x27;, &#x27;AvgPlace3&#x27;,\n",
       "                                                   &#x27;AvgPlace5&#x27;, &#x27;WeightDiff&#x27;,\n",
       "                                                   &#x27;CombinedRating&#x27;]),\n",
       "                                                 (&#x27;pipeline&#x27;,\n",
       "                                                  Pipeline(steps=[(&#x27;functiontransformer&#x27;,\n",
       "                                                                   FunctionTransformer(func=&lt;function log_func at 0x0000020C2B006820&gt;)),\n",
       "                                                                  (&#x27;st...\n",
       "                                                   &#x27;T_Rate_place_norm&#x27;,\n",
       "                                                   &#x27;T_Rate_show_norm&#x27;,\n",
       "                                                   &#x27;H_TotalStake_norm&#x27;,\n",
       "                                                   &#x27;H_Total_norm&#x27;,\n",
       "                                                   &#x27;H_Rate_win_norm&#x27;,\n",
       "                                                   &#x27;H_Rate_place_norm&#x27;,\n",
       "                                                   &#x27;H_Rate_show_norm&#x27;,\n",
       "                                                   &#x27;H_Age_norm&#x27;,\n",
       "                                                   &#x27;LastRace_nDays_norm&#x27;,\n",
       "                                                   &#x27;PreviousPlace_norm&#x27;,\n",
       "                                                   &#x27;AvgPlace3_norm&#x27;,\n",
       "                                                   &#x27;AvgPlace5_norm&#x27;,\n",
       "                                                   &#x27;WeightDiff_norm&#x27;,\n",
       "                                                   &#x27;CombinedRating_norm&#x27;]),\n",
       "                                                 (&#x27;drop&#x27;, &#x27;drop&#x27;,\n",
       "                                                  [&#x27;Place&#x27;, &#x27;Place_norm&#x27;,\n",
       "                                                   &#x27;Draw_norm&#x27;])])),\n",
       "                (&#x27;kneighborsclassifier&#x27;, KNeighborsClassifier())])</pre></div></div></div><div class=\"sk-serial\"><div class=\"sk-item\"><div class=\"sk-serial\"><div class=\"sk-item sk-dashed-wrapped\"><div class=\"sk-label-container\"><div class=\"sk-label sk-toggleable\"><input class=\"sk-toggleable__control sk-hidden--visually\" id=\"sk-estimator-id-40\" type=\"checkbox\" ><label for=\"sk-estimator-id-40\" class=\"sk-toggleable__label sk-toggleable__label-arrow\">columntransformer: ColumnTransformer</label><div class=\"sk-toggleable__content\"><pre>ColumnTransformer(transformers=[(&#x27;standardscaler&#x27;, StandardScaler(),\n",
       "                                 [&#x27;ActualWeight&#x27;, &#x27;DeclaredHorseWeight&#x27;, &#x27;Draw&#x27;,\n",
       "                                  &#x27;H_Age&#x27;, &#x27;PreviousPlace&#x27;, &#x27;AvgPlace3&#x27;,\n",
       "                                  &#x27;AvgPlace5&#x27;, &#x27;WeightDiff&#x27;,\n",
       "                                  &#x27;CombinedRating&#x27;]),\n",
       "                                (&#x27;pipeline&#x27;,\n",
       "                                 Pipeline(steps=[(&#x27;functiontransformer&#x27;,\n",
       "                                                  FunctionTransformer(func=&lt;function log_func at 0x0000020C2B006820&gt;)),\n",
       "                                                 (&#x27;standardscaler&#x27;,\n",
       "                                                  StandardScaler())]),\n",
       "                                 [&#x27;W...\n",
       "                                  &#x27;J_Rate_show_norm&#x27;, &#x27;T_Rate_win_norm&#x27;,\n",
       "                                  &#x27;T_Rate_place_norm&#x27;, &#x27;T_Rate_show_norm&#x27;,\n",
       "                                  &#x27;H_TotalStake_norm&#x27;, &#x27;H_Total_norm&#x27;,\n",
       "                                  &#x27;H_Rate_win_norm&#x27;, &#x27;H_Rate_place_norm&#x27;,\n",
       "                                  &#x27;H_Rate_show_norm&#x27;, &#x27;H_Age_norm&#x27;,\n",
       "                                  &#x27;LastRace_nDays_norm&#x27;, &#x27;PreviousPlace_norm&#x27;,\n",
       "                                  &#x27;AvgPlace3_norm&#x27;, &#x27;AvgPlace5_norm&#x27;,\n",
       "                                  &#x27;WeightDiff_norm&#x27;, &#x27;CombinedRating_norm&#x27;]),\n",
       "                                (&#x27;drop&#x27;, &#x27;drop&#x27;,\n",
       "                                 [&#x27;Place&#x27;, &#x27;Place_norm&#x27;, &#x27;Draw_norm&#x27;])])</pre></div></div></div><div class=\"sk-parallel\"><div class=\"sk-parallel-item\"><div class=\"sk-item\"><div class=\"sk-label-container\"><div class=\"sk-label sk-toggleable\"><input class=\"sk-toggleable__control sk-hidden--visually\" id=\"sk-estimator-id-41\" type=\"checkbox\" ><label for=\"sk-estimator-id-41\" class=\"sk-toggleable__label sk-toggleable__label-arrow\">standardscaler</label><div class=\"sk-toggleable__content\"><pre>[&#x27;ActualWeight&#x27;, &#x27;DeclaredHorseWeight&#x27;, &#x27;Draw&#x27;, &#x27;H_Age&#x27;, &#x27;PreviousPlace&#x27;, &#x27;AvgPlace3&#x27;, &#x27;AvgPlace5&#x27;, &#x27;WeightDiff&#x27;, &#x27;CombinedRating&#x27;]</pre></div></div></div><div class=\"sk-serial\"><div class=\"sk-item\"><div class=\"sk-estimator sk-toggleable\"><input class=\"sk-toggleable__control sk-hidden--visually\" id=\"sk-estimator-id-42\" type=\"checkbox\" ><label for=\"sk-estimator-id-42\" class=\"sk-toggleable__label sk-toggleable__label-arrow\">StandardScaler</label><div class=\"sk-toggleable__content\"><pre>StandardScaler()</pre></div></div></div></div></div></div><div class=\"sk-parallel-item\"><div class=\"sk-item\"><div class=\"sk-label-container\"><div class=\"sk-label sk-toggleable\"><input class=\"sk-toggleable__control sk-hidden--visually\" id=\"sk-estimator-id-43\" type=\"checkbox\" ><label for=\"sk-estimator-id-43\" class=\"sk-toggleable__label sk-toggleable__label-arrow\">pipeline</label><div class=\"sk-toggleable__content\"><pre>[&#x27;WinOdds&#x27;, &#x27;H_TotalStake&#x27;, &#x27;H_Total&#x27;, &#x27;LastRace_nDays&#x27;]</pre></div></div></div><div class=\"sk-serial\"><div class=\"sk-item\"><div class=\"sk-serial\"><div class=\"sk-item\"><div class=\"sk-estimator sk-toggleable\"><input class=\"sk-toggleable__control sk-hidden--visually\" id=\"sk-estimator-id-44\" type=\"checkbox\" ><label for=\"sk-estimator-id-44\" class=\"sk-toggleable__label sk-toggleable__label-arrow\">FunctionTransformer</label><div class=\"sk-toggleable__content\"><pre>FunctionTransformer(func=&lt;function log_func at 0x0000020C2B006820&gt;)</pre></div></div></div><div class=\"sk-item\"><div class=\"sk-estimator sk-toggleable\"><input class=\"sk-toggleable__control sk-hidden--visually\" id=\"sk-estimator-id-45\" type=\"checkbox\" ><label for=\"sk-estimator-id-45\" class=\"sk-toggleable__label sk-toggleable__label-arrow\">StandardScaler</label><div class=\"sk-toggleable__content\"><pre>StandardScaler()</pre></div></div></div></div></div></div></div></div><div class=\"sk-parallel-item\"><div class=\"sk-item\"><div class=\"sk-label-container\"><div class=\"sk-label sk-toggleable\"><input class=\"sk-toggleable__control sk-hidden--visually\" id=\"sk-estimator-id-46\" type=\"checkbox\" ><label for=\"sk-estimator-id-46\" class=\"sk-toggleable__label sk-toggleable__label-arrow\">passthrough</label><div class=\"sk-toggleable__content\"><pre>[&#x27;J_Rate_win&#x27;, &#x27;J_Rate_place&#x27;, &#x27;J_Rate_show&#x27;, &#x27;T_Rate_win&#x27;, &#x27;T_Rate_place&#x27;, &#x27;T_Rate_show&#x27;, &#x27;H_Rate_win&#x27;, &#x27;H_Rate_place&#x27;, &#x27;H_Rate_show&#x27;, &#x27;ActualWeight_norm&#x27;, &#x27;DeclaredHorseWeight_norm&#x27;, &#x27;WinOdds_norm&#x27;, &#x27;J_Rate_win_norm&#x27;, &#x27;J_Rate_place_norm&#x27;, &#x27;J_Rate_show_norm&#x27;, &#x27;T_Rate_win_norm&#x27;, &#x27;T_Rate_place_norm&#x27;, &#x27;T_Rate_show_norm&#x27;, &#x27;H_TotalStake_norm&#x27;, &#x27;H_Total_norm&#x27;, &#x27;H_Rate_win_norm&#x27;, &#x27;H_Rate_place_norm&#x27;, &#x27;H_Rate_show_norm&#x27;, &#x27;H_Age_norm&#x27;, &#x27;LastRace_nDays_norm&#x27;, &#x27;PreviousPlace_norm&#x27;, &#x27;AvgPlace3_norm&#x27;, &#x27;AvgPlace5_norm&#x27;, &#x27;WeightDiff_norm&#x27;, &#x27;CombinedRating_norm&#x27;]</pre></div></div></div><div class=\"sk-serial\"><div class=\"sk-item\"><div class=\"sk-estimator sk-toggleable\"><input class=\"sk-toggleable__control sk-hidden--visually\" id=\"sk-estimator-id-47\" type=\"checkbox\" ><label for=\"sk-estimator-id-47\" class=\"sk-toggleable__label sk-toggleable__label-arrow\">passthrough</label><div class=\"sk-toggleable__content\"><pre>passthrough</pre></div></div></div></div></div></div><div class=\"sk-parallel-item\"><div class=\"sk-item\"><div class=\"sk-label-container\"><div class=\"sk-label sk-toggleable\"><input class=\"sk-toggleable__control sk-hidden--visually\" id=\"sk-estimator-id-48\" type=\"checkbox\" ><label for=\"sk-estimator-id-48\" class=\"sk-toggleable__label sk-toggleable__label-arrow\">drop</label><div class=\"sk-toggleable__content\"><pre>[&#x27;Place&#x27;, &#x27;Place_norm&#x27;, &#x27;Draw_norm&#x27;]</pre></div></div></div><div class=\"sk-serial\"><div class=\"sk-item\"><div class=\"sk-estimator sk-toggleable\"><input class=\"sk-toggleable__control sk-hidden--visually\" id=\"sk-estimator-id-49\" type=\"checkbox\" ><label for=\"sk-estimator-id-49\" class=\"sk-toggleable__label sk-toggleable__label-arrow\">drop</label><div class=\"sk-toggleable__content\"><pre>drop</pre></div></div></div></div></div></div></div></div><div class=\"sk-item\"><div class=\"sk-estimator sk-toggleable\"><input class=\"sk-toggleable__control sk-hidden--visually\" id=\"sk-estimator-id-50\" type=\"checkbox\" ><label for=\"sk-estimator-id-50\" class=\"sk-toggleable__label sk-toggleable__label-arrow\">KNeighborsClassifier</label><div class=\"sk-toggleable__content\"><pre>KNeighborsClassifier()</pre></div></div></div></div></div></div></div></div></div></div></div></div>"
      ],
      "text/plain": [
       "GridSearchCV(cv=5,\n",
       "             estimator=Pipeline(steps=[('columntransformer',\n",
       "                                        ColumnTransformer(transformers=[('standardscaler',\n",
       "                                                                         StandardScaler(),\n",
       "                                                                         ['ActualWeight',\n",
       "                                                                          'DeclaredHorseWeight',\n",
       "                                                                          'Draw',\n",
       "                                                                          'H_Age',\n",
       "                                                                          'PreviousPlace',\n",
       "                                                                          'AvgPlace3',\n",
       "                                                                          'AvgPlace5',\n",
       "                                                                          'WeightDiff',\n",
       "                                                                          'CombinedRating']),\n",
       "                                                                        ('pipeline',\n",
       "                                                                         Pipeline(steps=[('functiontransformer',\n",
       "                                                                                          FunctionTransformer(func=<function log_func...\n",
       "                                                                          'H_Age_norm',\n",
       "                                                                          'LastRace_nDays_norm',\n",
       "                                                                          'PreviousPlace_norm',\n",
       "                                                                          'AvgPlace3_norm',\n",
       "                                                                          'AvgPlace5_norm',\n",
       "                                                                          'WeightDiff_norm',\n",
       "                                                                          'CombinedRating_norm']),\n",
       "                                                                        ('drop',\n",
       "                                                                         'drop',\n",
       "                                                                         ['Place',\n",
       "                                                                          'Place_norm',\n",
       "                                                                          'Draw_norm'])])),\n",
       "                                       ('kneighborsclassifier',\n",
       "                                        KNeighborsClassifier())]),\n",
       "             n_jobs=-1,\n",
       "             param_grid={'kneighborsclassifier__n_neighbors': [5, 10, 15, 20,\n",
       "                                                               25, 30]},\n",
       "             return_train_score=True, scoring='precision')"
      ]
     },
     "execution_count": 27,
     "metadata": {},
     "output_type": "execute_result"
    }
   ],
   "source": [
    "grid_search.fit( X_train, y_train)"
   ]
  },
  {
   "cell_type": "code",
   "execution_count": 28,
   "id": "9e1a19d4-740a-45dc-bfdd-445e943a4de0",
   "metadata": {},
   "outputs": [
    {
     "data": {
      "text/html": [
       "<div>\n",
       "<style scoped>\n",
       "    .dataframe tbody tr th:only-of-type {\n",
       "        vertical-align: middle;\n",
       "    }\n",
       "\n",
       "    .dataframe tbody tr th {\n",
       "        vertical-align: top;\n",
       "    }\n",
       "\n",
       "    .dataframe thead th {\n",
       "        text-align: right;\n",
       "    }\n",
       "</style>\n",
       "<table border=\"1\" class=\"dataframe\">\n",
       "  <thead>\n",
       "    <tr style=\"text-align: right;\">\n",
       "      <th></th>\n",
       "      <th>params</th>\n",
       "      <th>mean_test_score</th>\n",
       "    </tr>\n",
       "  </thead>\n",
       "  <tbody>\n",
       "    <tr>\n",
       "      <th>0</th>\n",
       "      <td>{'kneighborsclassifier__n_neighbors': 5}</td>\n",
       "      <td>0.339391</td>\n",
       "    </tr>\n",
       "    <tr>\n",
       "      <th>1</th>\n",
       "      <td>{'kneighborsclassifier__n_neighbors': 10}</td>\n",
       "      <td>0.433333</td>\n",
       "    </tr>\n",
       "    <tr>\n",
       "      <th>2</th>\n",
       "      <td>{'kneighborsclassifier__n_neighbors': 15}</td>\n",
       "      <td>0.391111</td>\n",
       "    </tr>\n",
       "    <tr>\n",
       "      <th>3</th>\n",
       "      <td>{'kneighborsclassifier__n_neighbors': 20}</td>\n",
       "      <td>0.633333</td>\n",
       "    </tr>\n",
       "    <tr>\n",
       "      <th>4</th>\n",
       "      <td>{'kneighborsclassifier__n_neighbors': 25}</td>\n",
       "      <td>0.644286</td>\n",
       "    </tr>\n",
       "    <tr>\n",
       "      <th>5</th>\n",
       "      <td>{'kneighborsclassifier__n_neighbors': 30}</td>\n",
       "      <td>0.566667</td>\n",
       "    </tr>\n",
       "  </tbody>\n",
       "</table>\n",
       "</div>"
      ],
      "text/plain": [
       "                                      params  mean_test_score\n",
       "0   {'kneighborsclassifier__n_neighbors': 5}         0.339391\n",
       "1  {'kneighborsclassifier__n_neighbors': 10}         0.433333\n",
       "2  {'kneighborsclassifier__n_neighbors': 15}         0.391111\n",
       "3  {'kneighborsclassifier__n_neighbors': 20}         0.633333\n",
       "4  {'kneighborsclassifier__n_neighbors': 25}         0.644286\n",
       "5  {'kneighborsclassifier__n_neighbors': 30}         0.566667"
      ]
     },
     "execution_count": 28,
     "metadata": {},
     "output_type": "execute_result"
    }
   ],
   "source": [
    "results = pd.DataFrame(grid_search.cv_results_)\n",
    "results[ ['params', 'mean_test_score']]"
   ]
  },
  {
   "cell_type": "markdown",
   "id": "2e6bd752-81c2-41d3-8421-a613aa5f1d4a",
   "metadata": {},
   "source": [
    "## Final model evaluation"
   ]
  },
  {
   "cell_type": "code",
   "execution_count": 29,
   "id": "08f04f94-476b-45d0-9995-2d4d610bc8d3",
   "metadata": {},
   "outputs": [],
   "source": [
    "pipe_knn_opt = make_pipeline( column_transformer, KNeighborsClassifier( n_neighbors = 20))"
   ]
  },
  {
   "cell_type": "code",
   "execution_count": 30,
   "id": "926ffd54-7a60-4710-97b1-20d087734047",
   "metadata": {},
   "outputs": [
    {
     "data": {
      "text/html": [
       "<style>#sk-container-id-5 {color: black;background-color: white;}#sk-container-id-5 pre{padding: 0;}#sk-container-id-5 div.sk-toggleable {background-color: white;}#sk-container-id-5 label.sk-toggleable__label {cursor: pointer;display: block;width: 100%;margin-bottom: 0;padding: 0.3em;box-sizing: border-box;text-align: center;}#sk-container-id-5 label.sk-toggleable__label-arrow:before {content: \"▸\";float: left;margin-right: 0.25em;color: #696969;}#sk-container-id-5 label.sk-toggleable__label-arrow:hover:before {color: black;}#sk-container-id-5 div.sk-estimator:hover label.sk-toggleable__label-arrow:before {color: black;}#sk-container-id-5 div.sk-toggleable__content {max-height: 0;max-width: 0;overflow: hidden;text-align: left;background-color: #f0f8ff;}#sk-container-id-5 div.sk-toggleable__content pre {margin: 0.2em;color: black;border-radius: 0.25em;background-color: #f0f8ff;}#sk-container-id-5 input.sk-toggleable__control:checked~div.sk-toggleable__content {max-height: 200px;max-width: 100%;overflow: auto;}#sk-container-id-5 input.sk-toggleable__control:checked~label.sk-toggleable__label-arrow:before {content: \"▾\";}#sk-container-id-5 div.sk-estimator input.sk-toggleable__control:checked~label.sk-toggleable__label {background-color: #d4ebff;}#sk-container-id-5 div.sk-label input.sk-toggleable__control:checked~label.sk-toggleable__label {background-color: #d4ebff;}#sk-container-id-5 input.sk-hidden--visually {border: 0;clip: rect(1px 1px 1px 1px);clip: rect(1px, 1px, 1px, 1px);height: 1px;margin: -1px;overflow: hidden;padding: 0;position: absolute;width: 1px;}#sk-container-id-5 div.sk-estimator {font-family: monospace;background-color: #f0f8ff;border: 1px dotted black;border-radius: 0.25em;box-sizing: border-box;margin-bottom: 0.5em;}#sk-container-id-5 div.sk-estimator:hover {background-color: #d4ebff;}#sk-container-id-5 div.sk-parallel-item::after {content: \"\";width: 100%;border-bottom: 1px solid gray;flex-grow: 1;}#sk-container-id-5 div.sk-label:hover label.sk-toggleable__label {background-color: #d4ebff;}#sk-container-id-5 div.sk-serial::before {content: \"\";position: absolute;border-left: 1px solid gray;box-sizing: border-box;top: 0;bottom: 0;left: 50%;z-index: 0;}#sk-container-id-5 div.sk-serial {display: flex;flex-direction: column;align-items: center;background-color: white;padding-right: 0.2em;padding-left: 0.2em;position: relative;}#sk-container-id-5 div.sk-item {position: relative;z-index: 1;}#sk-container-id-5 div.sk-parallel {display: flex;align-items: stretch;justify-content: center;background-color: white;position: relative;}#sk-container-id-5 div.sk-item::before, #sk-container-id-5 div.sk-parallel-item::before {content: \"\";position: absolute;border-left: 1px solid gray;box-sizing: border-box;top: 0;bottom: 0;left: 50%;z-index: -1;}#sk-container-id-5 div.sk-parallel-item {display: flex;flex-direction: column;z-index: 1;position: relative;background-color: white;}#sk-container-id-5 div.sk-parallel-item:first-child::after {align-self: flex-end;width: 50%;}#sk-container-id-5 div.sk-parallel-item:last-child::after {align-self: flex-start;width: 50%;}#sk-container-id-5 div.sk-parallel-item:only-child::after {width: 0;}#sk-container-id-5 div.sk-dashed-wrapped {border: 1px dashed gray;margin: 0 0.4em 0.5em 0.4em;box-sizing: border-box;padding-bottom: 0.4em;background-color: white;}#sk-container-id-5 div.sk-label label {font-family: monospace;font-weight: bold;display: inline-block;line-height: 1.2em;}#sk-container-id-5 div.sk-label-container {text-align: center;}#sk-container-id-5 div.sk-container {/* jupyter's `normalize.less` sets `[hidden] { display: none; }` but bootstrap.min.css set `[hidden] { display: none !important; }` so we also need the `!important` here to be able to override the default hidden behavior on the sphinx rendered scikit-learn.org. See: https://github.com/scikit-learn/scikit-learn/issues/21755 */display: inline-block !important;position: relative;}#sk-container-id-5 div.sk-text-repr-fallback {display: none;}</style><div id=\"sk-container-id-5\" class=\"sk-top-container\"><div class=\"sk-text-repr-fallback\"><pre>Pipeline(steps=[(&#x27;columntransformer&#x27;,\n",
       "                 ColumnTransformer(transformers=[(&#x27;standardscaler&#x27;,\n",
       "                                                  StandardScaler(),\n",
       "                                                  [&#x27;ActualWeight&#x27;,\n",
       "                                                   &#x27;DeclaredHorseWeight&#x27;,\n",
       "                                                   &#x27;Draw&#x27;, &#x27;H_Age&#x27;,\n",
       "                                                   &#x27;PreviousPlace&#x27;, &#x27;AvgPlace3&#x27;,\n",
       "                                                   &#x27;AvgPlace5&#x27;, &#x27;WeightDiff&#x27;,\n",
       "                                                   &#x27;CombinedRating&#x27;]),\n",
       "                                                 (&#x27;pipeline&#x27;,\n",
       "                                                  Pipeline(steps=[(&#x27;functiontransformer&#x27;,\n",
       "                                                                   FunctionTransformer(func=&lt;function log_func at 0x0000020C2B006820&gt;)),\n",
       "                                                                  (&#x27;st...\n",
       "                                                   &#x27;T_Rate_show_norm&#x27;,\n",
       "                                                   &#x27;H_TotalStake_norm&#x27;,\n",
       "                                                   &#x27;H_Total_norm&#x27;,\n",
       "                                                   &#x27;H_Rate_win_norm&#x27;,\n",
       "                                                   &#x27;H_Rate_place_norm&#x27;,\n",
       "                                                   &#x27;H_Rate_show_norm&#x27;,\n",
       "                                                   &#x27;H_Age_norm&#x27;,\n",
       "                                                   &#x27;LastRace_nDays_norm&#x27;,\n",
       "                                                   &#x27;PreviousPlace_norm&#x27;,\n",
       "                                                   &#x27;AvgPlace3_norm&#x27;,\n",
       "                                                   &#x27;AvgPlace5_norm&#x27;,\n",
       "                                                   &#x27;WeightDiff_norm&#x27;,\n",
       "                                                   &#x27;CombinedRating_norm&#x27;]),\n",
       "                                                 (&#x27;drop&#x27;, &#x27;drop&#x27;,\n",
       "                                                  [&#x27;Place&#x27;, &#x27;Place_norm&#x27;,\n",
       "                                                   &#x27;Draw_norm&#x27;])])),\n",
       "                (&#x27;kneighborsclassifier&#x27;, KNeighborsClassifier(n_neighbors=20))])</pre><b>In a Jupyter environment, please rerun this cell to show the HTML representation or trust the notebook. <br />On GitHub, the HTML representation is unable to render, please try loading this page with nbviewer.org.</b></div><div class=\"sk-container\" hidden><div class=\"sk-item sk-dashed-wrapped\"><div class=\"sk-label-container\"><div class=\"sk-label sk-toggleable\"><input class=\"sk-toggleable__control sk-hidden--visually\" id=\"sk-estimator-id-51\" type=\"checkbox\" ><label for=\"sk-estimator-id-51\" class=\"sk-toggleable__label sk-toggleable__label-arrow\">Pipeline</label><div class=\"sk-toggleable__content\"><pre>Pipeline(steps=[(&#x27;columntransformer&#x27;,\n",
       "                 ColumnTransformer(transformers=[(&#x27;standardscaler&#x27;,\n",
       "                                                  StandardScaler(),\n",
       "                                                  [&#x27;ActualWeight&#x27;,\n",
       "                                                   &#x27;DeclaredHorseWeight&#x27;,\n",
       "                                                   &#x27;Draw&#x27;, &#x27;H_Age&#x27;,\n",
       "                                                   &#x27;PreviousPlace&#x27;, &#x27;AvgPlace3&#x27;,\n",
       "                                                   &#x27;AvgPlace5&#x27;, &#x27;WeightDiff&#x27;,\n",
       "                                                   &#x27;CombinedRating&#x27;]),\n",
       "                                                 (&#x27;pipeline&#x27;,\n",
       "                                                  Pipeline(steps=[(&#x27;functiontransformer&#x27;,\n",
       "                                                                   FunctionTransformer(func=&lt;function log_func at 0x0000020C2B006820&gt;)),\n",
       "                                                                  (&#x27;st...\n",
       "                                                   &#x27;T_Rate_show_norm&#x27;,\n",
       "                                                   &#x27;H_TotalStake_norm&#x27;,\n",
       "                                                   &#x27;H_Total_norm&#x27;,\n",
       "                                                   &#x27;H_Rate_win_norm&#x27;,\n",
       "                                                   &#x27;H_Rate_place_norm&#x27;,\n",
       "                                                   &#x27;H_Rate_show_norm&#x27;,\n",
       "                                                   &#x27;H_Age_norm&#x27;,\n",
       "                                                   &#x27;LastRace_nDays_norm&#x27;,\n",
       "                                                   &#x27;PreviousPlace_norm&#x27;,\n",
       "                                                   &#x27;AvgPlace3_norm&#x27;,\n",
       "                                                   &#x27;AvgPlace5_norm&#x27;,\n",
       "                                                   &#x27;WeightDiff_norm&#x27;,\n",
       "                                                   &#x27;CombinedRating_norm&#x27;]),\n",
       "                                                 (&#x27;drop&#x27;, &#x27;drop&#x27;,\n",
       "                                                  [&#x27;Place&#x27;, &#x27;Place_norm&#x27;,\n",
       "                                                   &#x27;Draw_norm&#x27;])])),\n",
       "                (&#x27;kneighborsclassifier&#x27;, KNeighborsClassifier(n_neighbors=20))])</pre></div></div></div><div class=\"sk-serial\"><div class=\"sk-item sk-dashed-wrapped\"><div class=\"sk-label-container\"><div class=\"sk-label sk-toggleable\"><input class=\"sk-toggleable__control sk-hidden--visually\" id=\"sk-estimator-id-52\" type=\"checkbox\" ><label for=\"sk-estimator-id-52\" class=\"sk-toggleable__label sk-toggleable__label-arrow\">columntransformer: ColumnTransformer</label><div class=\"sk-toggleable__content\"><pre>ColumnTransformer(transformers=[(&#x27;standardscaler&#x27;, StandardScaler(),\n",
       "                                 [&#x27;ActualWeight&#x27;, &#x27;DeclaredHorseWeight&#x27;, &#x27;Draw&#x27;,\n",
       "                                  &#x27;H_Age&#x27;, &#x27;PreviousPlace&#x27;, &#x27;AvgPlace3&#x27;,\n",
       "                                  &#x27;AvgPlace5&#x27;, &#x27;WeightDiff&#x27;,\n",
       "                                  &#x27;CombinedRating&#x27;]),\n",
       "                                (&#x27;pipeline&#x27;,\n",
       "                                 Pipeline(steps=[(&#x27;functiontransformer&#x27;,\n",
       "                                                  FunctionTransformer(func=&lt;function log_func at 0x0000020C2B006820&gt;)),\n",
       "                                                 (&#x27;standardscaler&#x27;,\n",
       "                                                  StandardScaler())]),\n",
       "                                 [&#x27;W...\n",
       "                                  &#x27;J_Rate_show_norm&#x27;, &#x27;T_Rate_win_norm&#x27;,\n",
       "                                  &#x27;T_Rate_place_norm&#x27;, &#x27;T_Rate_show_norm&#x27;,\n",
       "                                  &#x27;H_TotalStake_norm&#x27;, &#x27;H_Total_norm&#x27;,\n",
       "                                  &#x27;H_Rate_win_norm&#x27;, &#x27;H_Rate_place_norm&#x27;,\n",
       "                                  &#x27;H_Rate_show_norm&#x27;, &#x27;H_Age_norm&#x27;,\n",
       "                                  &#x27;LastRace_nDays_norm&#x27;, &#x27;PreviousPlace_norm&#x27;,\n",
       "                                  &#x27;AvgPlace3_norm&#x27;, &#x27;AvgPlace5_norm&#x27;,\n",
       "                                  &#x27;WeightDiff_norm&#x27;, &#x27;CombinedRating_norm&#x27;]),\n",
       "                                (&#x27;drop&#x27;, &#x27;drop&#x27;,\n",
       "                                 [&#x27;Place&#x27;, &#x27;Place_norm&#x27;, &#x27;Draw_norm&#x27;])])</pre></div></div></div><div class=\"sk-parallel\"><div class=\"sk-parallel-item\"><div class=\"sk-item\"><div class=\"sk-label-container\"><div class=\"sk-label sk-toggleable\"><input class=\"sk-toggleable__control sk-hidden--visually\" id=\"sk-estimator-id-53\" type=\"checkbox\" ><label for=\"sk-estimator-id-53\" class=\"sk-toggleable__label sk-toggleable__label-arrow\">standardscaler</label><div class=\"sk-toggleable__content\"><pre>[&#x27;ActualWeight&#x27;, &#x27;DeclaredHorseWeight&#x27;, &#x27;Draw&#x27;, &#x27;H_Age&#x27;, &#x27;PreviousPlace&#x27;, &#x27;AvgPlace3&#x27;, &#x27;AvgPlace5&#x27;, &#x27;WeightDiff&#x27;, &#x27;CombinedRating&#x27;]</pre></div></div></div><div class=\"sk-serial\"><div class=\"sk-item\"><div class=\"sk-estimator sk-toggleable\"><input class=\"sk-toggleable__control sk-hidden--visually\" id=\"sk-estimator-id-54\" type=\"checkbox\" ><label for=\"sk-estimator-id-54\" class=\"sk-toggleable__label sk-toggleable__label-arrow\">StandardScaler</label><div class=\"sk-toggleable__content\"><pre>StandardScaler()</pre></div></div></div></div></div></div><div class=\"sk-parallel-item\"><div class=\"sk-item\"><div class=\"sk-label-container\"><div class=\"sk-label sk-toggleable\"><input class=\"sk-toggleable__control sk-hidden--visually\" id=\"sk-estimator-id-55\" type=\"checkbox\" ><label for=\"sk-estimator-id-55\" class=\"sk-toggleable__label sk-toggleable__label-arrow\">pipeline</label><div class=\"sk-toggleable__content\"><pre>[&#x27;WinOdds&#x27;, &#x27;H_TotalStake&#x27;, &#x27;H_Total&#x27;, &#x27;LastRace_nDays&#x27;]</pre></div></div></div><div class=\"sk-serial\"><div class=\"sk-item\"><div class=\"sk-serial\"><div class=\"sk-item\"><div class=\"sk-estimator sk-toggleable\"><input class=\"sk-toggleable__control sk-hidden--visually\" id=\"sk-estimator-id-56\" type=\"checkbox\" ><label for=\"sk-estimator-id-56\" class=\"sk-toggleable__label sk-toggleable__label-arrow\">FunctionTransformer</label><div class=\"sk-toggleable__content\"><pre>FunctionTransformer(func=&lt;function log_func at 0x0000020C2B006820&gt;)</pre></div></div></div><div class=\"sk-item\"><div class=\"sk-estimator sk-toggleable\"><input class=\"sk-toggleable__control sk-hidden--visually\" id=\"sk-estimator-id-57\" type=\"checkbox\" ><label for=\"sk-estimator-id-57\" class=\"sk-toggleable__label sk-toggleable__label-arrow\">StandardScaler</label><div class=\"sk-toggleable__content\"><pre>StandardScaler()</pre></div></div></div></div></div></div></div></div><div class=\"sk-parallel-item\"><div class=\"sk-item\"><div class=\"sk-label-container\"><div class=\"sk-label sk-toggleable\"><input class=\"sk-toggleable__control sk-hidden--visually\" id=\"sk-estimator-id-58\" type=\"checkbox\" ><label for=\"sk-estimator-id-58\" class=\"sk-toggleable__label sk-toggleable__label-arrow\">passthrough</label><div class=\"sk-toggleable__content\"><pre>[&#x27;J_Rate_win&#x27;, &#x27;J_Rate_place&#x27;, &#x27;J_Rate_show&#x27;, &#x27;T_Rate_win&#x27;, &#x27;T_Rate_place&#x27;, &#x27;T_Rate_show&#x27;, &#x27;H_Rate_win&#x27;, &#x27;H_Rate_place&#x27;, &#x27;H_Rate_show&#x27;, &#x27;ActualWeight_norm&#x27;, &#x27;DeclaredHorseWeight_norm&#x27;, &#x27;WinOdds_norm&#x27;, &#x27;J_Rate_win_norm&#x27;, &#x27;J_Rate_place_norm&#x27;, &#x27;J_Rate_show_norm&#x27;, &#x27;T_Rate_win_norm&#x27;, &#x27;T_Rate_place_norm&#x27;, &#x27;T_Rate_show_norm&#x27;, &#x27;H_TotalStake_norm&#x27;, &#x27;H_Total_norm&#x27;, &#x27;H_Rate_win_norm&#x27;, &#x27;H_Rate_place_norm&#x27;, &#x27;H_Rate_show_norm&#x27;, &#x27;H_Age_norm&#x27;, &#x27;LastRace_nDays_norm&#x27;, &#x27;PreviousPlace_norm&#x27;, &#x27;AvgPlace3_norm&#x27;, &#x27;AvgPlace5_norm&#x27;, &#x27;WeightDiff_norm&#x27;, &#x27;CombinedRating_norm&#x27;]</pre></div></div></div><div class=\"sk-serial\"><div class=\"sk-item\"><div class=\"sk-estimator sk-toggleable\"><input class=\"sk-toggleable__control sk-hidden--visually\" id=\"sk-estimator-id-59\" type=\"checkbox\" ><label for=\"sk-estimator-id-59\" class=\"sk-toggleable__label sk-toggleable__label-arrow\">passthrough</label><div class=\"sk-toggleable__content\"><pre>passthrough</pre></div></div></div></div></div></div><div class=\"sk-parallel-item\"><div class=\"sk-item\"><div class=\"sk-label-container\"><div class=\"sk-label sk-toggleable\"><input class=\"sk-toggleable__control sk-hidden--visually\" id=\"sk-estimator-id-60\" type=\"checkbox\" ><label for=\"sk-estimator-id-60\" class=\"sk-toggleable__label sk-toggleable__label-arrow\">drop</label><div class=\"sk-toggleable__content\"><pre>[&#x27;Place&#x27;, &#x27;Place_norm&#x27;, &#x27;Draw_norm&#x27;]</pre></div></div></div><div class=\"sk-serial\"><div class=\"sk-item\"><div class=\"sk-estimator sk-toggleable\"><input class=\"sk-toggleable__control sk-hidden--visually\" id=\"sk-estimator-id-61\" type=\"checkbox\" ><label for=\"sk-estimator-id-61\" class=\"sk-toggleable__label sk-toggleable__label-arrow\">drop</label><div class=\"sk-toggleable__content\"><pre>drop</pre></div></div></div></div></div></div></div></div><div class=\"sk-item\"><div class=\"sk-estimator sk-toggleable\"><input class=\"sk-toggleable__control sk-hidden--visually\" id=\"sk-estimator-id-62\" type=\"checkbox\" ><label for=\"sk-estimator-id-62\" class=\"sk-toggleable__label sk-toggleable__label-arrow\">KNeighborsClassifier</label><div class=\"sk-toggleable__content\"><pre>KNeighborsClassifier(n_neighbors=20)</pre></div></div></div></div></div></div></div>"
      ],
      "text/plain": [
       "Pipeline(steps=[('columntransformer',\n",
       "                 ColumnTransformer(transformers=[('standardscaler',\n",
       "                                                  StandardScaler(),\n",
       "                                                  ['ActualWeight',\n",
       "                                                   'DeclaredHorseWeight',\n",
       "                                                   'Draw', 'H_Age',\n",
       "                                                   'PreviousPlace', 'AvgPlace3',\n",
       "                                                   'AvgPlace5', 'WeightDiff',\n",
       "                                                   'CombinedRating']),\n",
       "                                                 ('pipeline',\n",
       "                                                  Pipeline(steps=[('functiontransformer',\n",
       "                                                                   FunctionTransformer(func=<function log_func at 0x0000020C2B006820>)),\n",
       "                                                                  ('st...\n",
       "                                                   'T_Rate_show_norm',\n",
       "                                                   'H_TotalStake_norm',\n",
       "                                                   'H_Total_norm',\n",
       "                                                   'H_Rate_win_norm',\n",
       "                                                   'H_Rate_place_norm',\n",
       "                                                   'H_Rate_show_norm',\n",
       "                                                   'H_Age_norm',\n",
       "                                                   'LastRace_nDays_norm',\n",
       "                                                   'PreviousPlace_norm',\n",
       "                                                   'AvgPlace3_norm',\n",
       "                                                   'AvgPlace5_norm',\n",
       "                                                   'WeightDiff_norm',\n",
       "                                                   'CombinedRating_norm']),\n",
       "                                                 ('drop', 'drop',\n",
       "                                                  ['Place', 'Place_norm',\n",
       "                                                   'Draw_norm'])])),\n",
       "                ('kneighborsclassifier', KNeighborsClassifier(n_neighbors=20))])"
      ]
     },
     "execution_count": 30,
     "metadata": {},
     "output_type": "execute_result"
    }
   ],
   "source": [
    "pipe_knn_opt.fit( X_train, y_train)"
   ]
  },
  {
   "cell_type": "code",
   "execution_count": 31,
   "id": "89b0b8c7-f192-47a8-967e-d58d4dece361",
   "metadata": {},
   "outputs": [],
   "source": [
    "y_hat = pipe_knn_opt.predict( X_test)"
   ]
  },
  {
   "cell_type": "code",
   "execution_count": 32,
   "id": "86178478-508d-4d9e-b802-d00e75ce6ee8",
   "metadata": {},
   "outputs": [
    {
     "name": "stdout",
     "output_type": "stream",
     "text": [
      "[[   40  1044]\n",
      " [   34 11997]]\n",
      "              precision    recall  f1-score   support\n",
      "\n",
      "       False       0.92      1.00      0.96     12031\n",
      "        True       0.54      0.04      0.07      1084\n",
      "\n",
      "    accuracy                           0.92     13115\n",
      "   macro avg       0.73      0.52      0.51     13115\n",
      "weighted avg       0.89      0.92      0.88     13115\n",
      "\n"
     ]
    }
   ],
   "source": [
    "print( confusion_matrix( y_test, y_hat, labels = [ True, False]))\n",
    "print( classification_report( y_test, y_hat))"
   ]
  },
  {
   "cell_type": "code",
   "execution_count": null,
   "id": "ccc391f8-fbb3-452f-9367-cec1cad380dd",
   "metadata": {},
   "outputs": [],
   "source": []
  }
 ],
 "metadata": {
  "kernelspec": {
   "display_name": "Python 3 (ipykernel)",
   "language": "python",
   "name": "python3"
  },
  "language_info": {
   "codemirror_mode": {
    "name": "ipython",
    "version": 3
   },
   "file_extension": ".py",
   "mimetype": "text/x-python",
   "name": "python",
   "nbconvert_exporter": "python",
   "pygments_lexer": "ipython3",
   "version": "3.9.13"
  }
 },
 "nbformat": 4,
 "nbformat_minor": 5
}
