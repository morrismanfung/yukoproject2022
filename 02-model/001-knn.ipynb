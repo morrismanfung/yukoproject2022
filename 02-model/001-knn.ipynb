{
 "cells": [
  {
   "cell_type": "markdown",
   "id": "25354618-2a25-4162-be1c-ff9add5560ea",
   "metadata": {},
   "source": [
    "# Model evaluation"
   ]
  },
  {
   "cell_type": "markdown",
   "id": "49adfc16-a85d-4147-b5d7-c68bd02f630d",
   "metadata": {},
   "source": [
    "## General Data Wrangling"
   ]
  },
  {
   "cell_type": "code",
   "execution_count": 1,
   "id": "23b06c64-e29f-4b6e-a75a-4cb27155a193",
   "metadata": {},
   "outputs": [
    {
     "data": {
      "text/plain": [
       "DataTransformerRegistry.enable('data_server')"
      ]
     },
     "execution_count": 1,
     "metadata": {},
     "output_type": "execute_result"
    }
   ],
   "source": [
    "import numpy as np\n",
    "import pandas as pd\n",
    "import matplotlib.pyplot as plt\n",
    "import seaborn as sns\n",
    "from sklearn.model_selection import cross_val_score, cross_validate, train_test_split, GridSearchCV, RandomizedSearchCV\n",
    "from sklearn.preprocessing import StandardScaler, FunctionTransformer, PowerTransformer\n",
    "from sklearn.pipeline import Pipeline, make_pipeline\n",
    "from sklearn.compose import ColumnTransformer, make_column_transformer\n",
    "from sklearn.neighbors import KNeighborsClassifier\n",
    "from sklearn.svm import SVC\n",
    "from sklearn.ensemble import RandomForestClassifier\n",
    "from sklearn.naive_bayes import GaussianNB\n",
    "from sklearn.linear_model import LogisticRegression\n",
    "from sklearn.metrics import classification_report, confusion_matrix, precision_recall_curve\n",
    "import altair as alt\n",
    "alt.renderers.enable('mimetype')\n",
    "alt.data_transformers.enable('data_server')"
   ]
  },
  {
   "cell_type": "code",
   "execution_count": 2,
   "id": "8afc9527-a48b-4217-9913-9ccf2dc64fd5",
   "metadata": {},
   "outputs": [],
   "source": [
    "import sys\n",
    "sys.path.append('code/')\n",
    "from functions import *"
   ]
  },
  {
   "cell_type": "code",
   "execution_count": 3,
   "id": "9c852635-b091-4111-ab8a-dae66b85bba6",
   "metadata": {},
   "outputs": [
    {
     "name": "stderr",
     "output_type": "stream",
     "text": [
      "C:\\Users\\User\\AppData\\Local\\Temp\\ipykernel_16540\\2406342619.py:1: DtypeWarning: Columns (62) have mixed types. Specify dtype option on import or set low_memory=False.\n",
      "  data_full = pd.read_csv( '../01-data/data_merged_20220910_norm.csv')\n"
     ]
    }
   ],
   "source": [
    "data_full = pd.read_csv( '../01-data/data_merged_20220910_norm.csv')\n",
    "data_full = data_full.query('H_Age<100&Draw>0').reset_index( drop = True)\n",
    "y = data_full[ 'Winner']"
   ]
  },
  {
   "cell_type": "code",
   "execution_count": 4,
   "id": "5dadf8e4-f594-44bc-8366-46f2a36552e4",
   "metadata": {},
   "outputs": [
    {
     "name": "stdout",
     "output_type": "stream",
     "text": [
      "Index(['Place', 'ActualWeight', 'DeclaredHorseWeight', 'Draw', 'WinOdds',\n",
      "       'J_Rate_win', 'J_Rate_place', 'J_Rate_show', 'T_Rate_win',\n",
      "       'T_Rate_place', 'T_Rate_show', 'H_TotalStake', 'H_Total', 'H_Rate_win',\n",
      "       'H_Rate_place', 'H_Rate_show', 'H_Age', 'LastRace_nDays',\n",
      "       'PreviousPlace', 'AvgPlace3', 'AvgPlace5', 'WeightDiff',\n",
      "       'CombinedRating', 'Place_norm', 'ActualWeight_norm',\n",
      "       'DeclaredHorseWeight_norm', 'Draw_norm', 'WinOdds_norm',\n",
      "       'J_Rate_win_norm', 'J_Rate_place_norm', 'J_Rate_show_norm',\n",
      "       'T_Rate_win_norm', 'T_Rate_place_norm', 'T_Rate_show_norm',\n",
      "       'H_TotalStake_norm', 'H_Total_norm', 'H_Rate_win_norm',\n",
      "       'H_Rate_place_norm', 'H_Rate_show_norm', 'H_Age_norm',\n",
      "       'LastRace_nDays_norm', 'PreviousPlace_norm', 'AvgPlace3_norm',\n",
      "       'AvgPlace5_norm', 'WeightDiff_norm', 'CombinedRating_norm'],\n",
      "      dtype='object')\n"
     ]
    }
   ],
   "source": [
    "X = data_full.loc[ :, data_full.columns.str.startswith( 'ActualWeight') | data_full.columns.str.startswith( 'DeclaredHorseWeight') | \\\n",
    "    data_full.columns.str.startswith( 'WinOdds') | data_full.columns.str.startswith( 'Draw') | \\\n",
    "    data_full.columns.str.startswith( 'J_Total_') | data_full.columns.str.startswith( 'J_TotalStakes_') | \\\n",
    "    data_full.columns.str.startswith( 'J_Rate_') | \\\n",
    "    data_full.columns.str.startswith( 'T_Total_') | data_full.columns.str.startswith( 'T_TotalStakes_') | \\\n",
    "    data_full.columns.str.startswith( 'T_Rate') | \\\n",
    "    data_full.columns.str.startswith( 'H_Rate_') | data_full.columns.str.startswith( 'H_Total') | \\\n",
    "    data_full.columns.str.startswith( 'H_TotalStake') | data_full.columns.str.startswith( 'CombinedRating') | \\\n",
    "    data_full.columns.str.startswith( 'H_Age') | data_full.columns.str.startswith( 'WeightDiff') | \\\n",
    "    data_full.columns.str.startswith( 'LastRace_nDays') | data_full.columns.str.startswith( 'PreviousPlace') | \\\n",
    "    data_full.columns.str.startswith( 'AvgPlace3') | data_full.columns.str.startswith( 'AvgPlace5') | \\\n",
    "    data_full.columns.str.startswith( 'Place')] # Place is added for downsampling\n",
    "\n",
    "print( X.columns)"
   ]
  },
  {
   "cell_type": "code",
   "execution_count": 5,
   "id": "33b00a76-fac8-4594-91e1-a9cecba02625",
   "metadata": {},
   "outputs": [],
   "source": [
    "X_train, X_test, y_train, y_test = train_test_split( X, y, test_size = 0.8, random_state = 918)"
   ]
  },
  {
   "cell_type": "markdown",
   "id": "fb067844-e2a0-4591-af59-e76e58e0e8f6",
   "metadata": {},
   "source": [
    "Variables and corresponding transformations. (All relative indexes will not be transformed as they are theoretically normal)\n",
    "\n",
    "\n",
    "| Variable | Log? | Scaling |\n",
    "|----------|------|---------|\n",
    "| ActualWeight | No | Standard |\n",
    "| DeclaredHorseWeight | No | Standard |\n",
    "| Draw | No | Standard (_Ordinal_+Scaling) |\n",
    "| WinOdds | Yes  |Standard |\n",
    "| J_Rate_* | No | None |\n",
    "| T_Rate_* | No | None |\n",
    "| H_TotalStake | Yes | Standard |\n",
    "| H_Total | Yes | Standard |\n",
    "| H_Rate_* | No | None |\n",
    "| H_Age | No | Standard |\n",
    "| LastRace_nDays | Yes | Standard |\n",
    "| PreviousPlace | No | Standard |\n",
    "| AvgPlace* | No | Standard |\n",
    "| WeightDiff | No | Standard |\n",
    "| Rating | No | Standard |\n"
   ]
  },
  {
   "cell_type": "code",
   "execution_count": 6,
   "id": "bc73f870-1150-442a-87e4-54cddd35e62c",
   "metadata": {},
   "outputs": [],
   "source": [
    "cols_std = [\n",
    "    'ActualWeight', 'DeclaredHorseWeight', 'Draw', 'H_Age', 'PreviousPlace', 'AvgPlace3', 'AvgPlace5', 'WeightDiff', 'CombinedRating']\n",
    "\n",
    "cols_log_std = [\n",
    "    'WinOdds', 'H_TotalStake', 'H_Total', 'LastRace_nDays']\n",
    "\n",
    "cols_passthrough = [\n",
    "    'J_Rate_win', 'J_Rate_place', 'J_Rate_show', 'T_Rate_win', 'T_Rate_place', 'T_Rate_show',\n",
    "    'H_Rate_win', 'H_Rate_place', 'H_Rate_show',\n",
    "    'ActualWeight_norm', 'DeclaredHorseWeight_norm', 'WinOdds_norm',\n",
    "    'J_Rate_win_norm', 'J_Rate_place_norm', 'J_Rate_show_norm', 'T_Rate_win_norm', 'T_Rate_place_norm', 'T_Rate_show_norm',\n",
    "    'H_TotalStake_norm', 'H_Total_norm', 'H_Rate_win_norm', 'H_Rate_place_norm', 'H_Rate_show_norm', 'H_Age_norm',\n",
    "    'LastRace_nDays_norm', 'PreviousPlace_norm', 'AvgPlace3_norm', 'AvgPlace5_norm', 'WeightDiff_norm', 'CombinedRating_norm']\n",
    "\n",
    "cols_drop = [\n",
    "    'Place', 'Place_norm', 'Draw_norm']"
   ]
  },
  {
   "cell_type": "code",
   "execution_count": 7,
   "id": "d9bf48fd-31b8-42e5-b4e7-a45f3384dc21",
   "metadata": {},
   "outputs": [],
   "source": [
    "def log_func(x):\n",
    "    return np.log(x+1)"
   ]
  },
  {
   "cell_type": "code",
   "execution_count": 8,
   "id": "189c4cf5-b874-4b2f-a47e-7f789758b647",
   "metadata": {},
   "outputs": [],
   "source": [
    "log_transformer = FunctionTransformer( log_func)"
   ]
  },
  {
   "cell_type": "code",
   "execution_count": 9,
   "id": "3febf5db-acca-4053-b926-c8a2e75b51f9",
   "metadata": {},
   "outputs": [],
   "source": [
    "pipe_log_std = make_pipeline(\n",
    "    log_transformer, StandardScaler()\n",
    ")"
   ]
  },
  {
   "cell_type": "code",
   "execution_count": 10,
   "id": "3c9d6fab-fe34-4c23-8f93-f13477580a97",
   "metadata": {},
   "outputs": [],
   "source": [
    "column_transformer = make_column_transformer(\n",
    "    ( StandardScaler(), cols_std),\n",
    "    ( pipe_log_std, cols_log_std),\n",
    "    ( 'passthrough', cols_passthrough),\n",
    "    ( 'drop', cols_drop)\n",
    ")"
   ]
  },
  {
   "cell_type": "markdown",
   "id": "dbcd6360-7016-4863-b8ec-de37fc5fe03d",
   "metadata": {},
   "source": [
    "## KNN"
   ]
  },
  {
   "cell_type": "markdown",
   "id": "a6717548-739e-47a7-8ada-4d7d81e20330",
   "metadata": {},
   "source": [
    "### Model training"
   ]
  },
  {
   "cell_type": "code",
   "execution_count": 11,
   "id": "29d4bb5c-aeb1-4581-8005-5773644a1358",
   "metadata": {},
   "outputs": [],
   "source": [
    "pipe_knn = make_pipeline( column_transformer, KNeighborsClassifier())"
   ]
  },
  {
   "cell_type": "code",
   "execution_count": 12,
   "id": "14e2536c-45ef-4534-b009-542c8ff6d225",
   "metadata": {},
   "outputs": [],
   "source": [
    "cv_result_knn = cross_validate( pipe_knn, X_train, y_train, cv = 5, return_train_score = True, scoring = 'precision')"
   ]
  },
  {
   "cell_type": "code",
   "execution_count": 13,
   "id": "29a27ca1-9dd8-46df-8892-7b7671ba0732",
   "metadata": {},
   "outputs": [
    {
     "data": {
      "text/plain": [
       "fit_time       0.031762\n",
       "score_time     0.221136\n",
       "test_score     0.339391\n",
       "train_score    0.697039\n",
       "dtype: float64"
      ]
     },
     "execution_count": 13,
     "metadata": {},
     "output_type": "execute_result"
    }
   ],
   "source": [
    "pd.DataFrame( cv_result_knn).mean()"
   ]
  },
  {
   "cell_type": "markdown",
   "id": "a8289e82-2a57-4829-ae0b-12bb5861e85c",
   "metadata": {},
   "source": [
    "### Hyperparameter optimization"
   ]
  },
  {
   "cell_type": "code",
   "execution_count": 14,
   "id": "a81eb306-ee30-44e5-8229-22657c3aa354",
   "metadata": {},
   "outputs": [],
   "source": [
    "param_grid = {\n",
    "    \"kneighborsclassifier__n_neighbors\": list( range( 5, 35, 5))\n",
    "}\n",
    "\n",
    "grid_search_knn = GridSearchCV(\n",
    "    pipe_knn, param_grid, cv = 5, scoring = 'precision', n_jobs=-1, return_train_score = True\n",
    ")"
   ]
  },
  {
   "cell_type": "code",
   "execution_count": 15,
   "id": "d7f06498-56d6-4973-b028-39a357228c7d",
   "metadata": {},
   "outputs": [
    {
     "data": {
      "text/html": [
       "<style>#sk-container-id-1 {color: black;background-color: white;}#sk-container-id-1 pre{padding: 0;}#sk-container-id-1 div.sk-toggleable {background-color: white;}#sk-container-id-1 label.sk-toggleable__label {cursor: pointer;display: block;width: 100%;margin-bottom: 0;padding: 0.3em;box-sizing: border-box;text-align: center;}#sk-container-id-1 label.sk-toggleable__label-arrow:before {content: \"▸\";float: left;margin-right: 0.25em;color: #696969;}#sk-container-id-1 label.sk-toggleable__label-arrow:hover:before {color: black;}#sk-container-id-1 div.sk-estimator:hover label.sk-toggleable__label-arrow:before {color: black;}#sk-container-id-1 div.sk-toggleable__content {max-height: 0;max-width: 0;overflow: hidden;text-align: left;background-color: #f0f8ff;}#sk-container-id-1 div.sk-toggleable__content pre {margin: 0.2em;color: black;border-radius: 0.25em;background-color: #f0f8ff;}#sk-container-id-1 input.sk-toggleable__control:checked~div.sk-toggleable__content {max-height: 200px;max-width: 100%;overflow: auto;}#sk-container-id-1 input.sk-toggleable__control:checked~label.sk-toggleable__label-arrow:before {content: \"▾\";}#sk-container-id-1 div.sk-estimator input.sk-toggleable__control:checked~label.sk-toggleable__label {background-color: #d4ebff;}#sk-container-id-1 div.sk-label input.sk-toggleable__control:checked~label.sk-toggleable__label {background-color: #d4ebff;}#sk-container-id-1 input.sk-hidden--visually {border: 0;clip: rect(1px 1px 1px 1px);clip: rect(1px, 1px, 1px, 1px);height: 1px;margin: -1px;overflow: hidden;padding: 0;position: absolute;width: 1px;}#sk-container-id-1 div.sk-estimator {font-family: monospace;background-color: #f0f8ff;border: 1px dotted black;border-radius: 0.25em;box-sizing: border-box;margin-bottom: 0.5em;}#sk-container-id-1 div.sk-estimator:hover {background-color: #d4ebff;}#sk-container-id-1 div.sk-parallel-item::after {content: \"\";width: 100%;border-bottom: 1px solid gray;flex-grow: 1;}#sk-container-id-1 div.sk-label:hover label.sk-toggleable__label {background-color: #d4ebff;}#sk-container-id-1 div.sk-serial::before {content: \"\";position: absolute;border-left: 1px solid gray;box-sizing: border-box;top: 0;bottom: 0;left: 50%;z-index: 0;}#sk-container-id-1 div.sk-serial {display: flex;flex-direction: column;align-items: center;background-color: white;padding-right: 0.2em;padding-left: 0.2em;position: relative;}#sk-container-id-1 div.sk-item {position: relative;z-index: 1;}#sk-container-id-1 div.sk-parallel {display: flex;align-items: stretch;justify-content: center;background-color: white;position: relative;}#sk-container-id-1 div.sk-item::before, #sk-container-id-1 div.sk-parallel-item::before {content: \"\";position: absolute;border-left: 1px solid gray;box-sizing: border-box;top: 0;bottom: 0;left: 50%;z-index: -1;}#sk-container-id-1 div.sk-parallel-item {display: flex;flex-direction: column;z-index: 1;position: relative;background-color: white;}#sk-container-id-1 div.sk-parallel-item:first-child::after {align-self: flex-end;width: 50%;}#sk-container-id-1 div.sk-parallel-item:last-child::after {align-self: flex-start;width: 50%;}#sk-container-id-1 div.sk-parallel-item:only-child::after {width: 0;}#sk-container-id-1 div.sk-dashed-wrapped {border: 1px dashed gray;margin: 0 0.4em 0.5em 0.4em;box-sizing: border-box;padding-bottom: 0.4em;background-color: white;}#sk-container-id-1 div.sk-label label {font-family: monospace;font-weight: bold;display: inline-block;line-height: 1.2em;}#sk-container-id-1 div.sk-label-container {text-align: center;}#sk-container-id-1 div.sk-container {/* jupyter's `normalize.less` sets `[hidden] { display: none; }` but bootstrap.min.css set `[hidden] { display: none !important; }` so we also need the `!important` here to be able to override the default hidden behavior on the sphinx rendered scikit-learn.org. See: https://github.com/scikit-learn/scikit-learn/issues/21755 */display: inline-block !important;position: relative;}#sk-container-id-1 div.sk-text-repr-fallback {display: none;}</style><div id=\"sk-container-id-1\" class=\"sk-top-container\"><div class=\"sk-text-repr-fallback\"><pre>GridSearchCV(cv=5,\n",
       "             estimator=Pipeline(steps=[(&#x27;columntransformer&#x27;,\n",
       "                                        ColumnTransformer(transformers=[(&#x27;standardscaler&#x27;,\n",
       "                                                                         StandardScaler(),\n",
       "                                                                         [&#x27;ActualWeight&#x27;,\n",
       "                                                                          &#x27;DeclaredHorseWeight&#x27;,\n",
       "                                                                          &#x27;Draw&#x27;,\n",
       "                                                                          &#x27;H_Age&#x27;,\n",
       "                                                                          &#x27;PreviousPlace&#x27;,\n",
       "                                                                          &#x27;AvgPlace3&#x27;,\n",
       "                                                                          &#x27;AvgPlace5&#x27;,\n",
       "                                                                          &#x27;WeightDiff&#x27;,\n",
       "                                                                          &#x27;CombinedRating&#x27;]),\n",
       "                                                                        (&#x27;pipeline&#x27;,\n",
       "                                                                         Pipeline(steps=[(&#x27;functiontransformer&#x27;,\n",
       "                                                                                          FunctionTransformer(func=&lt;function log_func...\n",
       "                                                                          &#x27;H_Age_norm&#x27;,\n",
       "                                                                          &#x27;LastRace_nDays_norm&#x27;,\n",
       "                                                                          &#x27;PreviousPlace_norm&#x27;,\n",
       "                                                                          &#x27;AvgPlace3_norm&#x27;,\n",
       "                                                                          &#x27;AvgPlace5_norm&#x27;,\n",
       "                                                                          &#x27;WeightDiff_norm&#x27;,\n",
       "                                                                          &#x27;CombinedRating_norm&#x27;]),\n",
       "                                                                        (&#x27;drop&#x27;,\n",
       "                                                                         &#x27;drop&#x27;,\n",
       "                                                                         [&#x27;Place&#x27;,\n",
       "                                                                          &#x27;Place_norm&#x27;,\n",
       "                                                                          &#x27;Draw_norm&#x27;])])),\n",
       "                                       (&#x27;kneighborsclassifier&#x27;,\n",
       "                                        KNeighborsClassifier())]),\n",
       "             n_jobs=-1,\n",
       "             param_grid={&#x27;kneighborsclassifier__n_neighbors&#x27;: [5, 10, 15, 20,\n",
       "                                                               25, 30]},\n",
       "             return_train_score=True, scoring=&#x27;precision&#x27;)</pre><b>In a Jupyter environment, please rerun this cell to show the HTML representation or trust the notebook. <br />On GitHub, the HTML representation is unable to render, please try loading this page with nbviewer.org.</b></div><div class=\"sk-container\" hidden><div class=\"sk-item sk-dashed-wrapped\"><div class=\"sk-label-container\"><div class=\"sk-label sk-toggleable\"><input class=\"sk-toggleable__control sk-hidden--visually\" id=\"sk-estimator-id-1\" type=\"checkbox\" ><label for=\"sk-estimator-id-1\" class=\"sk-toggleable__label sk-toggleable__label-arrow\">GridSearchCV</label><div class=\"sk-toggleable__content\"><pre>GridSearchCV(cv=5,\n",
       "             estimator=Pipeline(steps=[(&#x27;columntransformer&#x27;,\n",
       "                                        ColumnTransformer(transformers=[(&#x27;standardscaler&#x27;,\n",
       "                                                                         StandardScaler(),\n",
       "                                                                         [&#x27;ActualWeight&#x27;,\n",
       "                                                                          &#x27;DeclaredHorseWeight&#x27;,\n",
       "                                                                          &#x27;Draw&#x27;,\n",
       "                                                                          &#x27;H_Age&#x27;,\n",
       "                                                                          &#x27;PreviousPlace&#x27;,\n",
       "                                                                          &#x27;AvgPlace3&#x27;,\n",
       "                                                                          &#x27;AvgPlace5&#x27;,\n",
       "                                                                          &#x27;WeightDiff&#x27;,\n",
       "                                                                          &#x27;CombinedRating&#x27;]),\n",
       "                                                                        (&#x27;pipeline&#x27;,\n",
       "                                                                         Pipeline(steps=[(&#x27;functiontransformer&#x27;,\n",
       "                                                                                          FunctionTransformer(func=&lt;function log_func...\n",
       "                                                                          &#x27;H_Age_norm&#x27;,\n",
       "                                                                          &#x27;LastRace_nDays_norm&#x27;,\n",
       "                                                                          &#x27;PreviousPlace_norm&#x27;,\n",
       "                                                                          &#x27;AvgPlace3_norm&#x27;,\n",
       "                                                                          &#x27;AvgPlace5_norm&#x27;,\n",
       "                                                                          &#x27;WeightDiff_norm&#x27;,\n",
       "                                                                          &#x27;CombinedRating_norm&#x27;]),\n",
       "                                                                        (&#x27;drop&#x27;,\n",
       "                                                                         &#x27;drop&#x27;,\n",
       "                                                                         [&#x27;Place&#x27;,\n",
       "                                                                          &#x27;Place_norm&#x27;,\n",
       "                                                                          &#x27;Draw_norm&#x27;])])),\n",
       "                                       (&#x27;kneighborsclassifier&#x27;,\n",
       "                                        KNeighborsClassifier())]),\n",
       "             n_jobs=-1,\n",
       "             param_grid={&#x27;kneighborsclassifier__n_neighbors&#x27;: [5, 10, 15, 20,\n",
       "                                                               25, 30]},\n",
       "             return_train_score=True, scoring=&#x27;precision&#x27;)</pre></div></div></div><div class=\"sk-parallel\"><div class=\"sk-parallel-item\"><div class=\"sk-item\"><div class=\"sk-label-container\"><div class=\"sk-label sk-toggleable\"><input class=\"sk-toggleable__control sk-hidden--visually\" id=\"sk-estimator-id-2\" type=\"checkbox\" ><label for=\"sk-estimator-id-2\" class=\"sk-toggleable__label sk-toggleable__label-arrow\">estimator: Pipeline</label><div class=\"sk-toggleable__content\"><pre>Pipeline(steps=[(&#x27;columntransformer&#x27;,\n",
       "                 ColumnTransformer(transformers=[(&#x27;standardscaler&#x27;,\n",
       "                                                  StandardScaler(),\n",
       "                                                  [&#x27;ActualWeight&#x27;,\n",
       "                                                   &#x27;DeclaredHorseWeight&#x27;,\n",
       "                                                   &#x27;Draw&#x27;, &#x27;H_Age&#x27;,\n",
       "                                                   &#x27;PreviousPlace&#x27;, &#x27;AvgPlace3&#x27;,\n",
       "                                                   &#x27;AvgPlace5&#x27;, &#x27;WeightDiff&#x27;,\n",
       "                                                   &#x27;CombinedRating&#x27;]),\n",
       "                                                 (&#x27;pipeline&#x27;,\n",
       "                                                  Pipeline(steps=[(&#x27;functiontransformer&#x27;,\n",
       "                                                                   FunctionTransformer(func=&lt;function log_func at 0x000001EBDABD6D30&gt;)),\n",
       "                                                                  (&#x27;st...\n",
       "                                                   &#x27;T_Rate_place_norm&#x27;,\n",
       "                                                   &#x27;T_Rate_show_norm&#x27;,\n",
       "                                                   &#x27;H_TotalStake_norm&#x27;,\n",
       "                                                   &#x27;H_Total_norm&#x27;,\n",
       "                                                   &#x27;H_Rate_win_norm&#x27;,\n",
       "                                                   &#x27;H_Rate_place_norm&#x27;,\n",
       "                                                   &#x27;H_Rate_show_norm&#x27;,\n",
       "                                                   &#x27;H_Age_norm&#x27;,\n",
       "                                                   &#x27;LastRace_nDays_norm&#x27;,\n",
       "                                                   &#x27;PreviousPlace_norm&#x27;,\n",
       "                                                   &#x27;AvgPlace3_norm&#x27;,\n",
       "                                                   &#x27;AvgPlace5_norm&#x27;,\n",
       "                                                   &#x27;WeightDiff_norm&#x27;,\n",
       "                                                   &#x27;CombinedRating_norm&#x27;]),\n",
       "                                                 (&#x27;drop&#x27;, &#x27;drop&#x27;,\n",
       "                                                  [&#x27;Place&#x27;, &#x27;Place_norm&#x27;,\n",
       "                                                   &#x27;Draw_norm&#x27;])])),\n",
       "                (&#x27;kneighborsclassifier&#x27;, KNeighborsClassifier())])</pre></div></div></div><div class=\"sk-serial\"><div class=\"sk-item\"><div class=\"sk-serial\"><div class=\"sk-item sk-dashed-wrapped\"><div class=\"sk-label-container\"><div class=\"sk-label sk-toggleable\"><input class=\"sk-toggleable__control sk-hidden--visually\" id=\"sk-estimator-id-3\" type=\"checkbox\" ><label for=\"sk-estimator-id-3\" class=\"sk-toggleable__label sk-toggleable__label-arrow\">columntransformer: ColumnTransformer</label><div class=\"sk-toggleable__content\"><pre>ColumnTransformer(transformers=[(&#x27;standardscaler&#x27;, StandardScaler(),\n",
       "                                 [&#x27;ActualWeight&#x27;, &#x27;DeclaredHorseWeight&#x27;, &#x27;Draw&#x27;,\n",
       "                                  &#x27;H_Age&#x27;, &#x27;PreviousPlace&#x27;, &#x27;AvgPlace3&#x27;,\n",
       "                                  &#x27;AvgPlace5&#x27;, &#x27;WeightDiff&#x27;,\n",
       "                                  &#x27;CombinedRating&#x27;]),\n",
       "                                (&#x27;pipeline&#x27;,\n",
       "                                 Pipeline(steps=[(&#x27;functiontransformer&#x27;,\n",
       "                                                  FunctionTransformer(func=&lt;function log_func at 0x000001EBDABD6D30&gt;)),\n",
       "                                                 (&#x27;standardscaler&#x27;,\n",
       "                                                  StandardScaler())]),\n",
       "                                 [&#x27;W...\n",
       "                                  &#x27;J_Rate_show_norm&#x27;, &#x27;T_Rate_win_norm&#x27;,\n",
       "                                  &#x27;T_Rate_place_norm&#x27;, &#x27;T_Rate_show_norm&#x27;,\n",
       "                                  &#x27;H_TotalStake_norm&#x27;, &#x27;H_Total_norm&#x27;,\n",
       "                                  &#x27;H_Rate_win_norm&#x27;, &#x27;H_Rate_place_norm&#x27;,\n",
       "                                  &#x27;H_Rate_show_norm&#x27;, &#x27;H_Age_norm&#x27;,\n",
       "                                  &#x27;LastRace_nDays_norm&#x27;, &#x27;PreviousPlace_norm&#x27;,\n",
       "                                  &#x27;AvgPlace3_norm&#x27;, &#x27;AvgPlace5_norm&#x27;,\n",
       "                                  &#x27;WeightDiff_norm&#x27;, &#x27;CombinedRating_norm&#x27;]),\n",
       "                                (&#x27;drop&#x27;, &#x27;drop&#x27;,\n",
       "                                 [&#x27;Place&#x27;, &#x27;Place_norm&#x27;, &#x27;Draw_norm&#x27;])])</pre></div></div></div><div class=\"sk-parallel\"><div class=\"sk-parallel-item\"><div class=\"sk-item\"><div class=\"sk-label-container\"><div class=\"sk-label sk-toggleable\"><input class=\"sk-toggleable__control sk-hidden--visually\" id=\"sk-estimator-id-4\" type=\"checkbox\" ><label for=\"sk-estimator-id-4\" class=\"sk-toggleable__label sk-toggleable__label-arrow\">standardscaler</label><div class=\"sk-toggleable__content\"><pre>[&#x27;ActualWeight&#x27;, &#x27;DeclaredHorseWeight&#x27;, &#x27;Draw&#x27;, &#x27;H_Age&#x27;, &#x27;PreviousPlace&#x27;, &#x27;AvgPlace3&#x27;, &#x27;AvgPlace5&#x27;, &#x27;WeightDiff&#x27;, &#x27;CombinedRating&#x27;]</pre></div></div></div><div class=\"sk-serial\"><div class=\"sk-item\"><div class=\"sk-estimator sk-toggleable\"><input class=\"sk-toggleable__control sk-hidden--visually\" id=\"sk-estimator-id-5\" type=\"checkbox\" ><label for=\"sk-estimator-id-5\" class=\"sk-toggleable__label sk-toggleable__label-arrow\">StandardScaler</label><div class=\"sk-toggleable__content\"><pre>StandardScaler()</pre></div></div></div></div></div></div><div class=\"sk-parallel-item\"><div class=\"sk-item\"><div class=\"sk-label-container\"><div class=\"sk-label sk-toggleable\"><input class=\"sk-toggleable__control sk-hidden--visually\" id=\"sk-estimator-id-6\" type=\"checkbox\" ><label for=\"sk-estimator-id-6\" class=\"sk-toggleable__label sk-toggleable__label-arrow\">pipeline</label><div class=\"sk-toggleable__content\"><pre>[&#x27;WinOdds&#x27;, &#x27;H_TotalStake&#x27;, &#x27;H_Total&#x27;, &#x27;LastRace_nDays&#x27;]</pre></div></div></div><div class=\"sk-serial\"><div class=\"sk-item\"><div class=\"sk-serial\"><div class=\"sk-item\"><div class=\"sk-estimator sk-toggleable\"><input class=\"sk-toggleable__control sk-hidden--visually\" id=\"sk-estimator-id-7\" type=\"checkbox\" ><label for=\"sk-estimator-id-7\" class=\"sk-toggleable__label sk-toggleable__label-arrow\">FunctionTransformer</label><div class=\"sk-toggleable__content\"><pre>FunctionTransformer(func=&lt;function log_func at 0x000001EBDABD6D30&gt;)</pre></div></div></div><div class=\"sk-item\"><div class=\"sk-estimator sk-toggleable\"><input class=\"sk-toggleable__control sk-hidden--visually\" id=\"sk-estimator-id-8\" type=\"checkbox\" ><label for=\"sk-estimator-id-8\" class=\"sk-toggleable__label sk-toggleable__label-arrow\">StandardScaler</label><div class=\"sk-toggleable__content\"><pre>StandardScaler()</pre></div></div></div></div></div></div></div></div><div class=\"sk-parallel-item\"><div class=\"sk-item\"><div class=\"sk-label-container\"><div class=\"sk-label sk-toggleable\"><input class=\"sk-toggleable__control sk-hidden--visually\" id=\"sk-estimator-id-9\" type=\"checkbox\" ><label for=\"sk-estimator-id-9\" class=\"sk-toggleable__label sk-toggleable__label-arrow\">passthrough</label><div class=\"sk-toggleable__content\"><pre>[&#x27;J_Rate_win&#x27;, &#x27;J_Rate_place&#x27;, &#x27;J_Rate_show&#x27;, &#x27;T_Rate_win&#x27;, &#x27;T_Rate_place&#x27;, &#x27;T_Rate_show&#x27;, &#x27;H_Rate_win&#x27;, &#x27;H_Rate_place&#x27;, &#x27;H_Rate_show&#x27;, &#x27;ActualWeight_norm&#x27;, &#x27;DeclaredHorseWeight_norm&#x27;, &#x27;WinOdds_norm&#x27;, &#x27;J_Rate_win_norm&#x27;, &#x27;J_Rate_place_norm&#x27;, &#x27;J_Rate_show_norm&#x27;, &#x27;T_Rate_win_norm&#x27;, &#x27;T_Rate_place_norm&#x27;, &#x27;T_Rate_show_norm&#x27;, &#x27;H_TotalStake_norm&#x27;, &#x27;H_Total_norm&#x27;, &#x27;H_Rate_win_norm&#x27;, &#x27;H_Rate_place_norm&#x27;, &#x27;H_Rate_show_norm&#x27;, &#x27;H_Age_norm&#x27;, &#x27;LastRace_nDays_norm&#x27;, &#x27;PreviousPlace_norm&#x27;, &#x27;AvgPlace3_norm&#x27;, &#x27;AvgPlace5_norm&#x27;, &#x27;WeightDiff_norm&#x27;, &#x27;CombinedRating_norm&#x27;]</pre></div></div></div><div class=\"sk-serial\"><div class=\"sk-item\"><div class=\"sk-estimator sk-toggleable\"><input class=\"sk-toggleable__control sk-hidden--visually\" id=\"sk-estimator-id-10\" type=\"checkbox\" ><label for=\"sk-estimator-id-10\" class=\"sk-toggleable__label sk-toggleable__label-arrow\">passthrough</label><div class=\"sk-toggleable__content\"><pre>passthrough</pre></div></div></div></div></div></div><div class=\"sk-parallel-item\"><div class=\"sk-item\"><div class=\"sk-label-container\"><div class=\"sk-label sk-toggleable\"><input class=\"sk-toggleable__control sk-hidden--visually\" id=\"sk-estimator-id-11\" type=\"checkbox\" ><label for=\"sk-estimator-id-11\" class=\"sk-toggleable__label sk-toggleable__label-arrow\">drop</label><div class=\"sk-toggleable__content\"><pre>[&#x27;Place&#x27;, &#x27;Place_norm&#x27;, &#x27;Draw_norm&#x27;]</pre></div></div></div><div class=\"sk-serial\"><div class=\"sk-item\"><div class=\"sk-estimator sk-toggleable\"><input class=\"sk-toggleable__control sk-hidden--visually\" id=\"sk-estimator-id-12\" type=\"checkbox\" ><label for=\"sk-estimator-id-12\" class=\"sk-toggleable__label sk-toggleable__label-arrow\">drop</label><div class=\"sk-toggleable__content\"><pre>drop</pre></div></div></div></div></div></div></div></div><div class=\"sk-item\"><div class=\"sk-estimator sk-toggleable\"><input class=\"sk-toggleable__control sk-hidden--visually\" id=\"sk-estimator-id-13\" type=\"checkbox\" ><label for=\"sk-estimator-id-13\" class=\"sk-toggleable__label sk-toggleable__label-arrow\">KNeighborsClassifier</label><div class=\"sk-toggleable__content\"><pre>KNeighborsClassifier()</pre></div></div></div></div></div></div></div></div></div></div></div></div>"
      ],
      "text/plain": [
       "GridSearchCV(cv=5,\n",
       "             estimator=Pipeline(steps=[('columntransformer',\n",
       "                                        ColumnTransformer(transformers=[('standardscaler',\n",
       "                                                                         StandardScaler(),\n",
       "                                                                         ['ActualWeight',\n",
       "                                                                          'DeclaredHorseWeight',\n",
       "                                                                          'Draw',\n",
       "                                                                          'H_Age',\n",
       "                                                                          'PreviousPlace',\n",
       "                                                                          'AvgPlace3',\n",
       "                                                                          'AvgPlace5',\n",
       "                                                                          'WeightDiff',\n",
       "                                                                          'CombinedRating']),\n",
       "                                                                        ('pipeline',\n",
       "                                                                         Pipeline(steps=[('functiontransformer',\n",
       "                                                                                          FunctionTransformer(func=<function log_func...\n",
       "                                                                          'H_Age_norm',\n",
       "                                                                          'LastRace_nDays_norm',\n",
       "                                                                          'PreviousPlace_norm',\n",
       "                                                                          'AvgPlace3_norm',\n",
       "                                                                          'AvgPlace5_norm',\n",
       "                                                                          'WeightDiff_norm',\n",
       "                                                                          'CombinedRating_norm']),\n",
       "                                                                        ('drop',\n",
       "                                                                         'drop',\n",
       "                                                                         ['Place',\n",
       "                                                                          'Place_norm',\n",
       "                                                                          'Draw_norm'])])),\n",
       "                                       ('kneighborsclassifier',\n",
       "                                        KNeighborsClassifier())]),\n",
       "             n_jobs=-1,\n",
       "             param_grid={'kneighborsclassifier__n_neighbors': [5, 10, 15, 20,\n",
       "                                                               25, 30]},\n",
       "             return_train_score=True, scoring='precision')"
      ]
     },
     "execution_count": 15,
     "metadata": {},
     "output_type": "execute_result"
    }
   ],
   "source": [
    "grid_search_knn.fit( X_train, y_train)"
   ]
  },
  {
   "cell_type": "code",
   "execution_count": 16,
   "id": "9e1a19d4-740a-45dc-bfdd-445e943a4de0",
   "metadata": {},
   "outputs": [
    {
     "data": {
      "text/html": [
       "<div>\n",
       "<style scoped>\n",
       "    .dataframe tbody tr th:only-of-type {\n",
       "        vertical-align: middle;\n",
       "    }\n",
       "\n",
       "    .dataframe tbody tr th {\n",
       "        vertical-align: top;\n",
       "    }\n",
       "\n",
       "    .dataframe thead th {\n",
       "        text-align: right;\n",
       "    }\n",
       "</style>\n",
       "<table border=\"1\" class=\"dataframe\">\n",
       "  <thead>\n",
       "    <tr style=\"text-align: right;\">\n",
       "      <th></th>\n",
       "      <th>params</th>\n",
       "      <th>mean_test_score</th>\n",
       "    </tr>\n",
       "  </thead>\n",
       "  <tbody>\n",
       "    <tr>\n",
       "      <th>4</th>\n",
       "      <td>{'kneighborsclassifier__n_neighbors': 25}</td>\n",
       "      <td>0.644286</td>\n",
       "    </tr>\n",
       "    <tr>\n",
       "      <th>3</th>\n",
       "      <td>{'kneighborsclassifier__n_neighbors': 20}</td>\n",
       "      <td>0.633333</td>\n",
       "    </tr>\n",
       "    <tr>\n",
       "      <th>5</th>\n",
       "      <td>{'kneighborsclassifier__n_neighbors': 30}</td>\n",
       "      <td>0.566667</td>\n",
       "    </tr>\n",
       "    <tr>\n",
       "      <th>1</th>\n",
       "      <td>{'kneighborsclassifier__n_neighbors': 10}</td>\n",
       "      <td>0.433333</td>\n",
       "    </tr>\n",
       "    <tr>\n",
       "      <th>2</th>\n",
       "      <td>{'kneighborsclassifier__n_neighbors': 15}</td>\n",
       "      <td>0.391111</td>\n",
       "    </tr>\n",
       "    <tr>\n",
       "      <th>0</th>\n",
       "      <td>{'kneighborsclassifier__n_neighbors': 5}</td>\n",
       "      <td>0.339391</td>\n",
       "    </tr>\n",
       "  </tbody>\n",
       "</table>\n",
       "</div>"
      ],
      "text/plain": [
       "                                      params  mean_test_score\n",
       "4  {'kneighborsclassifier__n_neighbors': 25}         0.644286\n",
       "3  {'kneighborsclassifier__n_neighbors': 20}         0.633333\n",
       "5  {'kneighborsclassifier__n_neighbors': 30}         0.566667\n",
       "1  {'kneighborsclassifier__n_neighbors': 10}         0.433333\n",
       "2  {'kneighborsclassifier__n_neighbors': 15}         0.391111\n",
       "0   {'kneighborsclassifier__n_neighbors': 5}         0.339391"
      ]
     },
     "execution_count": 16,
     "metadata": {},
     "output_type": "execute_result"
    }
   ],
   "source": [
    "cv_results_knn_opt = pd.DataFrame( grid_search_knn.cv_results_)\n",
    "cv_results_knn_opt[ ['params', 'mean_test_score']].sort_values( 'mean_test_score', ascending = False)"
   ]
  },
  {
   "cell_type": "markdown",
   "id": "2e6bd752-81c2-41d3-8421-a613aa5f1d4a",
   "metadata": {},
   "source": [
    "### Final model evaluation"
   ]
  },
  {
   "cell_type": "code",
   "execution_count": 17,
   "id": "31c7f212-bd2f-4b2d-8a7e-124f1e9c45eb",
   "metadata": {},
   "outputs": [
    {
     "data": {
      "text/plain": [
       "{'kneighborsclassifier__n_neighbors': 25}"
      ]
     },
     "execution_count": 17,
     "metadata": {},
     "output_type": "execute_result"
    }
   ],
   "source": [
    "grid_search_knn.best_params_"
   ]
  },
  {
   "cell_type": "code",
   "execution_count": 18,
   "id": "08f04f94-476b-45d0-9995-2d4d610bc8d3",
   "metadata": {},
   "outputs": [],
   "source": [
    "pipe_knn_opt = make_pipeline( column_transformer,\n",
    "                              KNeighborsClassifier( n_neighbors = grid_search_knn.best_params_[ 'kneighborsclassifier__n_neighbors']))"
   ]
  },
  {
   "cell_type": "code",
   "execution_count": 19,
   "id": "926ffd54-7a60-4710-97b1-20d087734047",
   "metadata": {},
   "outputs": [
    {
     "data": {
      "text/html": [
       "<style>#sk-container-id-2 {color: black;background-color: white;}#sk-container-id-2 pre{padding: 0;}#sk-container-id-2 div.sk-toggleable {background-color: white;}#sk-container-id-2 label.sk-toggleable__label {cursor: pointer;display: block;width: 100%;margin-bottom: 0;padding: 0.3em;box-sizing: border-box;text-align: center;}#sk-container-id-2 label.sk-toggleable__label-arrow:before {content: \"▸\";float: left;margin-right: 0.25em;color: #696969;}#sk-container-id-2 label.sk-toggleable__label-arrow:hover:before {color: black;}#sk-container-id-2 div.sk-estimator:hover label.sk-toggleable__label-arrow:before {color: black;}#sk-container-id-2 div.sk-toggleable__content {max-height: 0;max-width: 0;overflow: hidden;text-align: left;background-color: #f0f8ff;}#sk-container-id-2 div.sk-toggleable__content pre {margin: 0.2em;color: black;border-radius: 0.25em;background-color: #f0f8ff;}#sk-container-id-2 input.sk-toggleable__control:checked~div.sk-toggleable__content {max-height: 200px;max-width: 100%;overflow: auto;}#sk-container-id-2 input.sk-toggleable__control:checked~label.sk-toggleable__label-arrow:before {content: \"▾\";}#sk-container-id-2 div.sk-estimator input.sk-toggleable__control:checked~label.sk-toggleable__label {background-color: #d4ebff;}#sk-container-id-2 div.sk-label input.sk-toggleable__control:checked~label.sk-toggleable__label {background-color: #d4ebff;}#sk-container-id-2 input.sk-hidden--visually {border: 0;clip: rect(1px 1px 1px 1px);clip: rect(1px, 1px, 1px, 1px);height: 1px;margin: -1px;overflow: hidden;padding: 0;position: absolute;width: 1px;}#sk-container-id-2 div.sk-estimator {font-family: monospace;background-color: #f0f8ff;border: 1px dotted black;border-radius: 0.25em;box-sizing: border-box;margin-bottom: 0.5em;}#sk-container-id-2 div.sk-estimator:hover {background-color: #d4ebff;}#sk-container-id-2 div.sk-parallel-item::after {content: \"\";width: 100%;border-bottom: 1px solid gray;flex-grow: 1;}#sk-container-id-2 div.sk-label:hover label.sk-toggleable__label {background-color: #d4ebff;}#sk-container-id-2 div.sk-serial::before {content: \"\";position: absolute;border-left: 1px solid gray;box-sizing: border-box;top: 0;bottom: 0;left: 50%;z-index: 0;}#sk-container-id-2 div.sk-serial {display: flex;flex-direction: column;align-items: center;background-color: white;padding-right: 0.2em;padding-left: 0.2em;position: relative;}#sk-container-id-2 div.sk-item {position: relative;z-index: 1;}#sk-container-id-2 div.sk-parallel {display: flex;align-items: stretch;justify-content: center;background-color: white;position: relative;}#sk-container-id-2 div.sk-item::before, #sk-container-id-2 div.sk-parallel-item::before {content: \"\";position: absolute;border-left: 1px solid gray;box-sizing: border-box;top: 0;bottom: 0;left: 50%;z-index: -1;}#sk-container-id-2 div.sk-parallel-item {display: flex;flex-direction: column;z-index: 1;position: relative;background-color: white;}#sk-container-id-2 div.sk-parallel-item:first-child::after {align-self: flex-end;width: 50%;}#sk-container-id-2 div.sk-parallel-item:last-child::after {align-self: flex-start;width: 50%;}#sk-container-id-2 div.sk-parallel-item:only-child::after {width: 0;}#sk-container-id-2 div.sk-dashed-wrapped {border: 1px dashed gray;margin: 0 0.4em 0.5em 0.4em;box-sizing: border-box;padding-bottom: 0.4em;background-color: white;}#sk-container-id-2 div.sk-label label {font-family: monospace;font-weight: bold;display: inline-block;line-height: 1.2em;}#sk-container-id-2 div.sk-label-container {text-align: center;}#sk-container-id-2 div.sk-container {/* jupyter's `normalize.less` sets `[hidden] { display: none; }` but bootstrap.min.css set `[hidden] { display: none !important; }` so we also need the `!important` here to be able to override the default hidden behavior on the sphinx rendered scikit-learn.org. See: https://github.com/scikit-learn/scikit-learn/issues/21755 */display: inline-block !important;position: relative;}#sk-container-id-2 div.sk-text-repr-fallback {display: none;}</style><div id=\"sk-container-id-2\" class=\"sk-top-container\"><div class=\"sk-text-repr-fallback\"><pre>Pipeline(steps=[(&#x27;columntransformer&#x27;,\n",
       "                 ColumnTransformer(transformers=[(&#x27;standardscaler&#x27;,\n",
       "                                                  StandardScaler(),\n",
       "                                                  [&#x27;ActualWeight&#x27;,\n",
       "                                                   &#x27;DeclaredHorseWeight&#x27;,\n",
       "                                                   &#x27;Draw&#x27;, &#x27;H_Age&#x27;,\n",
       "                                                   &#x27;PreviousPlace&#x27;, &#x27;AvgPlace3&#x27;,\n",
       "                                                   &#x27;AvgPlace5&#x27;, &#x27;WeightDiff&#x27;,\n",
       "                                                   &#x27;CombinedRating&#x27;]),\n",
       "                                                 (&#x27;pipeline&#x27;,\n",
       "                                                  Pipeline(steps=[(&#x27;functiontransformer&#x27;,\n",
       "                                                                   FunctionTransformer(func=&lt;function log_func at 0x000001EBDABD6D30&gt;)),\n",
       "                                                                  (&#x27;st...\n",
       "                                                   &#x27;T_Rate_show_norm&#x27;,\n",
       "                                                   &#x27;H_TotalStake_norm&#x27;,\n",
       "                                                   &#x27;H_Total_norm&#x27;,\n",
       "                                                   &#x27;H_Rate_win_norm&#x27;,\n",
       "                                                   &#x27;H_Rate_place_norm&#x27;,\n",
       "                                                   &#x27;H_Rate_show_norm&#x27;,\n",
       "                                                   &#x27;H_Age_norm&#x27;,\n",
       "                                                   &#x27;LastRace_nDays_norm&#x27;,\n",
       "                                                   &#x27;PreviousPlace_norm&#x27;,\n",
       "                                                   &#x27;AvgPlace3_norm&#x27;,\n",
       "                                                   &#x27;AvgPlace5_norm&#x27;,\n",
       "                                                   &#x27;WeightDiff_norm&#x27;,\n",
       "                                                   &#x27;CombinedRating_norm&#x27;]),\n",
       "                                                 (&#x27;drop&#x27;, &#x27;drop&#x27;,\n",
       "                                                  [&#x27;Place&#x27;, &#x27;Place_norm&#x27;,\n",
       "                                                   &#x27;Draw_norm&#x27;])])),\n",
       "                (&#x27;kneighborsclassifier&#x27;, KNeighborsClassifier(n_neighbors=25))])</pre><b>In a Jupyter environment, please rerun this cell to show the HTML representation or trust the notebook. <br />On GitHub, the HTML representation is unable to render, please try loading this page with nbviewer.org.</b></div><div class=\"sk-container\" hidden><div class=\"sk-item sk-dashed-wrapped\"><div class=\"sk-label-container\"><div class=\"sk-label sk-toggleable\"><input class=\"sk-toggleable__control sk-hidden--visually\" id=\"sk-estimator-id-14\" type=\"checkbox\" ><label for=\"sk-estimator-id-14\" class=\"sk-toggleable__label sk-toggleable__label-arrow\">Pipeline</label><div class=\"sk-toggleable__content\"><pre>Pipeline(steps=[(&#x27;columntransformer&#x27;,\n",
       "                 ColumnTransformer(transformers=[(&#x27;standardscaler&#x27;,\n",
       "                                                  StandardScaler(),\n",
       "                                                  [&#x27;ActualWeight&#x27;,\n",
       "                                                   &#x27;DeclaredHorseWeight&#x27;,\n",
       "                                                   &#x27;Draw&#x27;, &#x27;H_Age&#x27;,\n",
       "                                                   &#x27;PreviousPlace&#x27;, &#x27;AvgPlace3&#x27;,\n",
       "                                                   &#x27;AvgPlace5&#x27;, &#x27;WeightDiff&#x27;,\n",
       "                                                   &#x27;CombinedRating&#x27;]),\n",
       "                                                 (&#x27;pipeline&#x27;,\n",
       "                                                  Pipeline(steps=[(&#x27;functiontransformer&#x27;,\n",
       "                                                                   FunctionTransformer(func=&lt;function log_func at 0x000001EBDABD6D30&gt;)),\n",
       "                                                                  (&#x27;st...\n",
       "                                                   &#x27;T_Rate_show_norm&#x27;,\n",
       "                                                   &#x27;H_TotalStake_norm&#x27;,\n",
       "                                                   &#x27;H_Total_norm&#x27;,\n",
       "                                                   &#x27;H_Rate_win_norm&#x27;,\n",
       "                                                   &#x27;H_Rate_place_norm&#x27;,\n",
       "                                                   &#x27;H_Rate_show_norm&#x27;,\n",
       "                                                   &#x27;H_Age_norm&#x27;,\n",
       "                                                   &#x27;LastRace_nDays_norm&#x27;,\n",
       "                                                   &#x27;PreviousPlace_norm&#x27;,\n",
       "                                                   &#x27;AvgPlace3_norm&#x27;,\n",
       "                                                   &#x27;AvgPlace5_norm&#x27;,\n",
       "                                                   &#x27;WeightDiff_norm&#x27;,\n",
       "                                                   &#x27;CombinedRating_norm&#x27;]),\n",
       "                                                 (&#x27;drop&#x27;, &#x27;drop&#x27;,\n",
       "                                                  [&#x27;Place&#x27;, &#x27;Place_norm&#x27;,\n",
       "                                                   &#x27;Draw_norm&#x27;])])),\n",
       "                (&#x27;kneighborsclassifier&#x27;, KNeighborsClassifier(n_neighbors=25))])</pre></div></div></div><div class=\"sk-serial\"><div class=\"sk-item sk-dashed-wrapped\"><div class=\"sk-label-container\"><div class=\"sk-label sk-toggleable\"><input class=\"sk-toggleable__control sk-hidden--visually\" id=\"sk-estimator-id-15\" type=\"checkbox\" ><label for=\"sk-estimator-id-15\" class=\"sk-toggleable__label sk-toggleable__label-arrow\">columntransformer: ColumnTransformer</label><div class=\"sk-toggleable__content\"><pre>ColumnTransformer(transformers=[(&#x27;standardscaler&#x27;, StandardScaler(),\n",
       "                                 [&#x27;ActualWeight&#x27;, &#x27;DeclaredHorseWeight&#x27;, &#x27;Draw&#x27;,\n",
       "                                  &#x27;H_Age&#x27;, &#x27;PreviousPlace&#x27;, &#x27;AvgPlace3&#x27;,\n",
       "                                  &#x27;AvgPlace5&#x27;, &#x27;WeightDiff&#x27;,\n",
       "                                  &#x27;CombinedRating&#x27;]),\n",
       "                                (&#x27;pipeline&#x27;,\n",
       "                                 Pipeline(steps=[(&#x27;functiontransformer&#x27;,\n",
       "                                                  FunctionTransformer(func=&lt;function log_func at 0x000001EBDABD6D30&gt;)),\n",
       "                                                 (&#x27;standardscaler&#x27;,\n",
       "                                                  StandardScaler())]),\n",
       "                                 [&#x27;W...\n",
       "                                  &#x27;J_Rate_show_norm&#x27;, &#x27;T_Rate_win_norm&#x27;,\n",
       "                                  &#x27;T_Rate_place_norm&#x27;, &#x27;T_Rate_show_norm&#x27;,\n",
       "                                  &#x27;H_TotalStake_norm&#x27;, &#x27;H_Total_norm&#x27;,\n",
       "                                  &#x27;H_Rate_win_norm&#x27;, &#x27;H_Rate_place_norm&#x27;,\n",
       "                                  &#x27;H_Rate_show_norm&#x27;, &#x27;H_Age_norm&#x27;,\n",
       "                                  &#x27;LastRace_nDays_norm&#x27;, &#x27;PreviousPlace_norm&#x27;,\n",
       "                                  &#x27;AvgPlace3_norm&#x27;, &#x27;AvgPlace5_norm&#x27;,\n",
       "                                  &#x27;WeightDiff_norm&#x27;, &#x27;CombinedRating_norm&#x27;]),\n",
       "                                (&#x27;drop&#x27;, &#x27;drop&#x27;,\n",
       "                                 [&#x27;Place&#x27;, &#x27;Place_norm&#x27;, &#x27;Draw_norm&#x27;])])</pre></div></div></div><div class=\"sk-parallel\"><div class=\"sk-parallel-item\"><div class=\"sk-item\"><div class=\"sk-label-container\"><div class=\"sk-label sk-toggleable\"><input class=\"sk-toggleable__control sk-hidden--visually\" id=\"sk-estimator-id-16\" type=\"checkbox\" ><label for=\"sk-estimator-id-16\" class=\"sk-toggleable__label sk-toggleable__label-arrow\">standardscaler</label><div class=\"sk-toggleable__content\"><pre>[&#x27;ActualWeight&#x27;, &#x27;DeclaredHorseWeight&#x27;, &#x27;Draw&#x27;, &#x27;H_Age&#x27;, &#x27;PreviousPlace&#x27;, &#x27;AvgPlace3&#x27;, &#x27;AvgPlace5&#x27;, &#x27;WeightDiff&#x27;, &#x27;CombinedRating&#x27;]</pre></div></div></div><div class=\"sk-serial\"><div class=\"sk-item\"><div class=\"sk-estimator sk-toggleable\"><input class=\"sk-toggleable__control sk-hidden--visually\" id=\"sk-estimator-id-17\" type=\"checkbox\" ><label for=\"sk-estimator-id-17\" class=\"sk-toggleable__label sk-toggleable__label-arrow\">StandardScaler</label><div class=\"sk-toggleable__content\"><pre>StandardScaler()</pre></div></div></div></div></div></div><div class=\"sk-parallel-item\"><div class=\"sk-item\"><div class=\"sk-label-container\"><div class=\"sk-label sk-toggleable\"><input class=\"sk-toggleable__control sk-hidden--visually\" id=\"sk-estimator-id-18\" type=\"checkbox\" ><label for=\"sk-estimator-id-18\" class=\"sk-toggleable__label sk-toggleable__label-arrow\">pipeline</label><div class=\"sk-toggleable__content\"><pre>[&#x27;WinOdds&#x27;, &#x27;H_TotalStake&#x27;, &#x27;H_Total&#x27;, &#x27;LastRace_nDays&#x27;]</pre></div></div></div><div class=\"sk-serial\"><div class=\"sk-item\"><div class=\"sk-serial\"><div class=\"sk-item\"><div class=\"sk-estimator sk-toggleable\"><input class=\"sk-toggleable__control sk-hidden--visually\" id=\"sk-estimator-id-19\" type=\"checkbox\" ><label for=\"sk-estimator-id-19\" class=\"sk-toggleable__label sk-toggleable__label-arrow\">FunctionTransformer</label><div class=\"sk-toggleable__content\"><pre>FunctionTransformer(func=&lt;function log_func at 0x000001EBDABD6D30&gt;)</pre></div></div></div><div class=\"sk-item\"><div class=\"sk-estimator sk-toggleable\"><input class=\"sk-toggleable__control sk-hidden--visually\" id=\"sk-estimator-id-20\" type=\"checkbox\" ><label for=\"sk-estimator-id-20\" class=\"sk-toggleable__label sk-toggleable__label-arrow\">StandardScaler</label><div class=\"sk-toggleable__content\"><pre>StandardScaler()</pre></div></div></div></div></div></div></div></div><div class=\"sk-parallel-item\"><div class=\"sk-item\"><div class=\"sk-label-container\"><div class=\"sk-label sk-toggleable\"><input class=\"sk-toggleable__control sk-hidden--visually\" id=\"sk-estimator-id-21\" type=\"checkbox\" ><label for=\"sk-estimator-id-21\" class=\"sk-toggleable__label sk-toggleable__label-arrow\">passthrough</label><div class=\"sk-toggleable__content\"><pre>[&#x27;J_Rate_win&#x27;, &#x27;J_Rate_place&#x27;, &#x27;J_Rate_show&#x27;, &#x27;T_Rate_win&#x27;, &#x27;T_Rate_place&#x27;, &#x27;T_Rate_show&#x27;, &#x27;H_Rate_win&#x27;, &#x27;H_Rate_place&#x27;, &#x27;H_Rate_show&#x27;, &#x27;ActualWeight_norm&#x27;, &#x27;DeclaredHorseWeight_norm&#x27;, &#x27;WinOdds_norm&#x27;, &#x27;J_Rate_win_norm&#x27;, &#x27;J_Rate_place_norm&#x27;, &#x27;J_Rate_show_norm&#x27;, &#x27;T_Rate_win_norm&#x27;, &#x27;T_Rate_place_norm&#x27;, &#x27;T_Rate_show_norm&#x27;, &#x27;H_TotalStake_norm&#x27;, &#x27;H_Total_norm&#x27;, &#x27;H_Rate_win_norm&#x27;, &#x27;H_Rate_place_norm&#x27;, &#x27;H_Rate_show_norm&#x27;, &#x27;H_Age_norm&#x27;, &#x27;LastRace_nDays_norm&#x27;, &#x27;PreviousPlace_norm&#x27;, &#x27;AvgPlace3_norm&#x27;, &#x27;AvgPlace5_norm&#x27;, &#x27;WeightDiff_norm&#x27;, &#x27;CombinedRating_norm&#x27;]</pre></div></div></div><div class=\"sk-serial\"><div class=\"sk-item\"><div class=\"sk-estimator sk-toggleable\"><input class=\"sk-toggleable__control sk-hidden--visually\" id=\"sk-estimator-id-22\" type=\"checkbox\" ><label for=\"sk-estimator-id-22\" class=\"sk-toggleable__label sk-toggleable__label-arrow\">passthrough</label><div class=\"sk-toggleable__content\"><pre>passthrough</pre></div></div></div></div></div></div><div class=\"sk-parallel-item\"><div class=\"sk-item\"><div class=\"sk-label-container\"><div class=\"sk-label sk-toggleable\"><input class=\"sk-toggleable__control sk-hidden--visually\" id=\"sk-estimator-id-23\" type=\"checkbox\" ><label for=\"sk-estimator-id-23\" class=\"sk-toggleable__label sk-toggleable__label-arrow\">drop</label><div class=\"sk-toggleable__content\"><pre>[&#x27;Place&#x27;, &#x27;Place_norm&#x27;, &#x27;Draw_norm&#x27;]</pre></div></div></div><div class=\"sk-serial\"><div class=\"sk-item\"><div class=\"sk-estimator sk-toggleable\"><input class=\"sk-toggleable__control sk-hidden--visually\" id=\"sk-estimator-id-24\" type=\"checkbox\" ><label for=\"sk-estimator-id-24\" class=\"sk-toggleable__label sk-toggleable__label-arrow\">drop</label><div class=\"sk-toggleable__content\"><pre>drop</pre></div></div></div></div></div></div></div></div><div class=\"sk-item\"><div class=\"sk-estimator sk-toggleable\"><input class=\"sk-toggleable__control sk-hidden--visually\" id=\"sk-estimator-id-25\" type=\"checkbox\" ><label for=\"sk-estimator-id-25\" class=\"sk-toggleable__label sk-toggleable__label-arrow\">KNeighborsClassifier</label><div class=\"sk-toggleable__content\"><pre>KNeighborsClassifier(n_neighbors=25)</pre></div></div></div></div></div></div></div>"
      ],
      "text/plain": [
       "Pipeline(steps=[('columntransformer',\n",
       "                 ColumnTransformer(transformers=[('standardscaler',\n",
       "                                                  StandardScaler(),\n",
       "                                                  ['ActualWeight',\n",
       "                                                   'DeclaredHorseWeight',\n",
       "                                                   'Draw', 'H_Age',\n",
       "                                                   'PreviousPlace', 'AvgPlace3',\n",
       "                                                   'AvgPlace5', 'WeightDiff',\n",
       "                                                   'CombinedRating']),\n",
       "                                                 ('pipeline',\n",
       "                                                  Pipeline(steps=[('functiontransformer',\n",
       "                                                                   FunctionTransformer(func=<function log_func at 0x000001EBDABD6D30>)),\n",
       "                                                                  ('st...\n",
       "                                                   'T_Rate_show_norm',\n",
       "                                                   'H_TotalStake_norm',\n",
       "                                                   'H_Total_norm',\n",
       "                                                   'H_Rate_win_norm',\n",
       "                                                   'H_Rate_place_norm',\n",
       "                                                   'H_Rate_show_norm',\n",
       "                                                   'H_Age_norm',\n",
       "                                                   'LastRace_nDays_norm',\n",
       "                                                   'PreviousPlace_norm',\n",
       "                                                   'AvgPlace3_norm',\n",
       "                                                   'AvgPlace5_norm',\n",
       "                                                   'WeightDiff_norm',\n",
       "                                                   'CombinedRating_norm']),\n",
       "                                                 ('drop', 'drop',\n",
       "                                                  ['Place', 'Place_norm',\n",
       "                                                   'Draw_norm'])])),\n",
       "                ('kneighborsclassifier', KNeighborsClassifier(n_neighbors=25))])"
      ]
     },
     "execution_count": 19,
     "metadata": {},
     "output_type": "execute_result"
    }
   ],
   "source": [
    "pipe_knn_opt.fit( X_train, y_train)"
   ]
  },
  {
   "cell_type": "code",
   "execution_count": 20,
   "id": "89b0b8c7-f192-47a8-967e-d58d4dece361",
   "metadata": {},
   "outputs": [],
   "source": [
    "y_hat_knn_opt = pipe_knn_opt.predict( X_test)"
   ]
  },
  {
   "cell_type": "code",
   "execution_count": 21,
   "id": "a8f4f077-c07f-4f23-96c4-d83e6be82a6b",
   "metadata": {},
   "outputs": [
    {
     "data": {
      "text/html": [
       "<div>\n",
       "<style scoped>\n",
       "    .dataframe tbody tr th:only-of-type {\n",
       "        vertical-align: middle;\n",
       "    }\n",
       "\n",
       "    .dataframe tbody tr th {\n",
       "        vertical-align: top;\n",
       "    }\n",
       "\n",
       "    .dataframe thead tr th {\n",
       "        text-align: left;\n",
       "    }\n",
       "</style>\n",
       "<table border=\"1\" class=\"dataframe\">\n",
       "  <thead>\n",
       "    <tr>\n",
       "      <th></th>\n",
       "      <th></th>\n",
       "      <th colspan=\"2\" halign=\"left\">Predicted</th>\n",
       "    </tr>\n",
       "    <tr>\n",
       "      <th></th>\n",
       "      <th></th>\n",
       "      <th>True</th>\n",
       "      <th>False</th>\n",
       "    </tr>\n",
       "  </thead>\n",
       "  <tbody>\n",
       "    <tr>\n",
       "      <th rowspan=\"2\" valign=\"top\">Actual</th>\n",
       "      <th>True</th>\n",
       "      <td>51</td>\n",
       "      <td>1033</td>\n",
       "    </tr>\n",
       "    <tr>\n",
       "      <th>False</th>\n",
       "      <td>33</td>\n",
       "      <td>11998</td>\n",
       "    </tr>\n",
       "  </tbody>\n",
       "</table>\n",
       "</div>"
      ],
      "text/plain": [
       "             Predicted       \n",
       "                  True  False\n",
       "Actual True         51   1033\n",
       "       False        33  11998"
      ]
     },
     "execution_count": 21,
     "metadata": {},
     "output_type": "execute_result"
    }
   ],
   "source": [
    "better_confusion_matrix( y_test, y_hat_knn_opt, labels = [ True, False])"
   ]
  },
  {
   "cell_type": "code",
   "execution_count": 22,
   "id": "86178478-508d-4d9e-b802-d00e75ce6ee8",
   "metadata": {},
   "outputs": [
    {
     "name": "stdout",
     "output_type": "stream",
     "text": [
      "              precision    recall  f1-score   support\n",
      "\n",
      "       False       0.92      1.00      0.96     12031\n",
      "        True       0.61      0.05      0.09      1084\n",
      "\n",
      "    accuracy                           0.92     13115\n",
      "   macro avg       0.76      0.52      0.52     13115\n",
      "weighted avg       0.89      0.92      0.89     13115\n",
      "\n"
     ]
    }
   ],
   "source": [
    "print( classification_report( y_test, y_hat_knn_opt))"
   ]
  },
  {
   "cell_type": "markdown",
   "id": "2784a61e-4a1c-48f3-b6dc-26b91bc1eb6c",
   "metadata": {},
   "source": [
    "## SVC"
   ]
  },
  {
   "cell_type": "markdown",
   "id": "fc8f33e7-9584-42a2-8d6a-67b968d43568",
   "metadata": {},
   "source": [
    "### Model training"
   ]
  },
  {
   "cell_type": "code",
   "execution_count": 23,
   "id": "72fd4d51-f2d5-4dc8-83ad-5d6a79235de0",
   "metadata": {},
   "outputs": [],
   "source": [
    "pipe_svc = make_pipeline( column_transformer, SVC())"
   ]
  },
  {
   "cell_type": "code",
   "execution_count": 24,
   "id": "d7793d2e-87f1-4318-a5c9-f2477ac79eb7",
   "metadata": {},
   "outputs": [
    {
     "data": {
      "text/html": [
       "<div>\n",
       "<style scoped>\n",
       "    .dataframe tbody tr th:only-of-type {\n",
       "        vertical-align: middle;\n",
       "    }\n",
       "\n",
       "    .dataframe tbody tr th {\n",
       "        vertical-align: top;\n",
       "    }\n",
       "\n",
       "    .dataframe thead th {\n",
       "        text-align: right;\n",
       "    }\n",
       "</style>\n",
       "<table border=\"1\" class=\"dataframe\">\n",
       "  <thead>\n",
       "    <tr style=\"text-align: right;\">\n",
       "      <th></th>\n",
       "      <th>fit_time</th>\n",
       "      <th>score_time</th>\n",
       "      <th>test_score</th>\n",
       "      <th>train_score</th>\n",
       "    </tr>\n",
       "  </thead>\n",
       "  <tbody>\n",
       "    <tr>\n",
       "      <th>0</th>\n",
       "      <td>0.376292</td>\n",
       "      <td>0.155960</td>\n",
       "      <td>1.000000</td>\n",
       "      <td>0.952381</td>\n",
       "    </tr>\n",
       "    <tr>\n",
       "      <th>1</th>\n",
       "      <td>0.348212</td>\n",
       "      <td>0.150192</td>\n",
       "      <td>0.500000</td>\n",
       "      <td>0.962963</td>\n",
       "    </tr>\n",
       "    <tr>\n",
       "      <th>2</th>\n",
       "      <td>0.346700</td>\n",
       "      <td>0.158963</td>\n",
       "      <td>0.750000</td>\n",
       "      <td>1.000000</td>\n",
       "    </tr>\n",
       "    <tr>\n",
       "      <th>3</th>\n",
       "      <td>0.382230</td>\n",
       "      <td>0.159411</td>\n",
       "      <td>0.666667</td>\n",
       "      <td>0.952381</td>\n",
       "    </tr>\n",
       "    <tr>\n",
       "      <th>4</th>\n",
       "      <td>0.351737</td>\n",
       "      <td>0.150568</td>\n",
       "      <td>1.000000</td>\n",
       "      <td>1.000000</td>\n",
       "    </tr>\n",
       "  </tbody>\n",
       "</table>\n",
       "</div>"
      ],
      "text/plain": [
       "   fit_time  score_time  test_score  train_score\n",
       "0  0.376292    0.155960    1.000000     0.952381\n",
       "1  0.348212    0.150192    0.500000     0.962963\n",
       "2  0.346700    0.158963    0.750000     1.000000\n",
       "3  0.382230    0.159411    0.666667     0.952381\n",
       "4  0.351737    0.150568    1.000000     1.000000"
      ]
     },
     "execution_count": 24,
     "metadata": {},
     "output_type": "execute_result"
    }
   ],
   "source": [
    "cv_result_svc = cross_validate( pipe_svc, X_train, y_train, cv = 5, return_train_score = True, scoring = 'precision')\n",
    "pd.DataFrame( cv_result_svc)"
   ]
  },
  {
   "cell_type": "code",
   "execution_count": 25,
   "id": "3dc17a31-b56b-4552-9851-8c3a1b20abc5",
   "metadata": {},
   "outputs": [
    {
     "data": {
      "text/plain": [
       "fit_time       0.361034\n",
       "score_time     0.155019\n",
       "test_score     0.783333\n",
       "train_score    0.973545\n",
       "dtype: float64"
      ]
     },
     "execution_count": 25,
     "metadata": {},
     "output_type": "execute_result"
    }
   ],
   "source": [
    "pd.DataFrame( cv_result_svc).mean()"
   ]
  },
  {
   "cell_type": "markdown",
   "id": "bfaa3e05-1367-4d86-83ff-95ceaca55004",
   "metadata": {},
   "source": [
    "### Hyperparameter optimization"
   ]
  },
  {
   "cell_type": "code",
   "execution_count": 26,
   "id": "a5591d55-c215-4594-a0b0-18f800f2b1d8",
   "metadata": {},
   "outputs": [],
   "source": [
    "param_dist = {\n",
    "    'svc__C': [ 10**x for x in range( -2, 5)],\n",
    "    'svc__gamma': [ 10**x for x in range( -2, 5)]\n",
    "}\n",
    "\n",
    "random_search_svc = RandomizedSearchCV(\n",
    "    pipe_svc, param_dist, n_iter = 30, cv = 5, scoring = 'precision', n_jobs=-1, return_train_score = True\n",
    ")"
   ]
  },
  {
   "cell_type": "raw",
   "id": "e8d17fe2-8eaf-404f-b2d4-381b9eb74cc3",
   "metadata": {},
   "source": [
    "random_search_svc.fit( X_train, y_train)\n",
    "cv_results_svc_opt = pd.DataFrame( random_search_svc.cv_results_)\n",
    "cv_results_svc_opt[ ['params', 'mean_test_score']].sort_values( 'mean_test_score', ascending = False).head()"
   ]
  },
  {
   "cell_type": "raw",
   "id": "c54a6e94-3c12-4e3f-ab96-cee1c11bd4c0",
   "metadata": {},
   "source": [
    "random_search_svc.best_params_"
   ]
  },
  {
   "cell_type": "markdown",
   "id": "04f3912c-2a9c-4e8b-bb2f-eb51424a6578",
   "metadata": {},
   "source": [
    "### Threshold tuning"
   ]
  },
  {
   "cell_type": "raw",
   "id": "c2a950b6-c5dc-4de0-98c8-2e09d97be732",
   "metadata": {},
   "source": [
    "pipe_svc_opt = make_pipeline( column_transformer,\n",
    "                              SVC( gamma = random_search_svc.best_params_[ 'svc__gamma'],\n",
    "                                   C = random_search_svc.best_params_[ 'svc__C']))\n",
    "pipe_svc_opt.fit( X_train, y_train)\n",
    "y_hat_svc_opt = pipe_svc_opt.predict( X_test)\n",
    "better_confusion_matrix( y_test, y_hat_svc_opt, labels = [ True, False])"
   ]
  },
  {
   "cell_type": "markdown",
   "id": "cc15bf59-b00d-4181-8a22-5c7787d70bc9",
   "metadata": {},
   "source": [
    "Best params are {'svc__gamma': 0.1, 'svc__C': 1}. No need to re-fit every time."
   ]
  },
  {
   "cell_type": "code",
   "execution_count": 84,
   "id": "38eefcc3-28cb-422b-a078-0b02df745f00",
   "metadata": {
    "tags": []
   },
   "outputs": [
    {
     "data": {
      "text/html": [
       "<div>\n",
       "<style scoped>\n",
       "    .dataframe tbody tr th:only-of-type {\n",
       "        vertical-align: middle;\n",
       "    }\n",
       "\n",
       "    .dataframe tbody tr th {\n",
       "        vertical-align: top;\n",
       "    }\n",
       "\n",
       "    .dataframe thead tr th {\n",
       "        text-align: left;\n",
       "    }\n",
       "</style>\n",
       "<table border=\"1\" class=\"dataframe\">\n",
       "  <thead>\n",
       "    <tr>\n",
       "      <th></th>\n",
       "      <th></th>\n",
       "      <th colspan=\"2\" halign=\"left\">Predicted</th>\n",
       "    </tr>\n",
       "    <tr>\n",
       "      <th></th>\n",
       "      <th></th>\n",
       "      <th>True</th>\n",
       "      <th>False</th>\n",
       "    </tr>\n",
       "  </thead>\n",
       "  <tbody>\n",
       "    <tr>\n",
       "      <th rowspan=\"2\" valign=\"top\">Actual</th>\n",
       "      <th>True</th>\n",
       "      <td>40</td>\n",
       "      <td>1044</td>\n",
       "    </tr>\n",
       "    <tr>\n",
       "      <th>False</th>\n",
       "      <td>45</td>\n",
       "      <td>11986</td>\n",
       "    </tr>\n",
       "  </tbody>\n",
       "</table>\n",
       "</div>"
      ],
      "text/plain": [
       "             Predicted       \n",
       "                  True  False\n",
       "Actual True         40   1044\n",
       "       False        45  11986"
      ]
     },
     "execution_count": 84,
     "metadata": {},
     "output_type": "execute_result"
    }
   ],
   "source": [
    "pipe_svc_opt = make_pipeline( column_transformer,\n",
    "                              SVC( gamma = 0.1,\n",
    "                                   C = 1))\n",
    "pipe_svc_opt.fit( X_train, y_train)\n",
    "y_hat_svc_opt = pipe_svc_opt.predict( X_test)\n",
    "better_confusion_matrix( y_test, y_hat_svc_opt, labels = [ True, False])"
   ]
  },
  {
   "cell_type": "code",
   "execution_count": 148,
   "id": "d74a6c84-be95-43dd-8c1f-2f7176b2d900",
   "metadata": {},
   "outputs": [],
   "source": [
    "X_cv_train, X_cv_test, y_cv_train, y_cv_test = train_test_split( X_train, y_train, test_size = 0.2, stratify = y_train, random_state = 918)"
   ]
  },
  {
   "cell_type": "code",
   "execution_count": 149,
   "id": "f73e1f33-dc18-40c3-a77c-51cfe527f694",
   "metadata": {},
   "outputs": [],
   "source": [
    "pipe_svc_opt.fit( X_cv_train, y_cv_train)\n",
    "proba = pipe_svc_opt.decision_function( X_cv_test)\n",
    "precision, recall, thresholds = precision_recall_curve( y_cv_test, proba)"
   ]
  },
  {
   "cell_type": "code",
   "execution_count": 152,
   "id": "a9eaffa4-fbcf-4228-84b7-a8a00233830b",
   "metadata": {},
   "outputs": [
    {
     "data": {
      "application/vnd.vegalite.v4+json": {
       "$schema": "https://vega.github.io/schema/vega-lite/v4.17.0.json",
       "config": {
        "view": {
         "continuousHeight": 300,
         "continuousWidth": 400
        }
       },
       "data": {
        "url": "http://localhost:58082/e7749da3ff40bc34ef1016f2fc57fcb7.json"
       },
       "encoding": {
        "tooltip": {
         "field": "thresholds",
         "type": "quantitative"
        },
        "x": {
         "field": "precision",
         "type": "quantitative"
        },
        "y": {
         "field": "recall",
         "type": "quantitative"
        }
       },
       "height": 300,
       "mark": "point",
       "width": 300
      },
      "image/png": "[encoded data removed]",
      "text/plain": [
       "<VegaLite 4 object>\n",
       "\n",
       "If you see this message, it means the renderer has not been properly enabled\n",
       "for the frontend that you are using. For more information, see\n",
       "https://altair-viz.github.io/user_guide/troubleshooting.html\n"
      ]
     },
     "execution_count": 152,
     "metadata": {},
     "output_type": "execute_result"
    }
   ],
   "source": [
    "pr_curve( precision, recall, thresholds)"
   ]
  },
  {
   "cell_type": "markdown",
   "id": "fe88bf0d-9061-44c7-923f-aaaa92d4417f",
   "metadata": {},
   "source": [
    "A threshold of -0.3072 is selected."
   ]
  },
  {
   "cell_type": "markdown",
   "id": "4e9bf76b-0622-43c7-822d-bb2721dd05bd",
   "metadata": {
    "tags": []
   },
   "source": [
    "### Final model evaluation"
   ]
  },
  {
   "cell_type": "code",
   "execution_count": 154,
   "id": "c8583394-2818-47e6-9054-2175083575d3",
   "metadata": {},
   "outputs": [],
   "source": [
    "def svc_by_proba( pipe_svc, X_test, threshold):\n",
    "    proba = pipe_svc.decision_function( X_test)\n",
    "    y_hat = proba > threshold\n",
    "    return y_hat"
   ]
  },
  {
   "cell_type": "code",
   "execution_count": 158,
   "id": "15d060b4-3bd3-4f26-8178-d5e1a5ed3bc4",
   "metadata": {},
   "outputs": [
    {
     "data": {
      "text/html": [
       "<div>\n",
       "<style scoped>\n",
       "    .dataframe tbody tr th:only-of-type {\n",
       "        vertical-align: middle;\n",
       "    }\n",
       "\n",
       "    .dataframe tbody tr th {\n",
       "        vertical-align: top;\n",
       "    }\n",
       "\n",
       "    .dataframe thead tr th {\n",
       "        text-align: left;\n",
       "    }\n",
       "</style>\n",
       "<table border=\"1\" class=\"dataframe\">\n",
       "  <thead>\n",
       "    <tr>\n",
       "      <th></th>\n",
       "      <th></th>\n",
       "      <th colspan=\"2\" halign=\"left\">Predicted</th>\n",
       "    </tr>\n",
       "    <tr>\n",
       "      <th></th>\n",
       "      <th></th>\n",
       "      <th>True</th>\n",
       "      <th>False</th>\n",
       "    </tr>\n",
       "  </thead>\n",
       "  <tbody>\n",
       "    <tr>\n",
       "      <th rowspan=\"2\" valign=\"top\">Actual</th>\n",
       "      <th>True</th>\n",
       "      <td>98</td>\n",
       "      <td>986</td>\n",
       "    </tr>\n",
       "    <tr>\n",
       "      <th>False</th>\n",
       "      <td>99</td>\n",
       "      <td>11932</td>\n",
       "    </tr>\n",
       "  </tbody>\n",
       "</table>\n",
       "</div>"
      ],
      "text/plain": [
       "             Predicted       \n",
       "                  True  False\n",
       "Actual True         98    986\n",
       "       False        99  11932"
      ]
     },
     "execution_count": 158,
     "metadata": {},
     "output_type": "execute_result"
    }
   ],
   "source": [
    "pipe_svc_opt.fit( X_train, y_train)\n",
    "y_hat_svc_opt = svc_by_proba( pipe_svc_opt, X_test, -0.3072)\n",
    "better_confusion_matrix( y_test, y_hat_svc_opt, labels = [ True, False])"
   ]
  },
  {
   "cell_type": "code",
   "execution_count": 157,
   "id": "d132c0d2-800d-4794-ad26-323a191575e4",
   "metadata": {
    "tags": []
   },
   "outputs": [
    {
     "name": "stdout",
     "output_type": "stream",
     "text": [
      "              precision    recall  f1-score   support\n",
      "\n",
      "       False       0.92      0.99      0.96     12031\n",
      "        True       0.50      0.09      0.15      1084\n",
      "\n",
      "    accuracy                           0.92     13115\n",
      "   macro avg       0.71      0.54      0.55     13115\n",
      "weighted avg       0.89      0.92      0.89     13115\n",
      "\n"
     ]
    }
   ],
   "source": [
    "print( classification_report( y_test, y_hat_svc_opt))"
   ]
  },
  {
   "cell_type": "markdown",
   "id": "4cac3218-5273-49e2-bb31-b67703f0cea3",
   "metadata": {},
   "source": [
    "## Random Forest Classifier"
   ]
  },
  {
   "cell_type": "markdown",
   "id": "f3b9fb5d-4750-42a7-aa26-33b61d82ac52",
   "metadata": {},
   "source": [
    "### Model training"
   ]
  },
  {
   "cell_type": "code",
   "execution_count": 49,
   "id": "27ab1996-a8bb-4cf8-ba51-24a26b2feb20",
   "metadata": {},
   "outputs": [
    {
     "data": {
      "text/html": [
       "<div>\n",
       "<style scoped>\n",
       "    .dataframe tbody tr th:only-of-type {\n",
       "        vertical-align: middle;\n",
       "    }\n",
       "\n",
       "    .dataframe tbody tr th {\n",
       "        vertical-align: top;\n",
       "    }\n",
       "\n",
       "    .dataframe thead th {\n",
       "        text-align: right;\n",
       "    }\n",
       "</style>\n",
       "<table border=\"1\" class=\"dataframe\">\n",
       "  <thead>\n",
       "    <tr style=\"text-align: right;\">\n",
       "      <th></th>\n",
       "      <th>fit_time</th>\n",
       "      <th>score_time</th>\n",
       "      <th>test_score</th>\n",
       "      <th>train_score</th>\n",
       "    </tr>\n",
       "  </thead>\n",
       "  <tbody>\n",
       "    <tr>\n",
       "      <th>0</th>\n",
       "      <td>1.649736</td>\n",
       "      <td>0.053172</td>\n",
       "      <td>0.800000</td>\n",
       "      <td>1.0</td>\n",
       "    </tr>\n",
       "    <tr>\n",
       "      <th>1</th>\n",
       "      <td>1.647650</td>\n",
       "      <td>0.051142</td>\n",
       "      <td>0.428571</td>\n",
       "      <td>1.0</td>\n",
       "    </tr>\n",
       "    <tr>\n",
       "      <th>2</th>\n",
       "      <td>1.717302</td>\n",
       "      <td>0.068181</td>\n",
       "      <td>0.600000</td>\n",
       "      <td>1.0</td>\n",
       "    </tr>\n",
       "    <tr>\n",
       "      <th>3</th>\n",
       "      <td>1.810992</td>\n",
       "      <td>0.059877</td>\n",
       "      <td>0.333333</td>\n",
       "      <td>1.0</td>\n",
       "    </tr>\n",
       "    <tr>\n",
       "      <th>4</th>\n",
       "      <td>1.786026</td>\n",
       "      <td>0.099521</td>\n",
       "      <td>0.600000</td>\n",
       "      <td>1.0</td>\n",
       "    </tr>\n",
       "  </tbody>\n",
       "</table>\n",
       "</div>"
      ],
      "text/plain": [
       "   fit_time  score_time  test_score  train_score\n",
       "0  1.649736    0.053172    0.800000          1.0\n",
       "1  1.647650    0.051142    0.428571          1.0\n",
       "2  1.717302    0.068181    0.600000          1.0\n",
       "3  1.810992    0.059877    0.333333          1.0\n",
       "4  1.786026    0.099521    0.600000          1.0"
      ]
     },
     "execution_count": 49,
     "metadata": {},
     "output_type": "execute_result"
    }
   ],
   "source": [
    "pipe_rfc = make_pipeline( column_transformer, RandomForestClassifier())\n",
    "cv_result_rfc = cross_validate( pipe_rfc, X_train, y_train, cv = 5, return_train_score = True, scoring = 'precision')\n",
    "pd.DataFrame( cv_result_rfc)"
   ]
  },
  {
   "cell_type": "code",
   "execution_count": 50,
   "id": "e719dafa-e376-45aa-8259-08403f8e5369",
   "metadata": {},
   "outputs": [
    {
     "data": {
      "text/plain": [
       "fit_time       1.722341\n",
       "score_time     0.066379\n",
       "test_score     0.552381\n",
       "train_score    1.000000\n",
       "dtype: float64"
      ]
     },
     "execution_count": 50,
     "metadata": {},
     "output_type": "execute_result"
    }
   ],
   "source": [
    "pd.DataFrame( cv_result_rfc).mean()"
   ]
  },
  {
   "cell_type": "markdown",
   "id": "adb55e3b-138f-42da-b1ca-891c6994d04d",
   "metadata": {},
   "source": [
    "### Hyperparameter optimization"
   ]
  },
  {
   "cell_type": "raw",
   "id": "dc23f373-7cef-4e53-8078-c94ad378ed58",
   "metadata": {},
   "source": [
    "param_dist = {\n",
    "    'randomforestclassifier__n_estimators': [ 100*x for x in range( 1, 11)],\n",
    "    'randomforestclassifier__max_depth': [ 10*x for x in range( 1, 11)],\n",
    "    'randomforestclassifier__max_features': [ 'sqrt', 'log2'],\n",
    "    'randomforestclassifier__criterion': [ 'gini', 'entropy', 'log_loss'],\n",
    "    'randomforestclassifier__bootstrap': [ True, False]\n",
    "}\n",
    "\n",
    "random_search_rfc = RandomizedSearchCV(\n",
    "    pipe_rfc, param_dist, n_iter = 30, cv = 5, scoring = 'precision', n_jobs=-1, return_train_score = True, random_state = 918\n",
    ")\n",
    "\n",
    "random_search_rfc.fit( X_train, y_train)\n",
    "cv_results_rfc_opt = pd.DataFrame( random_search_rfc.cv_results_)\n",
    "cv_results_rfc_opt[ ['params', 'mean_test_score']].sort_values( 'mean_test_score', ascending = False).head()"
   ]
  },
  {
   "cell_type": "raw",
   "id": "2f05839b-4543-479b-b663-e1a16a33a7fb",
   "metadata": {},
   "source": [
    "random_search_rfc.best_params_"
   ]
  },
  {
   "cell_type": "markdown",
   "id": "70b83d85-1890-4672-a92a-8ad0939ef341",
   "metadata": {},
   "source": [
    "### Final model evaluation"
   ]
  },
  {
   "cell_type": "raw",
   "id": "9fd564f5-505e-4b27-8bfb-acb5c8dd080a",
   "metadata": {
    "tags": []
   },
   "source": [
    "pipe_rfc_opt = make_pipeline( column_transformer,\n",
    "                              RandomForestClassifier( n_estimators = random_search_rfc.best_params_[ 'randomforestclassifier__n_estimators'],\n",
    "                                                      max_features = random_search_rfc.best_params_[ 'randomforestclassifier__max_features'],\n",
    "                                                      max_depth = random_search_rfc.best_params_[ 'randomforestclassifier__max_depth'],\n",
    "                                                      criterion = random_search_rfc.best_params_[ 'randomforestclassifier__criterion'],\n",
    "                                                      bootstrap = random_search_rfc.best_params_[ 'randomforestclassifier__bootstrap']))\n",
    "\n",
    "pipe_rfc_opt.fit( X_train, y_train)\n",
    "y_hat_rfc_opt = pipe_svc_opt.predict( X_test)\n",
    "better_confusion_matrix( y_test, y_hat_rfc_opt, labels = [ True, False])"
   ]
  },
  {
   "cell_type": "markdown",
   "id": "5df42ef9-7772-4da1-b60f-7a1b255125de",
   "metadata": {},
   "source": [
    "Best params are {'randomforestclassifier__n_estimators': 300,\n",
    " 'randomforestclassifier__max_features': 'log2',\n",
    " 'randomforestclassifier__max_depth': 90,\n",
    " 'randomforestclassifier__criterion': 'log_loss',\n",
    " 'randomforestclassifier__bootstrap': True}. No need to re-fit every time."
   ]
  },
  {
   "cell_type": "code",
   "execution_count": 57,
   "id": "25bc1ab4-d040-4150-bf14-96abe19660b9",
   "metadata": {},
   "outputs": [
    {
     "data": {
      "text/html": [
       "<div>\n",
       "<style scoped>\n",
       "    .dataframe tbody tr th:only-of-type {\n",
       "        vertical-align: middle;\n",
       "    }\n",
       "\n",
       "    .dataframe tbody tr th {\n",
       "        vertical-align: top;\n",
       "    }\n",
       "\n",
       "    .dataframe thead tr th {\n",
       "        text-align: left;\n",
       "    }\n",
       "</style>\n",
       "<table border=\"1\" class=\"dataframe\">\n",
       "  <thead>\n",
       "    <tr>\n",
       "      <th></th>\n",
       "      <th></th>\n",
       "      <th colspan=\"2\" halign=\"left\">Predicted</th>\n",
       "    </tr>\n",
       "    <tr>\n",
       "      <th></th>\n",
       "      <th></th>\n",
       "      <th>True</th>\n",
       "      <th>False</th>\n",
       "    </tr>\n",
       "  </thead>\n",
       "  <tbody>\n",
       "    <tr>\n",
       "      <th rowspan=\"2\" valign=\"top\">Actual</th>\n",
       "      <th>True</th>\n",
       "      <td>92</td>\n",
       "      <td>992</td>\n",
       "    </tr>\n",
       "    <tr>\n",
       "      <th>False</th>\n",
       "      <td>53</td>\n",
       "      <td>11978</td>\n",
       "    </tr>\n",
       "  </tbody>\n",
       "</table>\n",
       "</div>"
      ],
      "text/plain": [
       "             Predicted       \n",
       "                  True  False\n",
       "Actual True         92    992\n",
       "       False        53  11978"
      ]
     },
     "execution_count": 57,
     "metadata": {},
     "output_type": "execute_result"
    }
   ],
   "source": [
    "pipe_rfc_opt = make_pipeline( column_transformer,\n",
    "                              RandomForestClassifier( n_estimators = 300,\n",
    "                                                      max_features = 'log2',\n",
    "                                                      max_depth = 90,\n",
    "                                                      criterion = 'log_loss',\n",
    "                                                      bootstrap = True))\n",
    "\n",
    "pipe_rfc_opt.fit( X_train, y_train)\n",
    "y_hat_rfc_opt = pipe_rfc_opt.predict( X_test)\n",
    "better_confusion_matrix( y_test, y_hat_rfc_opt, labels = [ True, False])"
   ]
  },
  {
   "cell_type": "code",
   "execution_count": 58,
   "id": "b00ae06b-09d7-4142-b8e5-07fe86b020da",
   "metadata": {
    "tags": []
   },
   "outputs": [
    {
     "name": "stdout",
     "output_type": "stream",
     "text": [
      "              precision    recall  f1-score   support\n",
      "\n",
      "       False       0.92      1.00      0.96     12031\n",
      "        True       0.63      0.08      0.15      1084\n",
      "\n",
      "    accuracy                           0.92     13115\n",
      "   macro avg       0.78      0.54      0.55     13115\n",
      "weighted avg       0.90      0.92      0.89     13115\n",
      "\n"
     ]
    }
   ],
   "source": [
    "print( classification_report( y_test, y_hat_rfc_opt))"
   ]
  },
  {
   "cell_type": "code",
   "execution_count": 53,
   "id": "3a235244-873d-4cd2-824c-bb16d500be28",
   "metadata": {},
   "outputs": [
    {
     "data": {
      "application/vnd.vegalite.v4+json": {
       "$schema": "https://vega.github.io/schema/vega-lite/v4.17.0.json",
       "config": {
        "view": {
         "continuousHeight": 300,
         "continuousWidth": 400
        }
       },
       "data": {
        "url": "http://localhost:58082/c01a357836e96821093d54dcd3d134ba.json"
       },
       "encoding": {
        "tooltip": {
         "field": "thresholds",
         "type": "quantitative"
        },
        "x": {
         "field": "precision",
         "type": "quantitative"
        },
        "y": {
         "field": "recall",
         "type": "quantitative"
        }
       },
       "height": 300,
       "mark": {
        "opacity": 0.2,
        "type": "point"
       },
       "width": 300
      },
      "image/png": "[encoded data removed]",
      "text/plain": [
       "<VegaLite 4 object>\n",
       "\n",
       "If you see this message, it means the renderer has not been properly enabled\n",
       "for the frontend that you are using. For more information, see\n",
       "https://altair-viz.github.io/user_guide/troubleshooting.html\n"
      ]
     },
     "execution_count": 53,
     "metadata": {},
     "output_type": "execute_result"
    }
   ],
   "source": [
    "precision_rfc, recall_rfc, thresholds_rfc = precision_recall_curve( y_test, pipe_rfc_opt.predict_proba( X_test)[ :, 1])\n",
    "pr_curve_rfc = pr_curve( precision_rfc, recall_rfc, thresholds_rfc)\n",
    "pr_curve_rfc"
   ]
  },
  {
   "cell_type": "markdown",
   "id": "20e0752c-589b-454e-a1c8-770ca7eccd8b",
   "metadata": {},
   "source": [
    "## Gaussian Naive Bayes"
   ]
  },
  {
   "cell_type": "markdown",
   "id": "b7a37f85-de42-4ee4-90b9-b8752c3418d4",
   "metadata": {},
   "source": [
    "### Model training"
   ]
  },
  {
   "cell_type": "code",
   "execution_count": 59,
   "id": "66ed6ed1-f034-4925-be40-303cafd2a145",
   "metadata": {},
   "outputs": [
    {
     "data": {
      "text/html": [
       "<div>\n",
       "<style scoped>\n",
       "    .dataframe tbody tr th:only-of-type {\n",
       "        vertical-align: middle;\n",
       "    }\n",
       "\n",
       "    .dataframe tbody tr th {\n",
       "        vertical-align: top;\n",
       "    }\n",
       "\n",
       "    .dataframe thead th {\n",
       "        text-align: right;\n",
       "    }\n",
       "</style>\n",
       "<table border=\"1\" class=\"dataframe\">\n",
       "  <thead>\n",
       "    <tr style=\"text-align: right;\">\n",
       "      <th></th>\n",
       "      <th>fit_time</th>\n",
       "      <th>score_time</th>\n",
       "      <th>test_score</th>\n",
       "      <th>train_score</th>\n",
       "    </tr>\n",
       "  </thead>\n",
       "  <tbody>\n",
       "    <tr>\n",
       "      <th>0</th>\n",
       "      <td>0.562566</td>\n",
       "      <td>0.022998</td>\n",
       "      <td>0.198895</td>\n",
       "      <td>0.214080</td>\n",
       "    </tr>\n",
       "    <tr>\n",
       "      <th>1</th>\n",
       "      <td>0.440101</td>\n",
       "      <td>0.021990</td>\n",
       "      <td>0.185185</td>\n",
       "      <td>0.216495</td>\n",
       "    </tr>\n",
       "    <tr>\n",
       "      <th>2</th>\n",
       "      <td>0.459871</td>\n",
       "      <td>0.023314</td>\n",
       "      <td>0.227848</td>\n",
       "      <td>0.207574</td>\n",
       "    </tr>\n",
       "    <tr>\n",
       "      <th>3</th>\n",
       "      <td>0.620473</td>\n",
       "      <td>0.028325</td>\n",
       "      <td>0.207792</td>\n",
       "      <td>0.210904</td>\n",
       "    </tr>\n",
       "    <tr>\n",
       "      <th>4</th>\n",
       "      <td>0.484377</td>\n",
       "      <td>0.035001</td>\n",
       "      <td>0.213115</td>\n",
       "      <td>0.204906</td>\n",
       "    </tr>\n",
       "  </tbody>\n",
       "</table>\n",
       "</div>"
      ],
      "text/plain": [
       "   fit_time  score_time  test_score  train_score\n",
       "0  0.562566    0.022998    0.198895     0.214080\n",
       "1  0.440101    0.021990    0.185185     0.216495\n",
       "2  0.459871    0.023314    0.227848     0.207574\n",
       "3  0.620473    0.028325    0.207792     0.210904\n",
       "4  0.484377    0.035001    0.213115     0.204906"
      ]
     },
     "execution_count": 59,
     "metadata": {},
     "output_type": "execute_result"
    }
   ],
   "source": [
    "pipe_nb = make_pipeline( column_transformer, PowerTransformer(), GaussianNB())\n",
    "cv_result_nb = cross_validate( pipe_nb, X_train, y_train, cv = 5, return_train_score = True, scoring = 'precision')\n",
    "pd.DataFrame( cv_result_nb)"
   ]
  },
  {
   "cell_type": "code",
   "execution_count": 60,
   "id": "bb86f46f-3b3d-4e5f-9948-70ebe1209077",
   "metadata": {},
   "outputs": [
    {
     "data": {
      "text/plain": [
       "fit_time       0.361034\n",
       "score_time     0.155019\n",
       "test_score     0.783333\n",
       "train_score    0.973545\n",
       "dtype: float64"
      ]
     },
     "execution_count": 60,
     "metadata": {},
     "output_type": "execute_result"
    }
   ],
   "source": [
    "pd.DataFrame( cv_result_svc).mean()"
   ]
  },
  {
   "cell_type": "markdown",
   "id": "ab551ad5-31e5-4282-a2c5-31478c42fb03",
   "metadata": {},
   "source": [
    "### Final model evaluation"
   ]
  },
  {
   "cell_type": "code",
   "execution_count": 61,
   "id": "277c4f49-ad7f-4a90-b508-03a209c41d06",
   "metadata": {
    "tags": []
   },
   "outputs": [
    {
     "data": {
      "text/html": [
       "<div>\n",
       "<style scoped>\n",
       "    .dataframe tbody tr th:only-of-type {\n",
       "        vertical-align: middle;\n",
       "    }\n",
       "\n",
       "    .dataframe tbody tr th {\n",
       "        vertical-align: top;\n",
       "    }\n",
       "\n",
       "    .dataframe thead tr th {\n",
       "        text-align: left;\n",
       "    }\n",
       "</style>\n",
       "<table border=\"1\" class=\"dataframe\">\n",
       "  <thead>\n",
       "    <tr>\n",
       "      <th></th>\n",
       "      <th></th>\n",
       "      <th colspan=\"2\" halign=\"left\">Predicted</th>\n",
       "    </tr>\n",
       "    <tr>\n",
       "      <th></th>\n",
       "      <th></th>\n",
       "      <th>True</th>\n",
       "      <th>False</th>\n",
       "    </tr>\n",
       "  </thead>\n",
       "  <tbody>\n",
       "    <tr>\n",
       "      <th rowspan=\"2\" valign=\"top\">Actual</th>\n",
       "      <th>True</th>\n",
       "      <td>718</td>\n",
       "      <td>366</td>\n",
       "    </tr>\n",
       "    <tr>\n",
       "      <th>False</th>\n",
       "      <td>2689</td>\n",
       "      <td>9342</td>\n",
       "    </tr>\n",
       "  </tbody>\n",
       "</table>\n",
       "</div>"
      ],
      "text/plain": [
       "             Predicted      \n",
       "                  True False\n",
       "Actual True        718   366\n",
       "       False      2689  9342"
      ]
     },
     "execution_count": 61,
     "metadata": {},
     "output_type": "execute_result"
    }
   ],
   "source": [
    "pipe_nb.fit( X_train, y_train)\n",
    "y_hat_nb = pipe_nb.predict( X_test)\n",
    "better_confusion_matrix( y_test, y_hat_nb, labels = [ True, False])"
   ]
  },
  {
   "cell_type": "code",
   "execution_count": 62,
   "id": "b987ea77-0183-49b6-8e1b-b6fe22cbef0d",
   "metadata": {
    "tags": []
   },
   "outputs": [
    {
     "name": "stdout",
     "output_type": "stream",
     "text": [
      "              precision    recall  f1-score   support\n",
      "\n",
      "       False       0.96      0.78      0.86     12031\n",
      "        True       0.21      0.66      0.32      1084\n",
      "\n",
      "    accuracy                           0.77     13115\n",
      "   macro avg       0.59      0.72      0.59     13115\n",
      "weighted avg       0.90      0.77      0.81     13115\n",
      "\n"
     ]
    }
   ],
   "source": [
    "print( classification_report( y_test, y_hat_nb))"
   ]
  },
  {
   "cell_type": "code",
   "execution_count": 63,
   "id": "cec4ac69-8b4b-4c53-b8db-bc5aeef4ab81",
   "metadata": {},
   "outputs": [
    {
     "data": {
      "application/vnd.vegalite.v4+json": {
       "$schema": "https://vega.github.io/schema/vega-lite/v4.17.0.json",
       "config": {
        "view": {
         "continuousHeight": 300,
         "continuousWidth": 400
        }
       },
       "data": {
        "url": "http://localhost:58082/5418ff198ed1750b0f923c91da05627b.json"
       },
       "encoding": {
        "tooltip": {
         "field": "thresholds",
         "type": "quantitative"
        },
        "x": {
         "field": "precision",
         "type": "quantitative"
        },
        "y": {
         "field": "recall",
         "type": "quantitative"
        }
       },
       "height": 300,
       "mark": {
        "opacity": 0.2,
        "type": "point"
       },
       "width": 300
      },
      "image/png": "[encoded data removed]",
      "text/plain": [
       "<VegaLite 4 object>\n",
       "\n",
       "If you see this message, it means the renderer has not been properly enabled\n",
       "for the frontend that you are using. For more information, see\n",
       "https://altair-viz.github.io/user_guide/troubleshooting.html\n"
      ]
     },
     "execution_count": 63,
     "metadata": {},
     "output_type": "execute_result"
    }
   ],
   "source": [
    "precision_nb, recall_nb, thresholds_nb = precision_recall_curve( y_test, pipe_nb.predict_proba( X_test)[ :, 1])\n",
    "pr_curve_nb = pr_curve( precision_nb, recall_nb, thresholds_nb)\n",
    "pr_curve_nb"
   ]
  },
  {
   "cell_type": "markdown",
   "id": "f114d351-8907-4267-958a-614903aab421",
   "metadata": {},
   "source": [
    "## Logistic Regression"
   ]
  },
  {
   "cell_type": "markdown",
   "id": "81afb615-bc4f-4c04-b134-8a7cef705443",
   "metadata": {},
   "source": [
    "### Model training"
   ]
  },
  {
   "cell_type": "code",
   "execution_count": 64,
   "id": "1afaecd4-5ee6-4965-b451-eed7e069f185",
   "metadata": {},
   "outputs": [
    {
     "data": {
      "text/html": [
       "<div>\n",
       "<style scoped>\n",
       "    .dataframe tbody tr th:only-of-type {\n",
       "        vertical-align: middle;\n",
       "    }\n",
       "\n",
       "    .dataframe tbody tr th {\n",
       "        vertical-align: top;\n",
       "    }\n",
       "\n",
       "    .dataframe thead th {\n",
       "        text-align: right;\n",
       "    }\n",
       "</style>\n",
       "<table border=\"1\" class=\"dataframe\">\n",
       "  <thead>\n",
       "    <tr style=\"text-align: right;\">\n",
       "      <th></th>\n",
       "      <th>fit_time</th>\n",
       "      <th>score_time</th>\n",
       "      <th>test_score</th>\n",
       "      <th>train_score</th>\n",
       "    </tr>\n",
       "  </thead>\n",
       "  <tbody>\n",
       "    <tr>\n",
       "      <th>0</th>\n",
       "      <td>0.848457</td>\n",
       "      <td>0.016058</td>\n",
       "      <td>0.666667</td>\n",
       "      <td>0.567568</td>\n",
       "    </tr>\n",
       "    <tr>\n",
       "      <th>1</th>\n",
       "      <td>0.971491</td>\n",
       "      <td>0.019100</td>\n",
       "      <td>0.421053</td>\n",
       "      <td>0.616438</td>\n",
       "    </tr>\n",
       "    <tr>\n",
       "      <th>2</th>\n",
       "      <td>1.218420</td>\n",
       "      <td>0.014449</td>\n",
       "      <td>0.541667</td>\n",
       "      <td>0.578125</td>\n",
       "    </tr>\n",
       "    <tr>\n",
       "      <th>3</th>\n",
       "      <td>1.044688</td>\n",
       "      <td>0.014956</td>\n",
       "      <td>0.538462</td>\n",
       "      <td>0.579710</td>\n",
       "    </tr>\n",
       "    <tr>\n",
       "      <th>4</th>\n",
       "      <td>0.962475</td>\n",
       "      <td>0.014000</td>\n",
       "      <td>0.692308</td>\n",
       "      <td>0.582090</td>\n",
       "    </tr>\n",
       "  </tbody>\n",
       "</table>\n",
       "</div>"
      ],
      "text/plain": [
       "   fit_time  score_time  test_score  train_score\n",
       "0  0.848457    0.016058    0.666667     0.567568\n",
       "1  0.971491    0.019100    0.421053     0.616438\n",
       "2  1.218420    0.014449    0.541667     0.578125\n",
       "3  1.044688    0.014956    0.538462     0.579710\n",
       "4  0.962475    0.014000    0.692308     0.582090"
      ]
     },
     "execution_count": 64,
     "metadata": {},
     "output_type": "execute_result"
    }
   ],
   "source": [
    "pipe_logreg = make_pipeline( column_transformer, LogisticRegression( max_iter = 500, solver = 'saga'))\n",
    "cv_result_logreg = cross_validate( pipe_logreg, X_train, y_train, cv = 5, return_train_score = True, scoring = 'precision')\n",
    "pd.DataFrame( cv_result_logreg)"
   ]
  },
  {
   "cell_type": "code",
   "execution_count": 65,
   "id": "cb9b6314-9b37-4877-b9f4-042e31670e1e",
   "metadata": {},
   "outputs": [
    {
     "data": {
      "text/plain": [
       "fit_time       1.009106\n",
       "score_time     0.015713\n",
       "test_score     0.572031\n",
       "train_score    0.584786\n",
       "dtype: float64"
      ]
     },
     "execution_count": 65,
     "metadata": {},
     "output_type": "execute_result"
    }
   ],
   "source": [
    "pd.DataFrame( cv_result_logreg).mean()"
   ]
  },
  {
   "cell_type": "markdown",
   "id": "13924bbd-0216-4ddb-833f-cd07be6678de",
   "metadata": {},
   "source": [
    "### Hyperparameter optimization"
   ]
  },
  {
   "cell_type": "code",
   "execution_count": 66,
   "id": "e6842ff6-4e0e-4a38-998e-917e82563e63",
   "metadata": {},
   "outputs": [
    {
     "name": "stderr",
     "output_type": "stream",
     "text": [
      "C:\\Users\\User\\miniconda3\\lib\\site-packages\\sklearn\\linear_model\\_logistic.py:1106: UserWarning: l1_ratio parameter is only used when penalty is 'elasticnet'. Got (penalty=l2)\n",
      "  warnings.warn(\n"
     ]
    },
    {
     "data": {
      "text/html": [
       "<div>\n",
       "<style scoped>\n",
       "    .dataframe tbody tr th:only-of-type {\n",
       "        vertical-align: middle;\n",
       "    }\n",
       "\n",
       "    .dataframe tbody tr th {\n",
       "        vertical-align: top;\n",
       "    }\n",
       "\n",
       "    .dataframe thead th {\n",
       "        text-align: right;\n",
       "    }\n",
       "</style>\n",
       "<table border=\"1\" class=\"dataframe\">\n",
       "  <thead>\n",
       "    <tr style=\"text-align: right;\">\n",
       "      <th></th>\n",
       "      <th>params</th>\n",
       "      <th>mean_test_score</th>\n",
       "    </tr>\n",
       "  </thead>\n",
       "  <tbody>\n",
       "    <tr>\n",
       "      <th>3</th>\n",
       "      <td>{'logisticregression__C': 0.01, 'logisticregre...</td>\n",
       "      <td>0.666667</td>\n",
       "    </tr>\n",
       "    <tr>\n",
       "      <th>5</th>\n",
       "      <td>{'logisticregression__C': 0.01, 'logisticregre...</td>\n",
       "      <td>0.666667</td>\n",
       "    </tr>\n",
       "    <tr>\n",
       "      <th>1</th>\n",
       "      <td>{'logisticregression__C': 0.01, 'logisticregre...</td>\n",
       "      <td>0.666667</td>\n",
       "    </tr>\n",
       "    <tr>\n",
       "      <th>9</th>\n",
       "      <td>{'logisticregression__C': 0.01, 'logisticregre...</td>\n",
       "      <td>0.666667</td>\n",
       "    </tr>\n",
       "    <tr>\n",
       "      <th>23</th>\n",
       "      <td>{'logisticregression__C': 0.1, 'logisticregres...</td>\n",
       "      <td>0.604664</td>\n",
       "    </tr>\n",
       "  </tbody>\n",
       "</table>\n",
       "</div>"
      ],
      "text/plain": [
       "                                               params  mean_test_score\n",
       "3   {'logisticregression__C': 0.01, 'logisticregre...         0.666667\n",
       "5   {'logisticregression__C': 0.01, 'logisticregre...         0.666667\n",
       "1   {'logisticregression__C': 0.01, 'logisticregre...         0.666667\n",
       "9   {'logisticregression__C': 0.01, 'logisticregre...         0.666667\n",
       "23  {'logisticregression__C': 0.1, 'logisticregres...         0.604664"
      ]
     },
     "execution_count": 66,
     "metadata": {},
     "output_type": "execute_result"
    }
   ],
   "source": [
    "param_dist = {\n",
    "    'logisticregression__C': [ 10**x for x in range( -2, 5)],\n",
    "    'logisticregression__penalty': [ 'none', 'l2', 'l1', 'elasticnet'],\n",
    "    'logisticregression__l1_ratio': [ 0, 0.5, 1]\n",
    "}\n",
    "\n",
    "grid_search_logreg = GridSearchCV(\n",
    "    pipe_logreg, param_dist, cv = 5, scoring = 'precision', n_jobs=-1, return_train_score = True\n",
    ")\n",
    "\n",
    "grid_search_logreg.fit( X_train, y_train)\n",
    "cv_results_logreg_opt = pd.DataFrame( grid_search_logreg.cv_results_)\n",
    "cv_results_logreg_opt[ ['params', 'mean_test_score']].sort_values( 'mean_test_score', ascending = False).head()"
   ]
  },
  {
   "cell_type": "code",
   "execution_count": 67,
   "id": "2be175ed-0ec8-4962-b8db-a32c19457ce9",
   "metadata": {},
   "outputs": [
    {
     "data": {
      "text/plain": [
       "{'logisticregression__C': 0.01,\n",
       " 'logisticregression__l1_ratio': 0,\n",
       " 'logisticregression__penalty': 'l2'}"
      ]
     },
     "execution_count": 67,
     "metadata": {},
     "output_type": "execute_result"
    }
   ],
   "source": [
    "grid_search_logreg.best_params_"
   ]
  },
  {
   "cell_type": "markdown",
   "id": "38a45f61-8490-4dba-ab89-e62f4e419cdc",
   "metadata": {},
   "source": [
    "### Final model evaluation"
   ]
  },
  {
   "cell_type": "raw",
   "id": "23930605-3ecb-4f71-92b0-280296b5c260",
   "metadata": {
    "tags": []
   },
   "source": [
    "pipe_logreg_opt = make_pipeline( column_transformer,\n",
    "                                 LogisticRegression( max_iter = 500,\n",
    "                                                     solver = 'saga',\n",
    "                                                     C = grid_search_logreg[ 'logisticregression__C'],\n",
    "                                                     penalty = grid_search_logreg[ 'logisticregression__penalty'],\n",
    "                                                     l1_ratio = grid_search_logreg[ 'logisticregression__l1_ratio']))\n",
    "pipe_logreg_opt.fit( X_train, y_train)\n",
    "y_hat_logreg_opt = pipe_logreg_opt.predict( X_test)\n",
    "better_confusion_matrix( y_test, y_hat_logreg, labels = [ True, False])"
   ]
  },
  {
   "cell_type": "code",
   "execution_count": null,
   "id": "2041ae4c-082e-493b-85ff-789366fdceea",
   "metadata": {},
   "outputs": [],
   "source": [
    "pipe_logreg_opt = make_pipeline( column_transformer,\n",
    "                                 LogisticRegression( max_iter = 500,\n",
    "                                                     solver = 'saga',\n",
    "                                                     C = grid_search_logreg[ 'logisticregression__C'],\n",
    "                                                     penalty = grid_search_logreg[ 'logisticregression__penalty'],\n",
    "                                                     l1_ratio = grid_search_logreg[ 'logisticregression__l1_ratio']))\n",
    "pipe_logreg_opt.fit( X_train, y_train)\n",
    "y_hat_logreg_opt = pipe_logreg_opt.predict( X_test)\n",
    "better_confusion_matrix( y_test, y_hat_logreg, labels = [ True, False])"
   ]
  },
  {
   "cell_type": "code",
   "execution_count": 45,
   "id": "da132c86-d0cc-44be-8a82-523098936748",
   "metadata": {
    "tags": []
   },
   "outputs": [
    {
     "name": "stdout",
     "output_type": "stream",
     "text": [
      "              precision    recall  f1-score   support\n",
      "\n",
      "       False       0.92      1.00      0.96     12031\n",
      "        True       0.47      0.04      0.07      1084\n",
      "\n",
      "    accuracy                           0.92     13115\n",
      "   macro avg       0.70      0.52      0.51     13115\n",
      "weighted avg       0.88      0.92      0.88     13115\n",
      "\n"
     ]
    }
   ],
   "source": [
    "print( classification_report( y_test, y_hat_logreg_opt))"
   ]
  }
 ],
 "metadata": {
  "kernelspec": {
   "display_name": "Python 3 (ipykernel)",
   "language": "python",
   "name": "python3"
  },
  "language_info": {
   "codemirror_mode": {
    "name": "ipython",
    "version": 3
   },
   "file_extension": ".py",
   "mimetype": "text/x-python",
   "name": "python",
   "nbconvert_exporter": "python",
   "pygments_lexer": "ipython3",
   "version": "3.9.13"
  }
 },
 "nbformat": 4,
 "nbformat_minor": 5
}
