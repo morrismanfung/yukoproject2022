{
 "cells": [
  {
   "cell_type": "markdown",
   "id": "25354618-2a25-4162-be1c-ff9add5560ea",
   "metadata": {},
   "source": [
    "# Model evaluation"
   ]
  },
  {
   "cell_type": "markdown",
   "id": "49adfc16-a85d-4147-b5d7-c68bd02f630d",
   "metadata": {},
   "source": [
    "## General Data Wrangling"
   ]
  },
  {
   "cell_type": "code",
   "execution_count": 1,
   "id": "23b06c64-e29f-4b6e-a75a-4cb27155a193",
   "metadata": {},
   "outputs": [
    {
     "data": {
      "text/plain": [
       "DataTransformerRegistry.enable('data_server')"
      ]
     },
     "execution_count": 1,
     "metadata": {},
     "output_type": "execute_result"
    }
   ],
   "source": [
    "import numpy as np\n",
    "import pandas as pd\n",
    "import matplotlib.pyplot as plt\n",
    "import seaborn as sns\n",
    "from sklearn.model_selection import cross_val_score, cross_validate, train_test_split, GridSearchCV, RandomizedSearchCV\n",
    "from sklearn.preprocessing import StandardScaler, FunctionTransformer, PowerTransformer\n",
    "from sklearn.pipeline import Pipeline, make_pipeline\n",
    "from sklearn.compose import ColumnTransformer, make_column_transformer\n",
    "from sklearn.neighbors import KNeighborsClassifier\n",
    "from sklearn.svm import SVC, LinearSVC\n",
    "from sklearn.ensemble import RandomForestClassifier\n",
    "from sklearn.naive_bayes import GaussianNB\n",
    "from sklearn.linear_model import LogisticRegression\n",
    "from sklearn.metrics import classification_report, confusion_matrix, precision_recall_curve\n",
    "import altair as alt\n",
    "alt.renderers.enable('mimetype')\n",
    "alt.data_transformers.enable('data_server')"
   ]
  },
  {
   "cell_type": "code",
   "execution_count": 2,
   "id": "8afc9527-a48b-4217-9913-9ccf2dc64fd5",
   "metadata": {},
   "outputs": [],
   "source": [
    "import sys\n",
    "sys.path.append('code/')\n",
    "from functions import *"
   ]
  },
  {
   "cell_type": "code",
   "execution_count": 3,
   "id": "9c852635-b091-4111-ab8a-dae66b85bba6",
   "metadata": {},
   "outputs": [
    {
     "name": "stderr",
     "output_type": "stream",
     "text": [
      "C:\\Users\\User\\AppData\\Local\\Temp\\ipykernel_1380\\2406342619.py:1: DtypeWarning: Columns (62) have mixed types. Specify dtype option on import or set low_memory=False.\n",
      "  data_full = pd.read_csv( '../01-data/data_merged_20220910_norm.csv')\n"
     ]
    }
   ],
   "source": [
    "data_full = pd.read_csv( '../01-data/data_merged_20220910_norm.csv')\n",
    "data_full = data_full.query('H_Age<100&Draw>0').reset_index( drop = True)\n",
    "y = data_full[ 'Winner']"
   ]
  },
  {
   "cell_type": "code",
   "execution_count": 4,
   "id": "5dadf8e4-f594-44bc-8366-46f2a36552e4",
   "metadata": {},
   "outputs": [
    {
     "name": "stdout",
     "output_type": "stream",
     "text": [
      "Index(['Place', 'ActualWeight', 'DeclaredHorseWeight', 'Draw', 'WinOdds',\n",
      "       'J_Rate_win', 'J_Rate_place', 'J_Rate_show', 'T_Rate_win',\n",
      "       'T_Rate_place', 'T_Rate_show', 'H_TotalStake', 'H_Total', 'H_Rate_win',\n",
      "       'H_Rate_place', 'H_Rate_show', 'H_Age', 'LastRace_nDays',\n",
      "       'PreviousPlace', 'AvgPlace3', 'AvgPlace5', 'WeightDiff',\n",
      "       'CombinedRating', 'Place_norm', 'ActualWeight_norm',\n",
      "       'DeclaredHorseWeight_norm', 'Draw_norm', 'WinOdds_norm',\n",
      "       'J_Rate_win_norm', 'J_Rate_place_norm', 'J_Rate_show_norm',\n",
      "       'T_Rate_win_norm', 'T_Rate_place_norm', 'T_Rate_show_norm',\n",
      "       'H_TotalStake_norm', 'H_Total_norm', 'H_Rate_win_norm',\n",
      "       'H_Rate_place_norm', 'H_Rate_show_norm', 'H_Age_norm',\n",
      "       'LastRace_nDays_norm', 'PreviousPlace_norm', 'AvgPlace3_norm',\n",
      "       'AvgPlace5_norm', 'WeightDiff_norm', 'CombinedRating_norm'],\n",
      "      dtype='object')\n"
     ]
    }
   ],
   "source": [
    "X = data_full.loc[ :, data_full.columns.str.startswith( 'ActualWeight') | data_full.columns.str.startswith( 'DeclaredHorseWeight') | \\\n",
    "    data_full.columns.str.startswith( 'WinOdds') | data_full.columns.str.startswith( 'Draw') | \\\n",
    "    data_full.columns.str.startswith( 'J_Total_') | data_full.columns.str.startswith( 'J_TotalStakes_') | \\\n",
    "    data_full.columns.str.startswith( 'J_Rate_') | \\\n",
    "    data_full.columns.str.startswith( 'T_Total_') | data_full.columns.str.startswith( 'T_TotalStakes_') | \\\n",
    "    data_full.columns.str.startswith( 'T_Rate') | \\\n",
    "    data_full.columns.str.startswith( 'H_Rate_') | data_full.columns.str.startswith( 'H_Total') | \\\n",
    "    data_full.columns.str.startswith( 'H_TotalStake') | data_full.columns.str.startswith( 'CombinedRating') | \\\n",
    "    data_full.columns.str.startswith( 'H_Age') | data_full.columns.str.startswith( 'WeightDiff') | \\\n",
    "    data_full.columns.str.startswith( 'LastRace_nDays') | data_full.columns.str.startswith( 'PreviousPlace') | \\\n",
    "    data_full.columns.str.startswith( 'AvgPlace3') | data_full.columns.str.startswith( 'AvgPlace5') | \\\n",
    "    data_full.columns.str.startswith( 'Place')] # Place is added for downsampling\n",
    "\n",
    "print( X.columns)"
   ]
  },
  {
   "cell_type": "code",
   "execution_count": 5,
   "id": "33b00a76-fac8-4594-91e1-a9cecba02625",
   "metadata": {},
   "outputs": [],
   "source": [
    "X_train, X_test, y_train, y_test = train_test_split( X, y, test_size = 0.2, stratify = y, random_state = 918)"
   ]
  },
  {
   "cell_type": "markdown",
   "id": "fb067844-e2a0-4591-af59-e76e58e0e8f6",
   "metadata": {},
   "source": [
    "Variables and corresponding transformations. (All relative indexes will not be transformed as they are theoretically normal)\n",
    "\n",
    "\n",
    "| Variable | Log? | Scaling |\n",
    "|----------|------|---------|\n",
    "| ActualWeight | No | Standard |\n",
    "| DeclaredHorseWeight | No | Standard |\n",
    "| Draw | No | Standard (_Ordinal_+Scaling) |\n",
    "| WinOdds | Yes  |Standard |\n",
    "| J_Rate_* | No | None |\n",
    "| T_Rate_* | No | None |\n",
    "| H_TotalStake | Yes | Standard |\n",
    "| H_Total | Yes | Standard |\n",
    "| H_Rate_* | No | None |\n",
    "| H_Age | No | Standard |\n",
    "| LastRace_nDays | Yes | Standard |\n",
    "| PreviousPlace | No | Standard |\n",
    "| AvgPlace* | No | Standard |\n",
    "| WeightDiff | No | Standard |\n",
    "| Rating | No | Standard |\n"
   ]
  },
  {
   "cell_type": "code",
   "execution_count": 6,
   "id": "bc73f870-1150-442a-87e4-54cddd35e62c",
   "metadata": {},
   "outputs": [],
   "source": [
    "cols_std = [\n",
    "    'ActualWeight', 'DeclaredHorseWeight', 'Draw', 'H_Age', 'PreviousPlace', 'AvgPlace3', 'AvgPlace5', 'WeightDiff', 'CombinedRating']\n",
    "\n",
    "cols_log_std = [\n",
    "    'WinOdds', 'H_TotalStake', 'H_Total', 'LastRace_nDays']\n",
    "\n",
    "cols_passthrough = [\n",
    "    'J_Rate_win', 'J_Rate_place', 'J_Rate_show', 'T_Rate_win', 'T_Rate_place', 'T_Rate_show',\n",
    "    'H_Rate_win', 'H_Rate_place', 'H_Rate_show',\n",
    "    'ActualWeight_norm', 'DeclaredHorseWeight_norm', 'WinOdds_norm',\n",
    "    'J_Rate_win_norm', 'J_Rate_place_norm', 'J_Rate_show_norm', 'T_Rate_win_norm', 'T_Rate_place_norm', 'T_Rate_show_norm',\n",
    "    'H_TotalStake_norm', 'H_Total_norm', 'H_Rate_win_norm', 'H_Rate_place_norm', 'H_Rate_show_norm', 'H_Age_norm',\n",
    "    'LastRace_nDays_norm', 'PreviousPlace_norm', 'AvgPlace3_norm', 'AvgPlace5_norm', 'WeightDiff_norm', 'CombinedRating_norm']\n",
    "\n",
    "cols_drop = [\n",
    "    'Place', 'Place_norm', 'Draw_norm']"
   ]
  },
  {
   "cell_type": "code",
   "execution_count": 7,
   "id": "d9bf48fd-31b8-42e5-b4e7-a45f3384dc21",
   "metadata": {},
   "outputs": [],
   "source": [
    "def log_func(x):\n",
    "    return np.log(x+1)"
   ]
  },
  {
   "cell_type": "code",
   "execution_count": 8,
   "id": "189c4cf5-b874-4b2f-a47e-7f789758b647",
   "metadata": {},
   "outputs": [],
   "source": [
    "log_transformer = FunctionTransformer( log_func)"
   ]
  },
  {
   "cell_type": "code",
   "execution_count": 9,
   "id": "3febf5db-acca-4053-b926-c8a2e75b51f9",
   "metadata": {},
   "outputs": [],
   "source": [
    "pipe_log_std = make_pipeline(\n",
    "    log_transformer, StandardScaler()\n",
    ")"
   ]
  },
  {
   "cell_type": "code",
   "execution_count": 10,
   "id": "3c9d6fab-fe34-4c23-8f93-f13477580a97",
   "metadata": {},
   "outputs": [],
   "source": [
    "column_transformer = make_column_transformer(\n",
    "    ( StandardScaler(), cols_std),\n",
    "    ( pipe_log_std, cols_log_std),\n",
    "    ( 'passthrough', cols_passthrough),\n",
    "    ( 'drop', cols_drop)\n",
    ")"
   ]
  },
  {
   "cell_type": "markdown",
   "id": "c3cd1af1-bfac-4ca0-a105-af59332fd959",
   "metadata": {},
   "source": [
    "## General parameters"
   ]
  },
  {
   "cell_type": "code",
   "execution_count": 11,
   "id": "530e4888-c5a5-4a61-86d3-f2dfeec29836",
   "metadata": {},
   "outputs": [],
   "source": [
    "scoring_metrics = [ 'precision', 'recall', 'f1']"
   ]
  },
  {
   "cell_type": "markdown",
   "id": "dbcd6360-7016-4863-b8ec-de37fc5fe03d",
   "metadata": {},
   "source": [
    "## KNN"
   ]
  },
  {
   "cell_type": "markdown",
   "id": "a6717548-739e-47a7-8ada-4d7d81e20330",
   "metadata": {},
   "source": [
    "### Model training"
   ]
  },
  {
   "cell_type": "code",
   "execution_count": 12,
   "id": "29d4bb5c-aeb1-4581-8005-5773644a1358",
   "metadata": {},
   "outputs": [],
   "source": [
    "pipe_knn = make_pipeline( column_transformer, KNeighborsClassifier())"
   ]
  },
  {
   "cell_type": "code",
   "execution_count": 13,
   "id": "14e2536c-45ef-4534-b009-542c8ff6d225",
   "metadata": {},
   "outputs": [],
   "source": [
    "cv_result_knn = cross_validate( pipe_knn, X_train, y_train, cv = 5, return_train_score = True, scoring = scoring_metrics)"
   ]
  },
  {
   "cell_type": "code",
   "execution_count": 14,
   "id": "29a27ca1-9dd8-46df-8892-7b7671ba0732",
   "metadata": {},
   "outputs": [
    {
     "data": {
      "text/plain": [
       "fit_time           0.022606\n",
       "score_time         0.321994\n",
       "test_precision     0.419772\n",
       "train_precision    0.745790\n",
       "test_recall        0.099629\n",
       "train_recall       0.202489\n",
       "test_f1            0.160819\n",
       "train_f1           0.318459\n",
       "dtype: float64"
      ]
     },
     "execution_count": 14,
     "metadata": {},
     "output_type": "execute_result"
    }
   ],
   "source": [
    "pd.DataFrame( cv_result_knn).mean()"
   ]
  },
  {
   "cell_type": "markdown",
   "id": "a8289e82-2a57-4829-ae0b-12bb5861e85c",
   "metadata": {},
   "source": [
    "### Hyperparameter optimization"
   ]
  },
  {
   "cell_type": "code",
   "execution_count": 15,
   "id": "a81eb306-ee30-44e5-8229-22657c3aa354",
   "metadata": {},
   "outputs": [],
   "source": [
    "param_grid = {\n",
    "    \"kneighborsclassifier__n_neighbors\": list( range( 5, 35, 5))\n",
    "}\n",
    "\n",
    "grid_search_knn = GridSearchCV(\n",
    "    pipe_knn, param_grid, cv = 5, scoring = 'precision', n_jobs=-1, return_train_score = True\n",
    ")"
   ]
  },
  {
   "cell_type": "code",
   "execution_count": 16,
   "id": "d7f06498-56d6-4973-b028-39a357228c7d",
   "metadata": {},
   "outputs": [
    {
     "data": {
      "text/html": [
       "<style>#sk-container-id-1 {color: black;background-color: white;}#sk-container-id-1 pre{padding: 0;}#sk-container-id-1 div.sk-toggleable {background-color: white;}#sk-container-id-1 label.sk-toggleable__label {cursor: pointer;display: block;width: 100%;margin-bottom: 0;padding: 0.3em;box-sizing: border-box;text-align: center;}#sk-container-id-1 label.sk-toggleable__label-arrow:before {content: \"▸\";float: left;margin-right: 0.25em;color: #696969;}#sk-container-id-1 label.sk-toggleable__label-arrow:hover:before {color: black;}#sk-container-id-1 div.sk-estimator:hover label.sk-toggleable__label-arrow:before {color: black;}#sk-container-id-1 div.sk-toggleable__content {max-height: 0;max-width: 0;overflow: hidden;text-align: left;background-color: #f0f8ff;}#sk-container-id-1 div.sk-toggleable__content pre {margin: 0.2em;color: black;border-radius: 0.25em;background-color: #f0f8ff;}#sk-container-id-1 input.sk-toggleable__control:checked~div.sk-toggleable__content {max-height: 200px;max-width: 100%;overflow: auto;}#sk-container-id-1 input.sk-toggleable__control:checked~label.sk-toggleable__label-arrow:before {content: \"▾\";}#sk-container-id-1 div.sk-estimator input.sk-toggleable__control:checked~label.sk-toggleable__label {background-color: #d4ebff;}#sk-container-id-1 div.sk-label input.sk-toggleable__control:checked~label.sk-toggleable__label {background-color: #d4ebff;}#sk-container-id-1 input.sk-hidden--visually {border: 0;clip: rect(1px 1px 1px 1px);clip: rect(1px, 1px, 1px, 1px);height: 1px;margin: -1px;overflow: hidden;padding: 0;position: absolute;width: 1px;}#sk-container-id-1 div.sk-estimator {font-family: monospace;background-color: #f0f8ff;border: 1px dotted black;border-radius: 0.25em;box-sizing: border-box;margin-bottom: 0.5em;}#sk-container-id-1 div.sk-estimator:hover {background-color: #d4ebff;}#sk-container-id-1 div.sk-parallel-item::after {content: \"\";width: 100%;border-bottom: 1px solid gray;flex-grow: 1;}#sk-container-id-1 div.sk-label:hover label.sk-toggleable__label {background-color: #d4ebff;}#sk-container-id-1 div.sk-serial::before {content: \"\";position: absolute;border-left: 1px solid gray;box-sizing: border-box;top: 0;bottom: 0;left: 50%;z-index: 0;}#sk-container-id-1 div.sk-serial {display: flex;flex-direction: column;align-items: center;background-color: white;padding-right: 0.2em;padding-left: 0.2em;position: relative;}#sk-container-id-1 div.sk-item {position: relative;z-index: 1;}#sk-container-id-1 div.sk-parallel {display: flex;align-items: stretch;justify-content: center;background-color: white;position: relative;}#sk-container-id-1 div.sk-item::before, #sk-container-id-1 div.sk-parallel-item::before {content: \"\";position: absolute;border-left: 1px solid gray;box-sizing: border-box;top: 0;bottom: 0;left: 50%;z-index: -1;}#sk-container-id-1 div.sk-parallel-item {display: flex;flex-direction: column;z-index: 1;position: relative;background-color: white;}#sk-container-id-1 div.sk-parallel-item:first-child::after {align-self: flex-end;width: 50%;}#sk-container-id-1 div.sk-parallel-item:last-child::after {align-self: flex-start;width: 50%;}#sk-container-id-1 div.sk-parallel-item:only-child::after {width: 0;}#sk-container-id-1 div.sk-dashed-wrapped {border: 1px dashed gray;margin: 0 0.4em 0.5em 0.4em;box-sizing: border-box;padding-bottom: 0.4em;background-color: white;}#sk-container-id-1 div.sk-label label {font-family: monospace;font-weight: bold;display: inline-block;line-height: 1.2em;}#sk-container-id-1 div.sk-label-container {text-align: center;}#sk-container-id-1 div.sk-container {/* jupyter's `normalize.less` sets `[hidden] { display: none; }` but bootstrap.min.css set `[hidden] { display: none !important; }` so we also need the `!important` here to be able to override the default hidden behavior on the sphinx rendered scikit-learn.org. See: https://github.com/scikit-learn/scikit-learn/issues/21755 */display: inline-block !important;position: relative;}#sk-container-id-1 div.sk-text-repr-fallback {display: none;}</style><div id=\"sk-container-id-1\" class=\"sk-top-container\"><div class=\"sk-text-repr-fallback\"><pre>GridSearchCV(cv=5,\n",
       "             estimator=Pipeline(steps=[(&#x27;columntransformer&#x27;,\n",
       "                                        ColumnTransformer(transformers=[(&#x27;standardscaler&#x27;,\n",
       "                                                                         StandardScaler(),\n",
       "                                                                         [&#x27;ActualWeight&#x27;,\n",
       "                                                                          &#x27;DeclaredHorseWeight&#x27;,\n",
       "                                                                          &#x27;Draw&#x27;,\n",
       "                                                                          &#x27;H_Age&#x27;,\n",
       "                                                                          &#x27;PreviousPlace&#x27;,\n",
       "                                                                          &#x27;AvgPlace3&#x27;,\n",
       "                                                                          &#x27;AvgPlace5&#x27;,\n",
       "                                                                          &#x27;WeightDiff&#x27;,\n",
       "                                                                          &#x27;CombinedRating&#x27;]),\n",
       "                                                                        (&#x27;pipeline&#x27;,\n",
       "                                                                         Pipeline(steps=[(&#x27;functiontransformer&#x27;,\n",
       "                                                                                          FunctionTransformer(func=&lt;function log_func...\n",
       "                                                                          &#x27;H_Age_norm&#x27;,\n",
       "                                                                          &#x27;LastRace_nDays_norm&#x27;,\n",
       "                                                                          &#x27;PreviousPlace_norm&#x27;,\n",
       "                                                                          &#x27;AvgPlace3_norm&#x27;,\n",
       "                                                                          &#x27;AvgPlace5_norm&#x27;,\n",
       "                                                                          &#x27;WeightDiff_norm&#x27;,\n",
       "                                                                          &#x27;CombinedRating_norm&#x27;]),\n",
       "                                                                        (&#x27;drop&#x27;,\n",
       "                                                                         &#x27;drop&#x27;,\n",
       "                                                                         [&#x27;Place&#x27;,\n",
       "                                                                          &#x27;Place_norm&#x27;,\n",
       "                                                                          &#x27;Draw_norm&#x27;])])),\n",
       "                                       (&#x27;kneighborsclassifier&#x27;,\n",
       "                                        KNeighborsClassifier())]),\n",
       "             n_jobs=-1,\n",
       "             param_grid={&#x27;kneighborsclassifier__n_neighbors&#x27;: [5, 10, 15, 20,\n",
       "                                                               25, 30]},\n",
       "             return_train_score=True, scoring=&#x27;precision&#x27;)</pre><b>In a Jupyter environment, please rerun this cell to show the HTML representation or trust the notebook. <br />On GitHub, the HTML representation is unable to render, please try loading this page with nbviewer.org.</b></div><div class=\"sk-container\" hidden><div class=\"sk-item sk-dashed-wrapped\"><div class=\"sk-label-container\"><div class=\"sk-label sk-toggleable\"><input class=\"sk-toggleable__control sk-hidden--visually\" id=\"sk-estimator-id-1\" type=\"checkbox\" ><label for=\"sk-estimator-id-1\" class=\"sk-toggleable__label sk-toggleable__label-arrow\">GridSearchCV</label><div class=\"sk-toggleable__content\"><pre>GridSearchCV(cv=5,\n",
       "             estimator=Pipeline(steps=[(&#x27;columntransformer&#x27;,\n",
       "                                        ColumnTransformer(transformers=[(&#x27;standardscaler&#x27;,\n",
       "                                                                         StandardScaler(),\n",
       "                                                                         [&#x27;ActualWeight&#x27;,\n",
       "                                                                          &#x27;DeclaredHorseWeight&#x27;,\n",
       "                                                                          &#x27;Draw&#x27;,\n",
       "                                                                          &#x27;H_Age&#x27;,\n",
       "                                                                          &#x27;PreviousPlace&#x27;,\n",
       "                                                                          &#x27;AvgPlace3&#x27;,\n",
       "                                                                          &#x27;AvgPlace5&#x27;,\n",
       "                                                                          &#x27;WeightDiff&#x27;,\n",
       "                                                                          &#x27;CombinedRating&#x27;]),\n",
       "                                                                        (&#x27;pipeline&#x27;,\n",
       "                                                                         Pipeline(steps=[(&#x27;functiontransformer&#x27;,\n",
       "                                                                                          FunctionTransformer(func=&lt;function log_func...\n",
       "                                                                          &#x27;H_Age_norm&#x27;,\n",
       "                                                                          &#x27;LastRace_nDays_norm&#x27;,\n",
       "                                                                          &#x27;PreviousPlace_norm&#x27;,\n",
       "                                                                          &#x27;AvgPlace3_norm&#x27;,\n",
       "                                                                          &#x27;AvgPlace5_norm&#x27;,\n",
       "                                                                          &#x27;WeightDiff_norm&#x27;,\n",
       "                                                                          &#x27;CombinedRating_norm&#x27;]),\n",
       "                                                                        (&#x27;drop&#x27;,\n",
       "                                                                         &#x27;drop&#x27;,\n",
       "                                                                         [&#x27;Place&#x27;,\n",
       "                                                                          &#x27;Place_norm&#x27;,\n",
       "                                                                          &#x27;Draw_norm&#x27;])])),\n",
       "                                       (&#x27;kneighborsclassifier&#x27;,\n",
       "                                        KNeighborsClassifier())]),\n",
       "             n_jobs=-1,\n",
       "             param_grid={&#x27;kneighborsclassifier__n_neighbors&#x27;: [5, 10, 15, 20,\n",
       "                                                               25, 30]},\n",
       "             return_train_score=True, scoring=&#x27;precision&#x27;)</pre></div></div></div><div class=\"sk-parallel\"><div class=\"sk-parallel-item\"><div class=\"sk-item\"><div class=\"sk-label-container\"><div class=\"sk-label sk-toggleable\"><input class=\"sk-toggleable__control sk-hidden--visually\" id=\"sk-estimator-id-2\" type=\"checkbox\" ><label for=\"sk-estimator-id-2\" class=\"sk-toggleable__label sk-toggleable__label-arrow\">estimator: Pipeline</label><div class=\"sk-toggleable__content\"><pre>Pipeline(steps=[(&#x27;columntransformer&#x27;,\n",
       "                 ColumnTransformer(transformers=[(&#x27;standardscaler&#x27;,\n",
       "                                                  StandardScaler(),\n",
       "                                                  [&#x27;ActualWeight&#x27;,\n",
       "                                                   &#x27;DeclaredHorseWeight&#x27;,\n",
       "                                                   &#x27;Draw&#x27;, &#x27;H_Age&#x27;,\n",
       "                                                   &#x27;PreviousPlace&#x27;, &#x27;AvgPlace3&#x27;,\n",
       "                                                   &#x27;AvgPlace5&#x27;, &#x27;WeightDiff&#x27;,\n",
       "                                                   &#x27;CombinedRating&#x27;]),\n",
       "                                                 (&#x27;pipeline&#x27;,\n",
       "                                                  Pipeline(steps=[(&#x27;functiontransformer&#x27;,\n",
       "                                                                   FunctionTransformer(func=&lt;function log_func at 0x0000023684AFC040&gt;)),\n",
       "                                                                  (&#x27;st...\n",
       "                                                   &#x27;T_Rate_place_norm&#x27;,\n",
       "                                                   &#x27;T_Rate_show_norm&#x27;,\n",
       "                                                   &#x27;H_TotalStake_norm&#x27;,\n",
       "                                                   &#x27;H_Total_norm&#x27;,\n",
       "                                                   &#x27;H_Rate_win_norm&#x27;,\n",
       "                                                   &#x27;H_Rate_place_norm&#x27;,\n",
       "                                                   &#x27;H_Rate_show_norm&#x27;,\n",
       "                                                   &#x27;H_Age_norm&#x27;,\n",
       "                                                   &#x27;LastRace_nDays_norm&#x27;,\n",
       "                                                   &#x27;PreviousPlace_norm&#x27;,\n",
       "                                                   &#x27;AvgPlace3_norm&#x27;,\n",
       "                                                   &#x27;AvgPlace5_norm&#x27;,\n",
       "                                                   &#x27;WeightDiff_norm&#x27;,\n",
       "                                                   &#x27;CombinedRating_norm&#x27;]),\n",
       "                                                 (&#x27;drop&#x27;, &#x27;drop&#x27;,\n",
       "                                                  [&#x27;Place&#x27;, &#x27;Place_norm&#x27;,\n",
       "                                                   &#x27;Draw_norm&#x27;])])),\n",
       "                (&#x27;kneighborsclassifier&#x27;, KNeighborsClassifier())])</pre></div></div></div><div class=\"sk-serial\"><div class=\"sk-item\"><div class=\"sk-serial\"><div class=\"sk-item sk-dashed-wrapped\"><div class=\"sk-label-container\"><div class=\"sk-label sk-toggleable\"><input class=\"sk-toggleable__control sk-hidden--visually\" id=\"sk-estimator-id-3\" type=\"checkbox\" ><label for=\"sk-estimator-id-3\" class=\"sk-toggleable__label sk-toggleable__label-arrow\">columntransformer: ColumnTransformer</label><div class=\"sk-toggleable__content\"><pre>ColumnTransformer(transformers=[(&#x27;standardscaler&#x27;, StandardScaler(),\n",
       "                                 [&#x27;ActualWeight&#x27;, &#x27;DeclaredHorseWeight&#x27;, &#x27;Draw&#x27;,\n",
       "                                  &#x27;H_Age&#x27;, &#x27;PreviousPlace&#x27;, &#x27;AvgPlace3&#x27;,\n",
       "                                  &#x27;AvgPlace5&#x27;, &#x27;WeightDiff&#x27;,\n",
       "                                  &#x27;CombinedRating&#x27;]),\n",
       "                                (&#x27;pipeline&#x27;,\n",
       "                                 Pipeline(steps=[(&#x27;functiontransformer&#x27;,\n",
       "                                                  FunctionTransformer(func=&lt;function log_func at 0x0000023684AFC040&gt;)),\n",
       "                                                 (&#x27;standardscaler&#x27;,\n",
       "                                                  StandardScaler())]),\n",
       "                                 [&#x27;W...\n",
       "                                  &#x27;J_Rate_show_norm&#x27;, &#x27;T_Rate_win_norm&#x27;,\n",
       "                                  &#x27;T_Rate_place_norm&#x27;, &#x27;T_Rate_show_norm&#x27;,\n",
       "                                  &#x27;H_TotalStake_norm&#x27;, &#x27;H_Total_norm&#x27;,\n",
       "                                  &#x27;H_Rate_win_norm&#x27;, &#x27;H_Rate_place_norm&#x27;,\n",
       "                                  &#x27;H_Rate_show_norm&#x27;, &#x27;H_Age_norm&#x27;,\n",
       "                                  &#x27;LastRace_nDays_norm&#x27;, &#x27;PreviousPlace_norm&#x27;,\n",
       "                                  &#x27;AvgPlace3_norm&#x27;, &#x27;AvgPlace5_norm&#x27;,\n",
       "                                  &#x27;WeightDiff_norm&#x27;, &#x27;CombinedRating_norm&#x27;]),\n",
       "                                (&#x27;drop&#x27;, &#x27;drop&#x27;,\n",
       "                                 [&#x27;Place&#x27;, &#x27;Place_norm&#x27;, &#x27;Draw_norm&#x27;])])</pre></div></div></div><div class=\"sk-parallel\"><div class=\"sk-parallel-item\"><div class=\"sk-item\"><div class=\"sk-label-container\"><div class=\"sk-label sk-toggleable\"><input class=\"sk-toggleable__control sk-hidden--visually\" id=\"sk-estimator-id-4\" type=\"checkbox\" ><label for=\"sk-estimator-id-4\" class=\"sk-toggleable__label sk-toggleable__label-arrow\">standardscaler</label><div class=\"sk-toggleable__content\"><pre>[&#x27;ActualWeight&#x27;, &#x27;DeclaredHorseWeight&#x27;, &#x27;Draw&#x27;, &#x27;H_Age&#x27;, &#x27;PreviousPlace&#x27;, &#x27;AvgPlace3&#x27;, &#x27;AvgPlace5&#x27;, &#x27;WeightDiff&#x27;, &#x27;CombinedRating&#x27;]</pre></div></div></div><div class=\"sk-serial\"><div class=\"sk-item\"><div class=\"sk-estimator sk-toggleable\"><input class=\"sk-toggleable__control sk-hidden--visually\" id=\"sk-estimator-id-5\" type=\"checkbox\" ><label for=\"sk-estimator-id-5\" class=\"sk-toggleable__label sk-toggleable__label-arrow\">StandardScaler</label><div class=\"sk-toggleable__content\"><pre>StandardScaler()</pre></div></div></div></div></div></div><div class=\"sk-parallel-item\"><div class=\"sk-item\"><div class=\"sk-label-container\"><div class=\"sk-label sk-toggleable\"><input class=\"sk-toggleable__control sk-hidden--visually\" id=\"sk-estimator-id-6\" type=\"checkbox\" ><label for=\"sk-estimator-id-6\" class=\"sk-toggleable__label sk-toggleable__label-arrow\">pipeline</label><div class=\"sk-toggleable__content\"><pre>[&#x27;WinOdds&#x27;, &#x27;H_TotalStake&#x27;, &#x27;H_Total&#x27;, &#x27;LastRace_nDays&#x27;]</pre></div></div></div><div class=\"sk-serial\"><div class=\"sk-item\"><div class=\"sk-serial\"><div class=\"sk-item\"><div class=\"sk-estimator sk-toggleable\"><input class=\"sk-toggleable__control sk-hidden--visually\" id=\"sk-estimator-id-7\" type=\"checkbox\" ><label for=\"sk-estimator-id-7\" class=\"sk-toggleable__label sk-toggleable__label-arrow\">FunctionTransformer</label><div class=\"sk-toggleable__content\"><pre>FunctionTransformer(func=&lt;function log_func at 0x0000023684AFC040&gt;)</pre></div></div></div><div class=\"sk-item\"><div class=\"sk-estimator sk-toggleable\"><input class=\"sk-toggleable__control sk-hidden--visually\" id=\"sk-estimator-id-8\" type=\"checkbox\" ><label for=\"sk-estimator-id-8\" class=\"sk-toggleable__label sk-toggleable__label-arrow\">StandardScaler</label><div class=\"sk-toggleable__content\"><pre>StandardScaler()</pre></div></div></div></div></div></div></div></div><div class=\"sk-parallel-item\"><div class=\"sk-item\"><div class=\"sk-label-container\"><div class=\"sk-label sk-toggleable\"><input class=\"sk-toggleable__control sk-hidden--visually\" id=\"sk-estimator-id-9\" type=\"checkbox\" ><label for=\"sk-estimator-id-9\" class=\"sk-toggleable__label sk-toggleable__label-arrow\">passthrough</label><div class=\"sk-toggleable__content\"><pre>[&#x27;J_Rate_win&#x27;, &#x27;J_Rate_place&#x27;, &#x27;J_Rate_show&#x27;, &#x27;T_Rate_win&#x27;, &#x27;T_Rate_place&#x27;, &#x27;T_Rate_show&#x27;, &#x27;H_Rate_win&#x27;, &#x27;H_Rate_place&#x27;, &#x27;H_Rate_show&#x27;, &#x27;ActualWeight_norm&#x27;, &#x27;DeclaredHorseWeight_norm&#x27;, &#x27;WinOdds_norm&#x27;, &#x27;J_Rate_win_norm&#x27;, &#x27;J_Rate_place_norm&#x27;, &#x27;J_Rate_show_norm&#x27;, &#x27;T_Rate_win_norm&#x27;, &#x27;T_Rate_place_norm&#x27;, &#x27;T_Rate_show_norm&#x27;, &#x27;H_TotalStake_norm&#x27;, &#x27;H_Total_norm&#x27;, &#x27;H_Rate_win_norm&#x27;, &#x27;H_Rate_place_norm&#x27;, &#x27;H_Rate_show_norm&#x27;, &#x27;H_Age_norm&#x27;, &#x27;LastRace_nDays_norm&#x27;, &#x27;PreviousPlace_norm&#x27;, &#x27;AvgPlace3_norm&#x27;, &#x27;AvgPlace5_norm&#x27;, &#x27;WeightDiff_norm&#x27;, &#x27;CombinedRating_norm&#x27;]</pre></div></div></div><div class=\"sk-serial\"><div class=\"sk-item\"><div class=\"sk-estimator sk-toggleable\"><input class=\"sk-toggleable__control sk-hidden--visually\" id=\"sk-estimator-id-10\" type=\"checkbox\" ><label for=\"sk-estimator-id-10\" class=\"sk-toggleable__label sk-toggleable__label-arrow\">passthrough</label><div class=\"sk-toggleable__content\"><pre>passthrough</pre></div></div></div></div></div></div><div class=\"sk-parallel-item\"><div class=\"sk-item\"><div class=\"sk-label-container\"><div class=\"sk-label sk-toggleable\"><input class=\"sk-toggleable__control sk-hidden--visually\" id=\"sk-estimator-id-11\" type=\"checkbox\" ><label for=\"sk-estimator-id-11\" class=\"sk-toggleable__label sk-toggleable__label-arrow\">drop</label><div class=\"sk-toggleable__content\"><pre>[&#x27;Place&#x27;, &#x27;Place_norm&#x27;, &#x27;Draw_norm&#x27;]</pre></div></div></div><div class=\"sk-serial\"><div class=\"sk-item\"><div class=\"sk-estimator sk-toggleable\"><input class=\"sk-toggleable__control sk-hidden--visually\" id=\"sk-estimator-id-12\" type=\"checkbox\" ><label for=\"sk-estimator-id-12\" class=\"sk-toggleable__label sk-toggleable__label-arrow\">drop</label><div class=\"sk-toggleable__content\"><pre>drop</pre></div></div></div></div></div></div></div></div><div class=\"sk-item\"><div class=\"sk-estimator sk-toggleable\"><input class=\"sk-toggleable__control sk-hidden--visually\" id=\"sk-estimator-id-13\" type=\"checkbox\" ><label for=\"sk-estimator-id-13\" class=\"sk-toggleable__label sk-toggleable__label-arrow\">KNeighborsClassifier</label><div class=\"sk-toggleable__content\"><pre>KNeighborsClassifier()</pre></div></div></div></div></div></div></div></div></div></div></div></div>"
      ],
      "text/plain": [
       "GridSearchCV(cv=5,\n",
       "             estimator=Pipeline(steps=[('columntransformer',\n",
       "                                        ColumnTransformer(transformers=[('standardscaler',\n",
       "                                                                         StandardScaler(),\n",
       "                                                                         ['ActualWeight',\n",
       "                                                                          'DeclaredHorseWeight',\n",
       "                                                                          'Draw',\n",
       "                                                                          'H_Age',\n",
       "                                                                          'PreviousPlace',\n",
       "                                                                          'AvgPlace3',\n",
       "                                                                          'AvgPlace5',\n",
       "                                                                          'WeightDiff',\n",
       "                                                                          'CombinedRating']),\n",
       "                                                                        ('pipeline',\n",
       "                                                                         Pipeline(steps=[('functiontransformer',\n",
       "                                                                                          FunctionTransformer(func=<function log_func...\n",
       "                                                                          'H_Age_norm',\n",
       "                                                                          'LastRace_nDays_norm',\n",
       "                                                                          'PreviousPlace_norm',\n",
       "                                                                          'AvgPlace3_norm',\n",
       "                                                                          'AvgPlace5_norm',\n",
       "                                                                          'WeightDiff_norm',\n",
       "                                                                          'CombinedRating_norm']),\n",
       "                                                                        ('drop',\n",
       "                                                                         'drop',\n",
       "                                                                         ['Place',\n",
       "                                                                          'Place_norm',\n",
       "                                                                          'Draw_norm'])])),\n",
       "                                       ('kneighborsclassifier',\n",
       "                                        KNeighborsClassifier())]),\n",
       "             n_jobs=-1,\n",
       "             param_grid={'kneighborsclassifier__n_neighbors': [5, 10, 15, 20,\n",
       "                                                               25, 30]},\n",
       "             return_train_score=True, scoring='precision')"
      ]
     },
     "execution_count": 16,
     "metadata": {},
     "output_type": "execute_result"
    }
   ],
   "source": [
    "grid_search_knn.fit( X_train, y_train)"
   ]
  },
  {
   "cell_type": "code",
   "execution_count": 17,
   "id": "9e1a19d4-740a-45dc-bfdd-445e943a4de0",
   "metadata": {},
   "outputs": [
    {
     "data": {
      "text/html": [
       "<div>\n",
       "<style scoped>\n",
       "    .dataframe tbody tr th:only-of-type {\n",
       "        vertical-align: middle;\n",
       "    }\n",
       "\n",
       "    .dataframe tbody tr th {\n",
       "        vertical-align: top;\n",
       "    }\n",
       "\n",
       "    .dataframe thead th {\n",
       "        text-align: right;\n",
       "    }\n",
       "</style>\n",
       "<table border=\"1\" class=\"dataframe\">\n",
       "  <thead>\n",
       "    <tr style=\"text-align: right;\">\n",
       "      <th></th>\n",
       "      <th>params</th>\n",
       "      <th>mean_test_score</th>\n",
       "    </tr>\n",
       "  </thead>\n",
       "  <tbody>\n",
       "    <tr>\n",
       "      <th>4</th>\n",
       "      <td>{'kneighborsclassifier__n_neighbors': 25}</td>\n",
       "      <td>0.688312</td>\n",
       "    </tr>\n",
       "    <tr>\n",
       "      <th>3</th>\n",
       "      <td>{'kneighborsclassifier__n_neighbors': 20}</td>\n",
       "      <td>0.684149</td>\n",
       "    </tr>\n",
       "    <tr>\n",
       "      <th>5</th>\n",
       "      <td>{'kneighborsclassifier__n_neighbors': 30}</td>\n",
       "      <td>0.683867</td>\n",
       "    </tr>\n",
       "    <tr>\n",
       "      <th>1</th>\n",
       "      <td>{'kneighborsclassifier__n_neighbors': 10}</td>\n",
       "      <td>0.613493</td>\n",
       "    </tr>\n",
       "    <tr>\n",
       "      <th>2</th>\n",
       "      <td>{'kneighborsclassifier__n_neighbors': 15}</td>\n",
       "      <td>0.578095</td>\n",
       "    </tr>\n",
       "    <tr>\n",
       "      <th>0</th>\n",
       "      <td>{'kneighborsclassifier__n_neighbors': 5}</td>\n",
       "      <td>0.419772</td>\n",
       "    </tr>\n",
       "  </tbody>\n",
       "</table>\n",
       "</div>"
      ],
      "text/plain": [
       "                                      params  mean_test_score\n",
       "4  {'kneighborsclassifier__n_neighbors': 25}         0.688312\n",
       "3  {'kneighborsclassifier__n_neighbors': 20}         0.684149\n",
       "5  {'kneighborsclassifier__n_neighbors': 30}         0.683867\n",
       "1  {'kneighborsclassifier__n_neighbors': 10}         0.613493\n",
       "2  {'kneighborsclassifier__n_neighbors': 15}         0.578095\n",
       "0   {'kneighborsclassifier__n_neighbors': 5}         0.419772"
      ]
     },
     "execution_count": 17,
     "metadata": {},
     "output_type": "execute_result"
    }
   ],
   "source": [
    "cv_results_knn_opt = pd.DataFrame( grid_search_knn.cv_results_)\n",
    "cv_results_knn_opt[ ['params', 'mean_test_score']].sort_values( 'mean_test_score', ascending = False)"
   ]
  },
  {
   "cell_type": "markdown",
   "id": "2e6bd752-81c2-41d3-8421-a613aa5f1d4a",
   "metadata": {},
   "source": [
    "### Final model evaluation"
   ]
  },
  {
   "cell_type": "code",
   "execution_count": 18,
   "id": "31c7f212-bd2f-4b2d-8a7e-124f1e9c45eb",
   "metadata": {},
   "outputs": [
    {
     "data": {
      "text/plain": [
       "{'kneighborsclassifier__n_neighbors': 25}"
      ]
     },
     "execution_count": 18,
     "metadata": {},
     "output_type": "execute_result"
    }
   ],
   "source": [
    "grid_search_knn.best_params_"
   ]
  },
  {
   "cell_type": "code",
   "execution_count": 19,
   "id": "08f04f94-476b-45d0-9995-2d4d610bc8d3",
   "metadata": {},
   "outputs": [],
   "source": [
    "pipe_knn_opt = make_pipeline( column_transformer,\n",
    "                              KNeighborsClassifier( n_neighbors = grid_search_knn.best_params_[ 'kneighborsclassifier__n_neighbors']))"
   ]
  },
  {
   "cell_type": "code",
   "execution_count": 20,
   "id": "926ffd54-7a60-4710-97b1-20d087734047",
   "metadata": {},
   "outputs": [
    {
     "data": {
      "text/html": [
       "<style>#sk-container-id-2 {color: black;background-color: white;}#sk-container-id-2 pre{padding: 0;}#sk-container-id-2 div.sk-toggleable {background-color: white;}#sk-container-id-2 label.sk-toggleable__label {cursor: pointer;display: block;width: 100%;margin-bottom: 0;padding: 0.3em;box-sizing: border-box;text-align: center;}#sk-container-id-2 label.sk-toggleable__label-arrow:before {content: \"▸\";float: left;margin-right: 0.25em;color: #696969;}#sk-container-id-2 label.sk-toggleable__label-arrow:hover:before {color: black;}#sk-container-id-2 div.sk-estimator:hover label.sk-toggleable__label-arrow:before {color: black;}#sk-container-id-2 div.sk-toggleable__content {max-height: 0;max-width: 0;overflow: hidden;text-align: left;background-color: #f0f8ff;}#sk-container-id-2 div.sk-toggleable__content pre {margin: 0.2em;color: black;border-radius: 0.25em;background-color: #f0f8ff;}#sk-container-id-2 input.sk-toggleable__control:checked~div.sk-toggleable__content {max-height: 200px;max-width: 100%;overflow: auto;}#sk-container-id-2 input.sk-toggleable__control:checked~label.sk-toggleable__label-arrow:before {content: \"▾\";}#sk-container-id-2 div.sk-estimator input.sk-toggleable__control:checked~label.sk-toggleable__label {background-color: #d4ebff;}#sk-container-id-2 div.sk-label input.sk-toggleable__control:checked~label.sk-toggleable__label {background-color: #d4ebff;}#sk-container-id-2 input.sk-hidden--visually {border: 0;clip: rect(1px 1px 1px 1px);clip: rect(1px, 1px, 1px, 1px);height: 1px;margin: -1px;overflow: hidden;padding: 0;position: absolute;width: 1px;}#sk-container-id-2 div.sk-estimator {font-family: monospace;background-color: #f0f8ff;border: 1px dotted black;border-radius: 0.25em;box-sizing: border-box;margin-bottom: 0.5em;}#sk-container-id-2 div.sk-estimator:hover {background-color: #d4ebff;}#sk-container-id-2 div.sk-parallel-item::after {content: \"\";width: 100%;border-bottom: 1px solid gray;flex-grow: 1;}#sk-container-id-2 div.sk-label:hover label.sk-toggleable__label {background-color: #d4ebff;}#sk-container-id-2 div.sk-serial::before {content: \"\";position: absolute;border-left: 1px solid gray;box-sizing: border-box;top: 0;bottom: 0;left: 50%;z-index: 0;}#sk-container-id-2 div.sk-serial {display: flex;flex-direction: column;align-items: center;background-color: white;padding-right: 0.2em;padding-left: 0.2em;position: relative;}#sk-container-id-2 div.sk-item {position: relative;z-index: 1;}#sk-container-id-2 div.sk-parallel {display: flex;align-items: stretch;justify-content: center;background-color: white;position: relative;}#sk-container-id-2 div.sk-item::before, #sk-container-id-2 div.sk-parallel-item::before {content: \"\";position: absolute;border-left: 1px solid gray;box-sizing: border-box;top: 0;bottom: 0;left: 50%;z-index: -1;}#sk-container-id-2 div.sk-parallel-item {display: flex;flex-direction: column;z-index: 1;position: relative;background-color: white;}#sk-container-id-2 div.sk-parallel-item:first-child::after {align-self: flex-end;width: 50%;}#sk-container-id-2 div.sk-parallel-item:last-child::after {align-self: flex-start;width: 50%;}#sk-container-id-2 div.sk-parallel-item:only-child::after {width: 0;}#sk-container-id-2 div.sk-dashed-wrapped {border: 1px dashed gray;margin: 0 0.4em 0.5em 0.4em;box-sizing: border-box;padding-bottom: 0.4em;background-color: white;}#sk-container-id-2 div.sk-label label {font-family: monospace;font-weight: bold;display: inline-block;line-height: 1.2em;}#sk-container-id-2 div.sk-label-container {text-align: center;}#sk-container-id-2 div.sk-container {/* jupyter's `normalize.less` sets `[hidden] { display: none; }` but bootstrap.min.css set `[hidden] { display: none !important; }` so we also need the `!important` here to be able to override the default hidden behavior on the sphinx rendered scikit-learn.org. See: https://github.com/scikit-learn/scikit-learn/issues/21755 */display: inline-block !important;position: relative;}#sk-container-id-2 div.sk-text-repr-fallback {display: none;}</style><div id=\"sk-container-id-2\" class=\"sk-top-container\"><div class=\"sk-text-repr-fallback\"><pre>Pipeline(steps=[(&#x27;columntransformer&#x27;,\n",
       "                 ColumnTransformer(transformers=[(&#x27;standardscaler&#x27;,\n",
       "                                                  StandardScaler(),\n",
       "                                                  [&#x27;ActualWeight&#x27;,\n",
       "                                                   &#x27;DeclaredHorseWeight&#x27;,\n",
       "                                                   &#x27;Draw&#x27;, &#x27;H_Age&#x27;,\n",
       "                                                   &#x27;PreviousPlace&#x27;, &#x27;AvgPlace3&#x27;,\n",
       "                                                   &#x27;AvgPlace5&#x27;, &#x27;WeightDiff&#x27;,\n",
       "                                                   &#x27;CombinedRating&#x27;]),\n",
       "                                                 (&#x27;pipeline&#x27;,\n",
       "                                                  Pipeline(steps=[(&#x27;functiontransformer&#x27;,\n",
       "                                                                   FunctionTransformer(func=&lt;function log_func at 0x0000023684AFC040&gt;)),\n",
       "                                                                  (&#x27;st...\n",
       "                                                   &#x27;T_Rate_show_norm&#x27;,\n",
       "                                                   &#x27;H_TotalStake_norm&#x27;,\n",
       "                                                   &#x27;H_Total_norm&#x27;,\n",
       "                                                   &#x27;H_Rate_win_norm&#x27;,\n",
       "                                                   &#x27;H_Rate_place_norm&#x27;,\n",
       "                                                   &#x27;H_Rate_show_norm&#x27;,\n",
       "                                                   &#x27;H_Age_norm&#x27;,\n",
       "                                                   &#x27;LastRace_nDays_norm&#x27;,\n",
       "                                                   &#x27;PreviousPlace_norm&#x27;,\n",
       "                                                   &#x27;AvgPlace3_norm&#x27;,\n",
       "                                                   &#x27;AvgPlace5_norm&#x27;,\n",
       "                                                   &#x27;WeightDiff_norm&#x27;,\n",
       "                                                   &#x27;CombinedRating_norm&#x27;]),\n",
       "                                                 (&#x27;drop&#x27;, &#x27;drop&#x27;,\n",
       "                                                  [&#x27;Place&#x27;, &#x27;Place_norm&#x27;,\n",
       "                                                   &#x27;Draw_norm&#x27;])])),\n",
       "                (&#x27;kneighborsclassifier&#x27;, KNeighborsClassifier(n_neighbors=25))])</pre><b>In a Jupyter environment, please rerun this cell to show the HTML representation or trust the notebook. <br />On GitHub, the HTML representation is unable to render, please try loading this page with nbviewer.org.</b></div><div class=\"sk-container\" hidden><div class=\"sk-item sk-dashed-wrapped\"><div class=\"sk-label-container\"><div class=\"sk-label sk-toggleable\"><input class=\"sk-toggleable__control sk-hidden--visually\" id=\"sk-estimator-id-14\" type=\"checkbox\" ><label for=\"sk-estimator-id-14\" class=\"sk-toggleable__label sk-toggleable__label-arrow\">Pipeline</label><div class=\"sk-toggleable__content\"><pre>Pipeline(steps=[(&#x27;columntransformer&#x27;,\n",
       "                 ColumnTransformer(transformers=[(&#x27;standardscaler&#x27;,\n",
       "                                                  StandardScaler(),\n",
       "                                                  [&#x27;ActualWeight&#x27;,\n",
       "                                                   &#x27;DeclaredHorseWeight&#x27;,\n",
       "                                                   &#x27;Draw&#x27;, &#x27;H_Age&#x27;,\n",
       "                                                   &#x27;PreviousPlace&#x27;, &#x27;AvgPlace3&#x27;,\n",
       "                                                   &#x27;AvgPlace5&#x27;, &#x27;WeightDiff&#x27;,\n",
       "                                                   &#x27;CombinedRating&#x27;]),\n",
       "                                                 (&#x27;pipeline&#x27;,\n",
       "                                                  Pipeline(steps=[(&#x27;functiontransformer&#x27;,\n",
       "                                                                   FunctionTransformer(func=&lt;function log_func at 0x0000023684AFC040&gt;)),\n",
       "                                                                  (&#x27;st...\n",
       "                                                   &#x27;T_Rate_show_norm&#x27;,\n",
       "                                                   &#x27;H_TotalStake_norm&#x27;,\n",
       "                                                   &#x27;H_Total_norm&#x27;,\n",
       "                                                   &#x27;H_Rate_win_norm&#x27;,\n",
       "                                                   &#x27;H_Rate_place_norm&#x27;,\n",
       "                                                   &#x27;H_Rate_show_norm&#x27;,\n",
       "                                                   &#x27;H_Age_norm&#x27;,\n",
       "                                                   &#x27;LastRace_nDays_norm&#x27;,\n",
       "                                                   &#x27;PreviousPlace_norm&#x27;,\n",
       "                                                   &#x27;AvgPlace3_norm&#x27;,\n",
       "                                                   &#x27;AvgPlace5_norm&#x27;,\n",
       "                                                   &#x27;WeightDiff_norm&#x27;,\n",
       "                                                   &#x27;CombinedRating_norm&#x27;]),\n",
       "                                                 (&#x27;drop&#x27;, &#x27;drop&#x27;,\n",
       "                                                  [&#x27;Place&#x27;, &#x27;Place_norm&#x27;,\n",
       "                                                   &#x27;Draw_norm&#x27;])])),\n",
       "                (&#x27;kneighborsclassifier&#x27;, KNeighborsClassifier(n_neighbors=25))])</pre></div></div></div><div class=\"sk-serial\"><div class=\"sk-item sk-dashed-wrapped\"><div class=\"sk-label-container\"><div class=\"sk-label sk-toggleable\"><input class=\"sk-toggleable__control sk-hidden--visually\" id=\"sk-estimator-id-15\" type=\"checkbox\" ><label for=\"sk-estimator-id-15\" class=\"sk-toggleable__label sk-toggleable__label-arrow\">columntransformer: ColumnTransformer</label><div class=\"sk-toggleable__content\"><pre>ColumnTransformer(transformers=[(&#x27;standardscaler&#x27;, StandardScaler(),\n",
       "                                 [&#x27;ActualWeight&#x27;, &#x27;DeclaredHorseWeight&#x27;, &#x27;Draw&#x27;,\n",
       "                                  &#x27;H_Age&#x27;, &#x27;PreviousPlace&#x27;, &#x27;AvgPlace3&#x27;,\n",
       "                                  &#x27;AvgPlace5&#x27;, &#x27;WeightDiff&#x27;,\n",
       "                                  &#x27;CombinedRating&#x27;]),\n",
       "                                (&#x27;pipeline&#x27;,\n",
       "                                 Pipeline(steps=[(&#x27;functiontransformer&#x27;,\n",
       "                                                  FunctionTransformer(func=&lt;function log_func at 0x0000023684AFC040&gt;)),\n",
       "                                                 (&#x27;standardscaler&#x27;,\n",
       "                                                  StandardScaler())]),\n",
       "                                 [&#x27;W...\n",
       "                                  &#x27;J_Rate_show_norm&#x27;, &#x27;T_Rate_win_norm&#x27;,\n",
       "                                  &#x27;T_Rate_place_norm&#x27;, &#x27;T_Rate_show_norm&#x27;,\n",
       "                                  &#x27;H_TotalStake_norm&#x27;, &#x27;H_Total_norm&#x27;,\n",
       "                                  &#x27;H_Rate_win_norm&#x27;, &#x27;H_Rate_place_norm&#x27;,\n",
       "                                  &#x27;H_Rate_show_norm&#x27;, &#x27;H_Age_norm&#x27;,\n",
       "                                  &#x27;LastRace_nDays_norm&#x27;, &#x27;PreviousPlace_norm&#x27;,\n",
       "                                  &#x27;AvgPlace3_norm&#x27;, &#x27;AvgPlace5_norm&#x27;,\n",
       "                                  &#x27;WeightDiff_norm&#x27;, &#x27;CombinedRating_norm&#x27;]),\n",
       "                                (&#x27;drop&#x27;, &#x27;drop&#x27;,\n",
       "                                 [&#x27;Place&#x27;, &#x27;Place_norm&#x27;, &#x27;Draw_norm&#x27;])])</pre></div></div></div><div class=\"sk-parallel\"><div class=\"sk-parallel-item\"><div class=\"sk-item\"><div class=\"sk-label-container\"><div class=\"sk-label sk-toggleable\"><input class=\"sk-toggleable__control sk-hidden--visually\" id=\"sk-estimator-id-16\" type=\"checkbox\" ><label for=\"sk-estimator-id-16\" class=\"sk-toggleable__label sk-toggleable__label-arrow\">standardscaler</label><div class=\"sk-toggleable__content\"><pre>[&#x27;ActualWeight&#x27;, &#x27;DeclaredHorseWeight&#x27;, &#x27;Draw&#x27;, &#x27;H_Age&#x27;, &#x27;PreviousPlace&#x27;, &#x27;AvgPlace3&#x27;, &#x27;AvgPlace5&#x27;, &#x27;WeightDiff&#x27;, &#x27;CombinedRating&#x27;]</pre></div></div></div><div class=\"sk-serial\"><div class=\"sk-item\"><div class=\"sk-estimator sk-toggleable\"><input class=\"sk-toggleable__control sk-hidden--visually\" id=\"sk-estimator-id-17\" type=\"checkbox\" ><label for=\"sk-estimator-id-17\" class=\"sk-toggleable__label sk-toggleable__label-arrow\">StandardScaler</label><div class=\"sk-toggleable__content\"><pre>StandardScaler()</pre></div></div></div></div></div></div><div class=\"sk-parallel-item\"><div class=\"sk-item\"><div class=\"sk-label-container\"><div class=\"sk-label sk-toggleable\"><input class=\"sk-toggleable__control sk-hidden--visually\" id=\"sk-estimator-id-18\" type=\"checkbox\" ><label for=\"sk-estimator-id-18\" class=\"sk-toggleable__label sk-toggleable__label-arrow\">pipeline</label><div class=\"sk-toggleable__content\"><pre>[&#x27;WinOdds&#x27;, &#x27;H_TotalStake&#x27;, &#x27;H_Total&#x27;, &#x27;LastRace_nDays&#x27;]</pre></div></div></div><div class=\"sk-serial\"><div class=\"sk-item\"><div class=\"sk-serial\"><div class=\"sk-item\"><div class=\"sk-estimator sk-toggleable\"><input class=\"sk-toggleable__control sk-hidden--visually\" id=\"sk-estimator-id-19\" type=\"checkbox\" ><label for=\"sk-estimator-id-19\" class=\"sk-toggleable__label sk-toggleable__label-arrow\">FunctionTransformer</label><div class=\"sk-toggleable__content\"><pre>FunctionTransformer(func=&lt;function log_func at 0x0000023684AFC040&gt;)</pre></div></div></div><div class=\"sk-item\"><div class=\"sk-estimator sk-toggleable\"><input class=\"sk-toggleable__control sk-hidden--visually\" id=\"sk-estimator-id-20\" type=\"checkbox\" ><label for=\"sk-estimator-id-20\" class=\"sk-toggleable__label sk-toggleable__label-arrow\">StandardScaler</label><div class=\"sk-toggleable__content\"><pre>StandardScaler()</pre></div></div></div></div></div></div></div></div><div class=\"sk-parallel-item\"><div class=\"sk-item\"><div class=\"sk-label-container\"><div class=\"sk-label sk-toggleable\"><input class=\"sk-toggleable__control sk-hidden--visually\" id=\"sk-estimator-id-21\" type=\"checkbox\" ><label for=\"sk-estimator-id-21\" class=\"sk-toggleable__label sk-toggleable__label-arrow\">passthrough</label><div class=\"sk-toggleable__content\"><pre>[&#x27;J_Rate_win&#x27;, &#x27;J_Rate_place&#x27;, &#x27;J_Rate_show&#x27;, &#x27;T_Rate_win&#x27;, &#x27;T_Rate_place&#x27;, &#x27;T_Rate_show&#x27;, &#x27;H_Rate_win&#x27;, &#x27;H_Rate_place&#x27;, &#x27;H_Rate_show&#x27;, &#x27;ActualWeight_norm&#x27;, &#x27;DeclaredHorseWeight_norm&#x27;, &#x27;WinOdds_norm&#x27;, &#x27;J_Rate_win_norm&#x27;, &#x27;J_Rate_place_norm&#x27;, &#x27;J_Rate_show_norm&#x27;, &#x27;T_Rate_win_norm&#x27;, &#x27;T_Rate_place_norm&#x27;, &#x27;T_Rate_show_norm&#x27;, &#x27;H_TotalStake_norm&#x27;, &#x27;H_Total_norm&#x27;, &#x27;H_Rate_win_norm&#x27;, &#x27;H_Rate_place_norm&#x27;, &#x27;H_Rate_show_norm&#x27;, &#x27;H_Age_norm&#x27;, &#x27;LastRace_nDays_norm&#x27;, &#x27;PreviousPlace_norm&#x27;, &#x27;AvgPlace3_norm&#x27;, &#x27;AvgPlace5_norm&#x27;, &#x27;WeightDiff_norm&#x27;, &#x27;CombinedRating_norm&#x27;]</pre></div></div></div><div class=\"sk-serial\"><div class=\"sk-item\"><div class=\"sk-estimator sk-toggleable\"><input class=\"sk-toggleable__control sk-hidden--visually\" id=\"sk-estimator-id-22\" type=\"checkbox\" ><label for=\"sk-estimator-id-22\" class=\"sk-toggleable__label sk-toggleable__label-arrow\">passthrough</label><div class=\"sk-toggleable__content\"><pre>passthrough</pre></div></div></div></div></div></div><div class=\"sk-parallel-item\"><div class=\"sk-item\"><div class=\"sk-label-container\"><div class=\"sk-label sk-toggleable\"><input class=\"sk-toggleable__control sk-hidden--visually\" id=\"sk-estimator-id-23\" type=\"checkbox\" ><label for=\"sk-estimator-id-23\" class=\"sk-toggleable__label sk-toggleable__label-arrow\">drop</label><div class=\"sk-toggleable__content\"><pre>[&#x27;Place&#x27;, &#x27;Place_norm&#x27;, &#x27;Draw_norm&#x27;]</pre></div></div></div><div class=\"sk-serial\"><div class=\"sk-item\"><div class=\"sk-estimator sk-toggleable\"><input class=\"sk-toggleable__control sk-hidden--visually\" id=\"sk-estimator-id-24\" type=\"checkbox\" ><label for=\"sk-estimator-id-24\" class=\"sk-toggleable__label sk-toggleable__label-arrow\">drop</label><div class=\"sk-toggleable__content\"><pre>drop</pre></div></div></div></div></div></div></div></div><div class=\"sk-item\"><div class=\"sk-estimator sk-toggleable\"><input class=\"sk-toggleable__control sk-hidden--visually\" id=\"sk-estimator-id-25\" type=\"checkbox\" ><label for=\"sk-estimator-id-25\" class=\"sk-toggleable__label sk-toggleable__label-arrow\">KNeighborsClassifier</label><div class=\"sk-toggleable__content\"><pre>KNeighborsClassifier(n_neighbors=25)</pre></div></div></div></div></div></div></div>"
      ],
      "text/plain": [
       "Pipeline(steps=[('columntransformer',\n",
       "                 ColumnTransformer(transformers=[('standardscaler',\n",
       "                                                  StandardScaler(),\n",
       "                                                  ['ActualWeight',\n",
       "                                                   'DeclaredHorseWeight',\n",
       "                                                   'Draw', 'H_Age',\n",
       "                                                   'PreviousPlace', 'AvgPlace3',\n",
       "                                                   'AvgPlace5', 'WeightDiff',\n",
       "                                                   'CombinedRating']),\n",
       "                                                 ('pipeline',\n",
       "                                                  Pipeline(steps=[('functiontransformer',\n",
       "                                                                   FunctionTransformer(func=<function log_func at 0x0000023684AFC040>)),\n",
       "                                                                  ('st...\n",
       "                                                   'T_Rate_show_norm',\n",
       "                                                   'H_TotalStake_norm',\n",
       "                                                   'H_Total_norm',\n",
       "                                                   'H_Rate_win_norm',\n",
       "                                                   'H_Rate_place_norm',\n",
       "                                                   'H_Rate_show_norm',\n",
       "                                                   'H_Age_norm',\n",
       "                                                   'LastRace_nDays_norm',\n",
       "                                                   'PreviousPlace_norm',\n",
       "                                                   'AvgPlace3_norm',\n",
       "                                                   'AvgPlace5_norm',\n",
       "                                                   'WeightDiff_norm',\n",
       "                                                   'CombinedRating_norm']),\n",
       "                                                 ('drop', 'drop',\n",
       "                                                  ['Place', 'Place_norm',\n",
       "                                                   'Draw_norm'])])),\n",
       "                ('kneighborsclassifier', KNeighborsClassifier(n_neighbors=25))])"
      ]
     },
     "execution_count": 20,
     "metadata": {},
     "output_type": "execute_result"
    }
   ],
   "source": [
    "pipe_knn_opt.fit( X_train, y_train)"
   ]
  },
  {
   "cell_type": "code",
   "execution_count": 21,
   "id": "89b0b8c7-f192-47a8-967e-d58d4dece361",
   "metadata": {},
   "outputs": [],
   "source": [
    "y_hat_knn_opt = pipe_knn_opt.predict( X_test)"
   ]
  },
  {
   "cell_type": "code",
   "execution_count": 22,
   "id": "a8f4f077-c07f-4f23-96c4-d83e6be82a6b",
   "metadata": {},
   "outputs": [
    {
     "data": {
      "text/html": [
       "<div>\n",
       "<style scoped>\n",
       "    .dataframe tbody tr th:only-of-type {\n",
       "        vertical-align: middle;\n",
       "    }\n",
       "\n",
       "    .dataframe tbody tr th {\n",
       "        vertical-align: top;\n",
       "    }\n",
       "\n",
       "    .dataframe thead tr th {\n",
       "        text-align: left;\n",
       "    }\n",
       "</style>\n",
       "<table border=\"1\" class=\"dataframe\">\n",
       "  <thead>\n",
       "    <tr>\n",
       "      <th></th>\n",
       "      <th></th>\n",
       "      <th colspan=\"2\" halign=\"left\">Predicted</th>\n",
       "    </tr>\n",
       "    <tr>\n",
       "      <th></th>\n",
       "      <th></th>\n",
       "      <th>True</th>\n",
       "      <th>False</th>\n",
       "    </tr>\n",
       "  </thead>\n",
       "  <tbody>\n",
       "    <tr>\n",
       "      <th rowspan=\"2\" valign=\"top\">Actual</th>\n",
       "      <th>True</th>\n",
       "      <td>12</td>\n",
       "      <td>259</td>\n",
       "    </tr>\n",
       "    <tr>\n",
       "      <th>False</th>\n",
       "      <td>8</td>\n",
       "      <td>3000</td>\n",
       "    </tr>\n",
       "  </tbody>\n",
       "</table>\n",
       "</div>"
      ],
      "text/plain": [
       "             Predicted      \n",
       "                  True False\n",
       "Actual True         12   259\n",
       "       False         8  3000"
      ]
     },
     "execution_count": 22,
     "metadata": {},
     "output_type": "execute_result"
    }
   ],
   "source": [
    "better_confusion_matrix( y_test, y_hat_knn_opt, labels = [ True, False])"
   ]
  },
  {
   "cell_type": "code",
   "execution_count": 23,
   "id": "86178478-508d-4d9e-b802-d00e75ce6ee8",
   "metadata": {},
   "outputs": [
    {
     "name": "stdout",
     "output_type": "stream",
     "text": [
      "              precision    recall  f1-score   support\n",
      "\n",
      "       False       0.92      1.00      0.96      3008\n",
      "        True       0.60      0.04      0.08       271\n",
      "\n",
      "    accuracy                           0.92      3279\n",
      "   macro avg       0.76      0.52      0.52      3279\n",
      "weighted avg       0.89      0.92      0.89      3279\n",
      "\n"
     ]
    }
   ],
   "source": [
    "print( classification_report( y_test, y_hat_knn_opt))"
   ]
  },
  {
   "cell_type": "markdown",
   "id": "2784a61e-4a1c-48f3-b6dc-26b91bc1eb6c",
   "metadata": {},
   "source": [
    "## SVC"
   ]
  },
  {
   "cell_type": "markdown",
   "id": "fc8f33e7-9584-42a2-8d6a-67b968d43568",
   "metadata": {},
   "source": [
    "### Model training"
   ]
  },
  {
   "cell_type": "code",
   "execution_count": 24,
   "id": "72fd4d51-f2d5-4dc8-83ad-5d6a79235de0",
   "metadata": {},
   "outputs": [],
   "source": [
    "pipe_svc = make_pipeline( column_transformer, SVC())"
   ]
  },
  {
   "cell_type": "code",
   "execution_count": 25,
   "id": "d7793d2e-87f1-4318-a5c9-f2477ac79eb7",
   "metadata": {},
   "outputs": [
    {
     "data": {
      "text/html": [
       "<div>\n",
       "<style scoped>\n",
       "    .dataframe tbody tr th:only-of-type {\n",
       "        vertical-align: middle;\n",
       "    }\n",
       "\n",
       "    .dataframe tbody tr th {\n",
       "        vertical-align: top;\n",
       "    }\n",
       "\n",
       "    .dataframe thead th {\n",
       "        text-align: right;\n",
       "    }\n",
       "</style>\n",
       "<table border=\"1\" class=\"dataframe\">\n",
       "  <thead>\n",
       "    <tr style=\"text-align: right;\">\n",
       "      <th></th>\n",
       "      <th>fit_time</th>\n",
       "      <th>score_time</th>\n",
       "      <th>test_precision</th>\n",
       "      <th>train_precision</th>\n",
       "      <th>test_recall</th>\n",
       "      <th>train_recall</th>\n",
       "      <th>test_f1</th>\n",
       "      <th>train_f1</th>\n",
       "    </tr>\n",
       "  </thead>\n",
       "  <tbody>\n",
       "    <tr>\n",
       "      <th>0</th>\n",
       "      <td>13.495735</td>\n",
       "      <td>3.851254</td>\n",
       "      <td>0.947368</td>\n",
       "      <td>0.904255</td>\n",
       "      <td>0.082949</td>\n",
       "      <td>0.098039</td>\n",
       "      <td>0.152542</td>\n",
       "      <td>0.176899</td>\n",
       "    </tr>\n",
       "    <tr>\n",
       "      <th>1</th>\n",
       "      <td>10.937524</td>\n",
       "      <td>2.669002</td>\n",
       "      <td>0.777778</td>\n",
       "      <td>0.920792</td>\n",
       "      <td>0.064516</td>\n",
       "      <td>0.107266</td>\n",
       "      <td>0.119149</td>\n",
       "      <td>0.192149</td>\n",
       "    </tr>\n",
       "    <tr>\n",
       "      <th>2</th>\n",
       "      <td>6.260998</td>\n",
       "      <td>3.207920</td>\n",
       "      <td>0.714286</td>\n",
       "      <td>0.933333</td>\n",
       "      <td>0.069124</td>\n",
       "      <td>0.113033</td>\n",
       "      <td>0.126050</td>\n",
       "      <td>0.201646</td>\n",
       "    </tr>\n",
       "    <tr>\n",
       "      <th>3</th>\n",
       "      <td>2.975993</td>\n",
       "      <td>1.021040</td>\n",
       "      <td>0.789474</td>\n",
       "      <td>0.910891</td>\n",
       "      <td>0.069124</td>\n",
       "      <td>0.106113</td>\n",
       "      <td>0.127119</td>\n",
       "      <td>0.190083</td>\n",
       "    </tr>\n",
       "    <tr>\n",
       "      <th>4</th>\n",
       "      <td>2.896946</td>\n",
       "      <td>1.179000</td>\n",
       "      <td>0.647059</td>\n",
       "      <td>0.958763</td>\n",
       "      <td>0.050926</td>\n",
       "      <td>0.107143</td>\n",
       "      <td>0.094421</td>\n",
       "      <td>0.192746</td>\n",
       "    </tr>\n",
       "  </tbody>\n",
       "</table>\n",
       "</div>"
      ],
      "text/plain": [
       "    fit_time  score_time  test_precision  train_precision  test_recall  \\\n",
       "0  13.495735    3.851254        0.947368         0.904255     0.082949   \n",
       "1  10.937524    2.669002        0.777778         0.920792     0.064516   \n",
       "2   6.260998    3.207920        0.714286         0.933333     0.069124   \n",
       "3   2.975993    1.021040        0.789474         0.910891     0.069124   \n",
       "4   2.896946    1.179000        0.647059         0.958763     0.050926   \n",
       "\n",
       "   train_recall   test_f1  train_f1  \n",
       "0      0.098039  0.152542  0.176899  \n",
       "1      0.107266  0.119149  0.192149  \n",
       "2      0.113033  0.126050  0.201646  \n",
       "3      0.106113  0.127119  0.190083  \n",
       "4      0.107143  0.094421  0.192746  "
      ]
     },
     "execution_count": 25,
     "metadata": {},
     "output_type": "execute_result"
    }
   ],
   "source": [
    "cv_result_svc = cross_validate( pipe_svc, X_train, y_train, cv = 5, return_train_score = True, scoring = scoring_metrics)\n",
    "pd.DataFrame( cv_result_svc)"
   ]
  },
  {
   "cell_type": "code",
   "execution_count": 26,
   "id": "3dc17a31-b56b-4552-9851-8c3a1b20abc5",
   "metadata": {},
   "outputs": [
    {
     "data": {
      "text/plain": [
       "fit_time           7.313439\n",
       "score_time         2.385643\n",
       "test_precision     0.775193\n",
       "train_precision    0.925607\n",
       "test_recall        0.067328\n",
       "train_recall       0.106319\n",
       "test_f1            0.123856\n",
       "train_f1           0.190705\n",
       "dtype: float64"
      ]
     },
     "execution_count": 26,
     "metadata": {},
     "output_type": "execute_result"
    }
   ],
   "source": [
    "pd.DataFrame( cv_result_svc).mean()"
   ]
  },
  {
   "cell_type": "markdown",
   "id": "bfaa3e05-1367-4d86-83ff-95ceaca55004",
   "metadata": {},
   "source": [
    "### Hyperparameter optimization"
   ]
  },
  {
   "cell_type": "code",
   "execution_count": 27,
   "id": "a5591d55-c215-4594-a0b0-18f800f2b1d8",
   "metadata": {},
   "outputs": [],
   "source": [
    "param_dist = {\n",
    "    'svc__C': [ 10**x for x in range( -2, 5)],\n",
    "    'svc__gamma': [ 10**x for x in range( -2, 5)]\n",
    "}\n",
    "\n",
    "random_search_svc = RandomizedSearchCV(\n",
    "    pipe_svc, param_dist, n_iter = 10, cv = 5, scoring = 'precision', n_jobs=-1, return_train_score = True, random_state = 918\n",
    ")"
   ]
  },
  {
   "cell_type": "code",
   "execution_count": 28,
   "id": "ede1ea9e-5652-4ee7-aff4-349bdfe973be",
   "metadata": {},
   "outputs": [
    {
     "data": {
      "text/html": [
       "<div>\n",
       "<style scoped>\n",
       "    .dataframe tbody tr th:only-of-type {\n",
       "        vertical-align: middle;\n",
       "    }\n",
       "\n",
       "    .dataframe tbody tr th {\n",
       "        vertical-align: top;\n",
       "    }\n",
       "\n",
       "    .dataframe thead th {\n",
       "        text-align: right;\n",
       "    }\n",
       "</style>\n",
       "<table border=\"1\" class=\"dataframe\">\n",
       "  <thead>\n",
       "    <tr style=\"text-align: right;\">\n",
       "      <th></th>\n",
       "      <th>params</th>\n",
       "      <th>mean_test_score</th>\n",
       "    </tr>\n",
       "  </thead>\n",
       "  <tbody>\n",
       "    <tr>\n",
       "      <th>9</th>\n",
       "      <td>{'svc__gamma': 0.1, 'svc__C': 100}</td>\n",
       "      <td>0.380624</td>\n",
       "    </tr>\n",
       "    <tr>\n",
       "      <th>2</th>\n",
       "      <td>{'svc__gamma': 0.01, 'svc__C': 10000}</td>\n",
       "      <td>0.258896</td>\n",
       "    </tr>\n",
       "    <tr>\n",
       "      <th>0</th>\n",
       "      <td>{'svc__gamma': 0.01, 'svc__C': 1}</td>\n",
       "      <td>0.000000</td>\n",
       "    </tr>\n",
       "    <tr>\n",
       "      <th>1</th>\n",
       "      <td>{'svc__gamma': 0.01, 'svc__C': 0.1}</td>\n",
       "      <td>0.000000</td>\n",
       "    </tr>\n",
       "    <tr>\n",
       "      <th>3</th>\n",
       "      <td>{'svc__gamma': 1, 'svc__C': 1}</td>\n",
       "      <td>0.000000</td>\n",
       "    </tr>\n",
       "  </tbody>\n",
       "</table>\n",
       "</div>"
      ],
      "text/plain": [
       "                                  params  mean_test_score\n",
       "9     {'svc__gamma': 0.1, 'svc__C': 100}         0.380624\n",
       "2  {'svc__gamma': 0.01, 'svc__C': 10000}         0.258896\n",
       "0      {'svc__gamma': 0.01, 'svc__C': 1}         0.000000\n",
       "1    {'svc__gamma': 0.01, 'svc__C': 0.1}         0.000000\n",
       "3         {'svc__gamma': 1, 'svc__C': 1}         0.000000"
      ]
     },
     "execution_count": 28,
     "metadata": {},
     "output_type": "execute_result"
    }
   ],
   "source": [
    "random_search_svc.fit( X_train, y_train)\n",
    "cv_results_svc_opt = pd.DataFrame( random_search_svc.cv_results_)\n",
    "cv_results_svc_opt[ ['params', 'mean_test_score']].sort_values( 'mean_test_score', ascending = False).head()"
   ]
  },
  {
   "cell_type": "code",
   "execution_count": 29,
   "id": "188048a5-f97c-49bc-9329-45d0e43a78a7",
   "metadata": {},
   "outputs": [
    {
     "data": {
      "text/plain": [
       "{'svc__gamma': 0.1, 'svc__C': 100}"
      ]
     },
     "execution_count": 29,
     "metadata": {},
     "output_type": "execute_result"
    }
   ],
   "source": [
    "random_search_svc.best_params_"
   ]
  },
  {
   "cell_type": "markdown",
   "id": "04f3912c-2a9c-4e8b-bb2f-eb51424a6578",
   "metadata": {},
   "source": [
    "### Threshold tuning"
   ]
  },
  {
   "cell_type": "code",
   "execution_count": 30,
   "id": "d74a6c84-be95-43dd-8c1f-2f7176b2d900",
   "metadata": {},
   "outputs": [],
   "source": [
    "X_cv_train, X_cv_test, y_cv_train, y_cv_test = train_test_split( X_train, y_train, test_size = 0.2, stratify = y_train, random_state = 918)"
   ]
  },
  {
   "cell_type": "code",
   "execution_count": 31,
   "id": "abcbbcb9-0927-48fe-a24d-afbb74b49d08",
   "metadata": {},
   "outputs": [],
   "source": [
    "pipe_svc_opt = make_pipeline( column_transformer,\n",
    "                              SVC( gamma = random_search_svc.best_params_[ 'svc__gamma'],\n",
    "                                   C = random_search_svc.best_params_[ 'svc__C']))"
   ]
  },
  {
   "cell_type": "markdown",
   "id": "cc15bf59-b00d-4181-8a22-5c7787d70bc9",
   "metadata": {},
   "source": [
    "Best params are {'svc__gamma': 0.1, 'svc__C': 1}. No need to re-fit every time."
   ]
  },
  {
   "cell_type": "raw",
   "id": "49b1e321-2317-449f-b134-61a0356d7920",
   "metadata": {
    "tags": []
   },
   "source": [
    "pipe_svc_opt = make_pipeline( column_transformer,\n",
    "                              SVC( gamma = 0.1,\n",
    "                                   C = 1))"
   ]
  },
  {
   "cell_type": "code",
   "execution_count": 32,
   "id": "fb71ebbc-3155-4876-a94e-5419460a0588",
   "metadata": {},
   "outputs": [
    {
     "data": {
      "application/vnd.vegalite.v4+json": {
       "$schema": "https://vega.github.io/schema/vega-lite/v4.17.0.json",
       "config": {
        "view": {
         "continuousHeight": 300,
         "continuousWidth": 400
        }
       },
       "data": {
        "url": "http://localhost:50351/05cfcb59a8c4de9baf765ab29df60be8.json"
       },
       "encoding": {
        "tooltip": {
         "field": "thresholds",
         "type": "quantitative"
        },
        "x": {
         "field": "precision",
         "type": "quantitative"
        },
        "y": {
         "field": "recall",
         "type": "quantitative"
        }
       },
       "height": 300,
       "mark": "point",
       "width": 300
      },
      "image/png": "[encoded data removed]",
      "text/plain": [
       "<VegaLite 4 object>\n",
       "\n",
       "If you see this message, it means the renderer has not been properly enabled\n",
       "for the frontend that you are using. For more information, see\n",
       "https://altair-viz.github.io/user_guide/troubleshooting.html\n"
      ]
     },
     "execution_count": 32,
     "metadata": {},
     "output_type": "execute_result"
    }
   ],
   "source": [
    "pr_curve( pipe_svc_opt, X_cv_train, X_cv_test, y_cv_train, y_cv_test)"
   ]
  },
  {
   "cell_type": "markdown",
   "id": "fe88bf0d-9061-44c7-923f-aaaa92d4417f",
   "metadata": {},
   "source": [
    "A threshold of 0.40 is selected."
   ]
  },
  {
   "cell_type": "markdown",
   "id": "4e9bf76b-0622-43c7-822d-bb2721dd05bd",
   "metadata": {
    "tags": []
   },
   "source": [
    "### Final model evaluation"
   ]
  },
  {
   "cell_type": "code",
   "execution_count": 33,
   "id": "c8583394-2818-47e6-9054-2175083575d3",
   "metadata": {},
   "outputs": [],
   "source": [
    "def svc_by_proba( pipe_svc, X_test, threshold):\n",
    "    proba = pipe_svc.decision_function( X_test)\n",
    "    y_hat = proba > threshold\n",
    "    return y_hat"
   ]
  },
  {
   "cell_type": "code",
   "execution_count": 37,
   "id": "15d060b4-3bd3-4f26-8178-d5e1a5ed3bc4",
   "metadata": {},
   "outputs": [
    {
     "data": {
      "text/html": [
       "<div>\n",
       "<style scoped>\n",
       "    .dataframe tbody tr th:only-of-type {\n",
       "        vertical-align: middle;\n",
       "    }\n",
       "\n",
       "    .dataframe tbody tr th {\n",
       "        vertical-align: top;\n",
       "    }\n",
       "\n",
       "    .dataframe thead tr th {\n",
       "        text-align: left;\n",
       "    }\n",
       "</style>\n",
       "<table border=\"1\" class=\"dataframe\">\n",
       "  <thead>\n",
       "    <tr>\n",
       "      <th></th>\n",
       "      <th></th>\n",
       "      <th colspan=\"2\" halign=\"left\">Predicted</th>\n",
       "    </tr>\n",
       "    <tr>\n",
       "      <th></th>\n",
       "      <th></th>\n",
       "      <th>True</th>\n",
       "      <th>False</th>\n",
       "    </tr>\n",
       "  </thead>\n",
       "  <tbody>\n",
       "    <tr>\n",
       "      <th rowspan=\"2\" valign=\"top\">Actual</th>\n",
       "      <th>True</th>\n",
       "      <td>21</td>\n",
       "      <td>250</td>\n",
       "    </tr>\n",
       "    <tr>\n",
       "      <th>False</th>\n",
       "      <td>24</td>\n",
       "      <td>2984</td>\n",
       "    </tr>\n",
       "  </tbody>\n",
       "</table>\n",
       "</div>"
      ],
      "text/plain": [
       "             Predicted      \n",
       "                  True False\n",
       "Actual True         21   250\n",
       "       False        24  2984"
      ]
     },
     "execution_count": 37,
     "metadata": {},
     "output_type": "execute_result"
    }
   ],
   "source": [
    "pipe_svc_opt.fit( X_train, y_train)\n",
    "y_hat_svc_opt = svc_by_proba( pipe_svc_opt, X_test, 0.40)\n",
    "better_confusion_matrix( y_test, y_hat_svc_opt, labels = [ True, False])"
   ]
  },
  {
   "cell_type": "code",
   "execution_count": 38,
   "id": "d132c0d2-800d-4794-ad26-323a191575e4",
   "metadata": {
    "tags": []
   },
   "outputs": [
    {
     "name": "stdout",
     "output_type": "stream",
     "text": [
      "              precision    recall  f1-score   support\n",
      "\n",
      "       False       0.92      0.99      0.96      3008\n",
      "        True       0.47      0.08      0.13       271\n",
      "\n",
      "    accuracy                           0.92      3279\n",
      "   macro avg       0.69      0.53      0.54      3279\n",
      "weighted avg       0.89      0.92      0.89      3279\n",
      "\n"
     ]
    }
   ],
   "source": [
    "print( classification_report( y_test, y_hat_svc_opt))"
   ]
  },
  {
   "cell_type": "markdown",
   "id": "4cac3218-5273-49e2-bb31-b67703f0cea3",
   "metadata": {},
   "source": [
    "## Random Forest Classifier"
   ]
  },
  {
   "cell_type": "markdown",
   "id": "f3b9fb5d-4750-42a7-aa26-33b61d82ac52",
   "metadata": {},
   "source": [
    "### Model training"
   ]
  },
  {
   "cell_type": "code",
   "execution_count": 39,
   "id": "27ab1996-a8bb-4cf8-ba51-24a26b2feb20",
   "metadata": {},
   "outputs": [
    {
     "data": {
      "text/html": [
       "<div>\n",
       "<style scoped>\n",
       "    .dataframe tbody tr th:only-of-type {\n",
       "        vertical-align: middle;\n",
       "    }\n",
       "\n",
       "    .dataframe tbody tr th {\n",
       "        vertical-align: top;\n",
       "    }\n",
       "\n",
       "    .dataframe thead th {\n",
       "        text-align: right;\n",
       "    }\n",
       "</style>\n",
       "<table border=\"1\" class=\"dataframe\">\n",
       "  <thead>\n",
       "    <tr style=\"text-align: right;\">\n",
       "      <th></th>\n",
       "      <th>fit_time</th>\n",
       "      <th>score_time</th>\n",
       "      <th>test_precision</th>\n",
       "      <th>train_precision</th>\n",
       "      <th>test_recall</th>\n",
       "      <th>train_recall</th>\n",
       "      <th>test_f1</th>\n",
       "      <th>train_f1</th>\n",
       "    </tr>\n",
       "  </thead>\n",
       "  <tbody>\n",
       "    <tr>\n",
       "      <th>0</th>\n",
       "      <td>3.088912</td>\n",
       "      <td>0.048393</td>\n",
       "      <td>0.658537</td>\n",
       "      <td>1.0</td>\n",
       "      <td>0.124424</td>\n",
       "      <td>1.000000</td>\n",
       "      <td>0.209302</td>\n",
       "      <td>1.000000</td>\n",
       "    </tr>\n",
       "    <tr>\n",
       "      <th>1</th>\n",
       "      <td>3.079470</td>\n",
       "      <td>0.060034</td>\n",
       "      <td>0.606061</td>\n",
       "      <td>1.0</td>\n",
       "      <td>0.092166</td>\n",
       "      <td>0.998847</td>\n",
       "      <td>0.160000</td>\n",
       "      <td>0.999423</td>\n",
       "    </tr>\n",
       "    <tr>\n",
       "      <th>2</th>\n",
       "      <td>5.307504</td>\n",
       "      <td>0.093757</td>\n",
       "      <td>0.588235</td>\n",
       "      <td>1.0</td>\n",
       "      <td>0.092166</td>\n",
       "      <td>1.000000</td>\n",
       "      <td>0.159363</td>\n",
       "      <td>1.000000</td>\n",
       "    </tr>\n",
       "    <tr>\n",
       "      <th>3</th>\n",
       "      <td>3.400319</td>\n",
       "      <td>0.050514</td>\n",
       "      <td>0.806452</td>\n",
       "      <td>1.0</td>\n",
       "      <td>0.115207</td>\n",
       "      <td>0.998847</td>\n",
       "      <td>0.201613</td>\n",
       "      <td>0.999423</td>\n",
       "    </tr>\n",
       "    <tr>\n",
       "      <th>4</th>\n",
       "      <td>3.154398</td>\n",
       "      <td>0.046876</td>\n",
       "      <td>0.700000</td>\n",
       "      <td>1.0</td>\n",
       "      <td>0.097222</td>\n",
       "      <td>1.000000</td>\n",
       "      <td>0.170732</td>\n",
       "      <td>1.000000</td>\n",
       "    </tr>\n",
       "  </tbody>\n",
       "</table>\n",
       "</div>"
      ],
      "text/plain": [
       "   fit_time  score_time  test_precision  train_precision  test_recall  \\\n",
       "0  3.088912    0.048393        0.658537              1.0     0.124424   \n",
       "1  3.079470    0.060034        0.606061              1.0     0.092166   \n",
       "2  5.307504    0.093757        0.588235              1.0     0.092166   \n",
       "3  3.400319    0.050514        0.806452              1.0     0.115207   \n",
       "4  3.154398    0.046876        0.700000              1.0     0.097222   \n",
       "\n",
       "   train_recall   test_f1  train_f1  \n",
       "0      1.000000  0.209302  1.000000  \n",
       "1      0.998847  0.160000  0.999423  \n",
       "2      1.000000  0.159363  1.000000  \n",
       "3      0.998847  0.201613  0.999423  \n",
       "4      1.000000  0.170732  1.000000  "
      ]
     },
     "execution_count": 39,
     "metadata": {},
     "output_type": "execute_result"
    }
   ],
   "source": [
    "pipe_rfc = make_pipeline( column_transformer, RandomForestClassifier())\n",
    "cv_result_rfc = cross_validate( pipe_rfc, X_train, y_train, cv = 5, return_train_score = True, scoring = scoring_metrics)\n",
    "pd.DataFrame( cv_result_rfc)"
   ]
  },
  {
   "cell_type": "code",
   "execution_count": 40,
   "id": "e719dafa-e376-45aa-8259-08403f8e5369",
   "metadata": {},
   "outputs": [
    {
     "data": {
      "text/plain": [
       "fit_time           3.606121\n",
       "score_time         0.059915\n",
       "test_precision     0.671857\n",
       "train_precision    1.000000\n",
       "test_recall        0.104237\n",
       "train_recall       0.999539\n",
       "test_f1            0.180202\n",
       "train_f1           0.999769\n",
       "dtype: float64"
      ]
     },
     "execution_count": 40,
     "metadata": {},
     "output_type": "execute_result"
    }
   ],
   "source": [
    "pd.DataFrame( cv_result_rfc).mean()"
   ]
  },
  {
   "cell_type": "markdown",
   "id": "adb55e3b-138f-42da-b1ca-891c6994d04d",
   "metadata": {},
   "source": [
    "### Hyperparameter optimization"
   ]
  },
  {
   "cell_type": "code",
   "execution_count": 41,
   "id": "0ee17eb6-96b7-4a1d-9145-fa443b2e8273",
   "metadata": {},
   "outputs": [
    {
     "data": {
      "text/html": [
       "<div>\n",
       "<style scoped>\n",
       "    .dataframe tbody tr th:only-of-type {\n",
       "        vertical-align: middle;\n",
       "    }\n",
       "\n",
       "    .dataframe tbody tr th {\n",
       "        vertical-align: top;\n",
       "    }\n",
       "\n",
       "    .dataframe thead th {\n",
       "        text-align: right;\n",
       "    }\n",
       "</style>\n",
       "<table border=\"1\" class=\"dataframe\">\n",
       "  <thead>\n",
       "    <tr style=\"text-align: right;\">\n",
       "      <th></th>\n",
       "      <th>params</th>\n",
       "      <th>mean_test_score</th>\n",
       "    </tr>\n",
       "  </thead>\n",
       "  <tbody>\n",
       "    <tr>\n",
       "      <th>16</th>\n",
       "      <td>{'randomforestclassifier__n_estimators': 200, ...</td>\n",
       "      <td>0.733814</td>\n",
       "    </tr>\n",
       "    <tr>\n",
       "      <th>0</th>\n",
       "      <td>{'randomforestclassifier__n_estimators': 700, ...</td>\n",
       "      <td>0.699647</td>\n",
       "    </tr>\n",
       "    <tr>\n",
       "      <th>9</th>\n",
       "      <td>{'randomforestclassifier__n_estimators': 700, ...</td>\n",
       "      <td>0.697792</td>\n",
       "    </tr>\n",
       "    <tr>\n",
       "      <th>11</th>\n",
       "      <td>{'randomforestclassifier__n_estimators': 600, ...</td>\n",
       "      <td>0.692786</td>\n",
       "    </tr>\n",
       "    <tr>\n",
       "      <th>1</th>\n",
       "      <td>{'randomforestclassifier__n_estimators': 800, ...</td>\n",
       "      <td>0.691973</td>\n",
       "    </tr>\n",
       "  </tbody>\n",
       "</table>\n",
       "</div>"
      ],
      "text/plain": [
       "                                               params  mean_test_score\n",
       "16  {'randomforestclassifier__n_estimators': 200, ...         0.733814\n",
       "0   {'randomforestclassifier__n_estimators': 700, ...         0.699647\n",
       "9   {'randomforestclassifier__n_estimators': 700, ...         0.697792\n",
       "11  {'randomforestclassifier__n_estimators': 600, ...         0.692786\n",
       "1   {'randomforestclassifier__n_estimators': 800, ...         0.691973"
      ]
     },
     "execution_count": 41,
     "metadata": {},
     "output_type": "execute_result"
    }
   ],
   "source": [
    "param_dist = {\n",
    "    'randomforestclassifier__n_estimators': [ 100*x for x in range( 1, 11)],\n",
    "    'randomforestclassifier__max_depth': [ 10*x for x in range( 1, 11)],\n",
    "    'randomforestclassifier__max_features': [ 'sqrt', 'log2'],\n",
    "    'randomforestclassifier__criterion': [ 'gini', 'entropy', 'log_loss'],\n",
    "    'randomforestclassifier__bootstrap': [ True, False]\n",
    "}\n",
    "\n",
    "random_search_rfc = RandomizedSearchCV(\n",
    "    pipe_rfc, param_dist, n_iter = 30, cv = 5, scoring = 'precision', n_jobs=-1, return_train_score = True, random_state = 918\n",
    ")\n",
    "\n",
    "random_search_rfc.fit( X_train, y_train)\n",
    "cv_results_rfc_opt = pd.DataFrame( random_search_rfc.cv_results_)\n",
    "cv_results_rfc_opt[ ['params', 'mean_test_score']].sort_values( 'mean_test_score', ascending = False).head()"
   ]
  },
  {
   "cell_type": "code",
   "execution_count": 42,
   "id": "743c7286-98d7-4323-86a6-9523b85c2148",
   "metadata": {},
   "outputs": [
    {
     "data": {
      "text/plain": [
       "{'randomforestclassifier__n_estimators': 200,\n",
       " 'randomforestclassifier__max_features': 'log2',\n",
       " 'randomforestclassifier__max_depth': 10,\n",
       " 'randomforestclassifier__criterion': 'entropy',\n",
       " 'randomforestclassifier__bootstrap': True}"
      ]
     },
     "execution_count": 42,
     "metadata": {},
     "output_type": "execute_result"
    }
   ],
   "source": [
    "random_search_rfc.best_params_"
   ]
  },
  {
   "cell_type": "markdown",
   "id": "7dc7e237-6243-4cc2-be21-b97ef38c6c0d",
   "metadata": {},
   "source": [
    "### Threshold tuning"
   ]
  },
  {
   "cell_type": "code",
   "execution_count": 43,
   "id": "92229f86-8086-4aab-be3c-9cfcb597a990",
   "metadata": {
    "tags": []
   },
   "outputs": [],
   "source": [
    "pipe_rfc_opt = make_pipeline( column_transformer,\n",
    "                              RandomForestClassifier( n_estimators = random_search_rfc.best_params_[ 'randomforestclassifier__n_estimators'],\n",
    "                                                      max_features = random_search_rfc.best_params_[ 'randomforestclassifier__max_features'],\n",
    "                                                      max_depth = random_search_rfc.best_params_[ 'randomforestclassifier__max_depth'],\n",
    "                                                      criterion = random_search_rfc.best_params_[ 'randomforestclassifier__criterion'],\n",
    "                                                      bootstrap = random_search_rfc.best_params_[ 'randomforestclassifier__bootstrap']))"
   ]
  },
  {
   "cell_type": "markdown",
   "id": "43119e69-e59a-4764-b383-3029b1467068",
   "metadata": {},
   "source": [
    "Best params are {'randomforestclassifier__n_estimators': 300,\n",
    " 'randomforestclassifier__max_features': 'log2',\n",
    " 'randomforestclassifier__max_depth': 90,\n",
    " 'randomforestclassifier__criterion': 'log_loss',\n",
    " 'randomforestclassifier__bootstrap': True}. No need to re-fit every time."
   ]
  },
  {
   "cell_type": "raw",
   "id": "51d0624b-0006-4e59-91ba-4bc19024f2dc",
   "metadata": {},
   "source": [
    "pipe_rfc_opt = make_pipeline( column_transformer,\n",
    "                              RandomForestClassifier( n_estimators = 300,\n",
    "                                                      max_features = 'log2',\n",
    "                                                      max_depth = 90,\n",
    "                                                      criterion = 'log_loss',\n",
    "                                                      bootstrap = True))"
   ]
  },
  {
   "cell_type": "code",
   "execution_count": 44,
   "id": "5ca292e9-cdf6-4f68-8b12-d06b08d8d939",
   "metadata": {},
   "outputs": [
    {
     "data": {
      "application/vnd.vegalite.v4+json": {
       "$schema": "https://vega.github.io/schema/vega-lite/v4.17.0.json",
       "config": {
        "view": {
         "continuousHeight": 300,
         "continuousWidth": 400
        }
       },
       "data": {
        "url": "http://localhost:50351/e897beea1c9bfd5dc84119b0482acbcd.json"
       },
       "encoding": {
        "tooltip": {
         "field": "thresholds",
         "type": "quantitative"
        },
        "x": {
         "field": "precision",
         "type": "quantitative"
        },
        "y": {
         "field": "recall",
         "type": "quantitative"
        }
       },
       "height": 300,
       "mark": "point",
       "width": 300
      },
      "image/png": "[encoded data removed]",
      "text/plain": [
       "<VegaLite 4 object>\n",
       "\n",
       "If you see this message, it means the renderer has not been properly enabled\n",
       "for the frontend that you are using. For more information, see\n",
       "https://altair-viz.github.io/user_guide/troubleshooting.html\n"
      ]
     },
     "execution_count": 44,
     "metadata": {},
     "output_type": "execute_result"
    }
   ],
   "source": [
    "pr_curve( pipe_rfc_opt, X_cv_train, X_cv_test, y_cv_train, y_cv_test)"
   ]
  },
  {
   "cell_type": "markdown",
   "id": "f941d481-65c8-42c1-9b57-d025cbac3ae1",
   "metadata": {},
   "source": [
    "A threshold of 0.41 is selected."
   ]
  },
  {
   "cell_type": "markdown",
   "id": "70b83d85-1890-4672-a92a-8ad0939ef341",
   "metadata": {},
   "source": [
    "### Final model evaluation"
   ]
  },
  {
   "cell_type": "code",
   "execution_count": 45,
   "id": "7425f78b-a683-4ab7-a4b0-dccf47e30432",
   "metadata": {},
   "outputs": [],
   "source": [
    "def rfc_by_proba( pipe_rfc, X_test, threshold):\n",
    "    proba = pipe_rfc.predict_proba( X_test)[ :, 1]\n",
    "    y_hat = proba > threshold\n",
    "    return y_hat"
   ]
  },
  {
   "cell_type": "code",
   "execution_count": 46,
   "id": "08a9d18c-9ec6-4cbb-9936-f301da1e168e",
   "metadata": {},
   "outputs": [
    {
     "data": {
      "text/html": [
       "<div>\n",
       "<style scoped>\n",
       "    .dataframe tbody tr th:only-of-type {\n",
       "        vertical-align: middle;\n",
       "    }\n",
       "\n",
       "    .dataframe tbody tr th {\n",
       "        vertical-align: top;\n",
       "    }\n",
       "\n",
       "    .dataframe thead tr th {\n",
       "        text-align: left;\n",
       "    }\n",
       "</style>\n",
       "<table border=\"1\" class=\"dataframe\">\n",
       "  <thead>\n",
       "    <tr>\n",
       "      <th></th>\n",
       "      <th></th>\n",
       "      <th colspan=\"2\" halign=\"left\">Predicted</th>\n",
       "    </tr>\n",
       "    <tr>\n",
       "      <th></th>\n",
       "      <th></th>\n",
       "      <th>True</th>\n",
       "      <th>False</th>\n",
       "    </tr>\n",
       "  </thead>\n",
       "  <tbody>\n",
       "    <tr>\n",
       "      <th rowspan=\"2\" valign=\"top\">Actual</th>\n",
       "      <th>True</th>\n",
       "      <td>14</td>\n",
       "      <td>257</td>\n",
       "    </tr>\n",
       "    <tr>\n",
       "      <th>False</th>\n",
       "      <td>6</td>\n",
       "      <td>3002</td>\n",
       "    </tr>\n",
       "  </tbody>\n",
       "</table>\n",
       "</div>"
      ],
      "text/plain": [
       "             Predicted      \n",
       "                  True False\n",
       "Actual True         14   257\n",
       "       False         6  3002"
      ]
     },
     "execution_count": 46,
     "metadata": {},
     "output_type": "execute_result"
    }
   ],
   "source": [
    "pipe_rfc_opt.fit( X_train, y_train)\n",
    "y_hat_rfc_opt = rfc_by_proba( pipe_rfc_opt, X_test, 0.58)\n",
    "better_confusion_matrix( y_test, y_hat_rfc_opt, labels = [ True, False])"
   ]
  },
  {
   "cell_type": "code",
   "execution_count": 47,
   "id": "b00ae06b-09d7-4142-b8e5-07fe86b020da",
   "metadata": {
    "tags": []
   },
   "outputs": [
    {
     "name": "stdout",
     "output_type": "stream",
     "text": [
      "              precision    recall  f1-score   support\n",
      "\n",
      "       False       0.92      1.00      0.96      3008\n",
      "        True       0.70      0.05      0.10       271\n",
      "\n",
      "    accuracy                           0.92      3279\n",
      "   macro avg       0.81      0.52      0.53      3279\n",
      "weighted avg       0.90      0.92      0.89      3279\n",
      "\n"
     ]
    }
   ],
   "source": [
    "print( classification_report( y_test, y_hat_rfc_opt))"
   ]
  },
  {
   "cell_type": "markdown",
   "id": "20e0752c-589b-454e-a1c8-770ca7eccd8b",
   "metadata": {},
   "source": [
    "## Gaussian Naive Bayes"
   ]
  },
  {
   "cell_type": "markdown",
   "id": "b7a37f85-de42-4ee4-90b9-b8752c3418d4",
   "metadata": {},
   "source": [
    "### Model training"
   ]
  },
  {
   "cell_type": "code",
   "execution_count": 48,
   "id": "66ed6ed1-f034-4925-be40-303cafd2a145",
   "metadata": {},
   "outputs": [
    {
     "data": {
      "text/html": [
       "<div>\n",
       "<style scoped>\n",
       "    .dataframe tbody tr th:only-of-type {\n",
       "        vertical-align: middle;\n",
       "    }\n",
       "\n",
       "    .dataframe tbody tr th {\n",
       "        vertical-align: top;\n",
       "    }\n",
       "\n",
       "    .dataframe thead th {\n",
       "        text-align: right;\n",
       "    }\n",
       "</style>\n",
       "<table border=\"1\" class=\"dataframe\">\n",
       "  <thead>\n",
       "    <tr style=\"text-align: right;\">\n",
       "      <th></th>\n",
       "      <th>fit_time</th>\n",
       "      <th>score_time</th>\n",
       "      <th>test_precision</th>\n",
       "      <th>train_precision</th>\n",
       "      <th>test_recall</th>\n",
       "      <th>train_recall</th>\n",
       "      <th>test_f1</th>\n",
       "      <th>train_f1</th>\n",
       "    </tr>\n",
       "  </thead>\n",
       "  <tbody>\n",
       "    <tr>\n",
       "      <th>0</th>\n",
       "      <td>0.543751</td>\n",
       "      <td>0.029922</td>\n",
       "      <td>0.204225</td>\n",
       "      <td>0.207994</td>\n",
       "      <td>0.668203</td>\n",
       "      <td>0.678201</td>\n",
       "      <td>0.312837</td>\n",
       "      <td>0.318354</td>\n",
       "    </tr>\n",
       "    <tr>\n",
       "      <th>1</th>\n",
       "      <td>0.587637</td>\n",
       "      <td>0.015031</td>\n",
       "      <td>0.186370</td>\n",
       "      <td>0.211504</td>\n",
       "      <td>0.617512</td>\n",
       "      <td>0.682814</td>\n",
       "      <td>0.286325</td>\n",
       "      <td>0.322968</td>\n",
       "    </tr>\n",
       "    <tr>\n",
       "      <th>2</th>\n",
       "      <td>0.585286</td>\n",
       "      <td>0.015629</td>\n",
       "      <td>0.195225</td>\n",
       "      <td>0.209993</td>\n",
       "      <td>0.640553</td>\n",
       "      <td>0.668973</td>\n",
       "      <td>0.299247</td>\n",
       "      <td>0.319647</td>\n",
       "    </tr>\n",
       "    <tr>\n",
       "      <th>3</th>\n",
       "      <td>0.568062</td>\n",
       "      <td>0.022657</td>\n",
       "      <td>0.224784</td>\n",
       "      <td>0.202351</td>\n",
       "      <td>0.718894</td>\n",
       "      <td>0.655133</td>\n",
       "      <td>0.342481</td>\n",
       "      <td>0.309200</td>\n",
       "    </tr>\n",
       "    <tr>\n",
       "      <th>4</th>\n",
       "      <td>0.537249</td>\n",
       "      <td>0.005034</td>\n",
       "      <td>0.221557</td>\n",
       "      <td>0.203795</td>\n",
       "      <td>0.685185</td>\n",
       "      <td>0.668203</td>\n",
       "      <td>0.334842</td>\n",
       "      <td>0.312332</td>\n",
       "    </tr>\n",
       "  </tbody>\n",
       "</table>\n",
       "</div>"
      ],
      "text/plain": [
       "   fit_time  score_time  test_precision  train_precision  test_recall  \\\n",
       "0  0.543751    0.029922        0.204225         0.207994     0.668203   \n",
       "1  0.587637    0.015031        0.186370         0.211504     0.617512   \n",
       "2  0.585286    0.015629        0.195225         0.209993     0.640553   \n",
       "3  0.568062    0.022657        0.224784         0.202351     0.718894   \n",
       "4  0.537249    0.005034        0.221557         0.203795     0.685185   \n",
       "\n",
       "   train_recall   test_f1  train_f1  \n",
       "0      0.678201  0.312837  0.318354  \n",
       "1      0.682814  0.286325  0.322968  \n",
       "2      0.668973  0.299247  0.319647  \n",
       "3      0.655133  0.342481  0.309200  \n",
       "4      0.668203  0.334842  0.312332  "
      ]
     },
     "execution_count": 48,
     "metadata": {},
     "output_type": "execute_result"
    }
   ],
   "source": [
    "pipe_nb = make_pipeline( column_transformer, PowerTransformer(), GaussianNB())\n",
    "cv_result_nb = cross_validate( pipe_nb, X_train, y_train, cv = 5, return_train_score = True, scoring = scoring_metrics)\n",
    "pd.DataFrame( cv_result_nb)"
   ]
  },
  {
   "cell_type": "code",
   "execution_count": 49,
   "id": "bb86f46f-3b3d-4e5f-9948-70ebe1209077",
   "metadata": {},
   "outputs": [
    {
     "data": {
      "text/plain": [
       "fit_time           7.313439\n",
       "score_time         2.385643\n",
       "test_precision     0.775193\n",
       "train_precision    0.925607\n",
       "test_recall        0.067328\n",
       "train_recall       0.106319\n",
       "test_f1            0.123856\n",
       "train_f1           0.190705\n",
       "dtype: float64"
      ]
     },
     "execution_count": 49,
     "metadata": {},
     "output_type": "execute_result"
    }
   ],
   "source": [
    "pd.DataFrame( cv_result_svc).mean()"
   ]
  },
  {
   "cell_type": "markdown",
   "id": "8e3001b6-6616-4698-aba2-d76380169dc2",
   "metadata": {},
   "source": [
    "### Threshold tuning"
   ]
  },
  {
   "cell_type": "code",
   "execution_count": 50,
   "id": "d7fda8ca-6040-425c-8b9f-02aab582393b",
   "metadata": {},
   "outputs": [
    {
     "data": {
      "application/vnd.vegalite.v4+json": {
       "$schema": "https://vega.github.io/schema/vega-lite/v4.17.0.json",
       "config": {
        "view": {
         "continuousHeight": 300,
         "continuousWidth": 400
        }
       },
       "data": {
        "url": "http://localhost:50351/d222506503262a9785efcf338368bbeb.json"
       },
       "encoding": {
        "tooltip": {
         "field": "thresholds",
         "type": "quantitative"
        },
        "x": {
         "field": "precision",
         "type": "quantitative"
        },
        "y": {
         "field": "recall",
         "type": "quantitative"
        }
       },
       "height": 300,
       "mark": "point",
       "width": 300
      },
      "image/png": "[encoded data removed]",
      "text/plain": [
       "<VegaLite 4 object>\n",
       "\n",
       "If you see this message, it means the renderer has not been properly enabled\n",
       "for the frontend that you are using. For more information, see\n",
       "https://altair-viz.github.io/user_guide/troubleshooting.html\n"
      ]
     },
     "execution_count": 50,
     "metadata": {},
     "output_type": "execute_result"
    }
   ],
   "source": [
    "pr_curve( pipe_nb, X_cv_train, X_cv_test, y_cv_train, y_cv_test)"
   ]
  },
  {
   "cell_type": "markdown",
   "id": "8b3fb0ab-15e8-4085-84d5-e7a3e1fd53de",
   "metadata": {
    "tags": []
   },
   "source": [
    "A threshold of 0.999999 is selected."
   ]
  },
  {
   "cell_type": "markdown",
   "id": "ab551ad5-31e5-4282-a2c5-31478c42fb03",
   "metadata": {},
   "source": [
    "### Final model evaluation"
   ]
  },
  {
   "cell_type": "code",
   "execution_count": 51,
   "id": "c6ee0c02-3454-4c97-89ab-195f16e32539",
   "metadata": {},
   "outputs": [
    {
     "data": {
      "text/html": [
       "<div>\n",
       "<style scoped>\n",
       "    .dataframe tbody tr th:only-of-type {\n",
       "        vertical-align: middle;\n",
       "    }\n",
       "\n",
       "    .dataframe tbody tr th {\n",
       "        vertical-align: top;\n",
       "    }\n",
       "\n",
       "    .dataframe thead tr th {\n",
       "        text-align: left;\n",
       "    }\n",
       "</style>\n",
       "<table border=\"1\" class=\"dataframe\">\n",
       "  <thead>\n",
       "    <tr>\n",
       "      <th></th>\n",
       "      <th></th>\n",
       "      <th colspan=\"2\" halign=\"left\">Predicted</th>\n",
       "    </tr>\n",
       "    <tr>\n",
       "      <th></th>\n",
       "      <th></th>\n",
       "      <th>True</th>\n",
       "      <th>False</th>\n",
       "    </tr>\n",
       "  </thead>\n",
       "  <tbody>\n",
       "    <tr>\n",
       "      <th rowspan=\"2\" valign=\"top\">Actual</th>\n",
       "      <th>True</th>\n",
       "      <td>57</td>\n",
       "      <td>214</td>\n",
       "    </tr>\n",
       "    <tr>\n",
       "      <th>False</th>\n",
       "      <td>80</td>\n",
       "      <td>2928</td>\n",
       "    </tr>\n",
       "  </tbody>\n",
       "</table>\n",
       "</div>"
      ],
      "text/plain": [
       "             Predicted      \n",
       "                  True False\n",
       "Actual True         57   214\n",
       "       False        80  2928"
      ]
     },
     "execution_count": 51,
     "metadata": {},
     "output_type": "execute_result"
    }
   ],
   "source": [
    "def nb_by_proba( pipe_nb, X_test, threshold):\n",
    "    proba = pipe_nb.predict_proba( X_test)[ :, 1]\n",
    "    y_hat = proba > threshold\n",
    "    return y_hat\n",
    "pipe_nb.fit( X_train, y_train)\n",
    "y_hat_nb = nb_by_proba( pipe_nb, X_test, 0.999999)\n",
    "better_confusion_matrix( y_test, y_hat_nb, labels = [ True, False])"
   ]
  },
  {
   "cell_type": "code",
   "execution_count": 52,
   "id": "b987ea77-0183-49b6-8e1b-b6fe22cbef0d",
   "metadata": {
    "tags": []
   },
   "outputs": [
    {
     "name": "stdout",
     "output_type": "stream",
     "text": [
      "              precision    recall  f1-score   support\n",
      "\n",
      "       False       0.93      0.97      0.95      3008\n",
      "        True       0.42      0.21      0.28       271\n",
      "\n",
      "    accuracy                           0.91      3279\n",
      "   macro avg       0.67      0.59      0.62      3279\n",
      "weighted avg       0.89      0.91      0.90      3279\n",
      "\n"
     ]
    }
   ],
   "source": [
    "print( classification_report( y_test, y_hat_nb))"
   ]
  },
  {
   "cell_type": "markdown",
   "id": "f114d351-8907-4267-958a-614903aab421",
   "metadata": {},
   "source": [
    "## Logistic Regression"
   ]
  },
  {
   "cell_type": "markdown",
   "id": "81afb615-bc4f-4c04-b134-8a7cef705443",
   "metadata": {},
   "source": [
    "### Model training"
   ]
  },
  {
   "cell_type": "code",
   "execution_count": 53,
   "id": "1afaecd4-5ee6-4965-b451-eed7e069f185",
   "metadata": {},
   "outputs": [
    {
     "data": {
      "text/html": [
       "<div>\n",
       "<style scoped>\n",
       "    .dataframe tbody tr th:only-of-type {\n",
       "        vertical-align: middle;\n",
       "    }\n",
       "\n",
       "    .dataframe tbody tr th {\n",
       "        vertical-align: top;\n",
       "    }\n",
       "\n",
       "    .dataframe thead th {\n",
       "        text-align: right;\n",
       "    }\n",
       "</style>\n",
       "<table border=\"1\" class=\"dataframe\">\n",
       "  <thead>\n",
       "    <tr style=\"text-align: right;\">\n",
       "      <th></th>\n",
       "      <th>fit_time</th>\n",
       "      <th>score_time</th>\n",
       "      <th>test_precision</th>\n",
       "      <th>train_precision</th>\n",
       "      <th>test_recall</th>\n",
       "      <th>train_recall</th>\n",
       "      <th>test_f1</th>\n",
       "      <th>train_f1</th>\n",
       "    </tr>\n",
       "  </thead>\n",
       "  <tbody>\n",
       "    <tr>\n",
       "      <th>0</th>\n",
       "      <td>1.289361</td>\n",
       "      <td>0.062473</td>\n",
       "      <td>0.615385</td>\n",
       "      <td>0.616236</td>\n",
       "      <td>0.221198</td>\n",
       "      <td>0.192618</td>\n",
       "      <td>0.325424</td>\n",
       "      <td>0.293497</td>\n",
       "    </tr>\n",
       "    <tr>\n",
       "      <th>1</th>\n",
       "      <td>1.750174</td>\n",
       "      <td>0.015632</td>\n",
       "      <td>0.558824</td>\n",
       "      <td>0.618705</td>\n",
       "      <td>0.175115</td>\n",
       "      <td>0.198385</td>\n",
       "      <td>0.266667</td>\n",
       "      <td>0.300437</td>\n",
       "    </tr>\n",
       "    <tr>\n",
       "      <th>2</th>\n",
       "      <td>1.609119</td>\n",
       "      <td>0.000000</td>\n",
       "      <td>0.554054</td>\n",
       "      <td>0.624549</td>\n",
       "      <td>0.188940</td>\n",
       "      <td>0.199539</td>\n",
       "      <td>0.281787</td>\n",
       "      <td>0.302448</td>\n",
       "    </tr>\n",
       "    <tr>\n",
       "      <th>3</th>\n",
       "      <td>1.547853</td>\n",
       "      <td>0.015626</td>\n",
       "      <td>0.672131</td>\n",
       "      <td>0.617188</td>\n",
       "      <td>0.188940</td>\n",
       "      <td>0.182238</td>\n",
       "      <td>0.294964</td>\n",
       "      <td>0.281389</td>\n",
       "    </tr>\n",
       "    <tr>\n",
       "      <th>4</th>\n",
       "      <td>1.545745</td>\n",
       "      <td>0.015581</td>\n",
       "      <td>0.592593</td>\n",
       "      <td>0.623616</td>\n",
       "      <td>0.148148</td>\n",
       "      <td>0.194700</td>\n",
       "      <td>0.237037</td>\n",
       "      <td>0.296752</td>\n",
       "    </tr>\n",
       "  </tbody>\n",
       "</table>\n",
       "</div>"
      ],
      "text/plain": [
       "   fit_time  score_time  test_precision  train_precision  test_recall  \\\n",
       "0  1.289361    0.062473        0.615385         0.616236     0.221198   \n",
       "1  1.750174    0.015632        0.558824         0.618705     0.175115   \n",
       "2  1.609119    0.000000        0.554054         0.624549     0.188940   \n",
       "3  1.547853    0.015626        0.672131         0.617188     0.188940   \n",
       "4  1.545745    0.015581        0.592593         0.623616     0.148148   \n",
       "\n",
       "   train_recall   test_f1  train_f1  \n",
       "0      0.192618  0.325424  0.293497  \n",
       "1      0.198385  0.266667  0.300437  \n",
       "2      0.199539  0.281787  0.302448  \n",
       "3      0.182238  0.294964  0.281389  \n",
       "4      0.194700  0.237037  0.296752  "
      ]
     },
     "execution_count": 53,
     "metadata": {},
     "output_type": "execute_result"
    }
   ],
   "source": [
    "pipe_logreg = make_pipeline( column_transformer, LogisticRegression( max_iter = 500, solver = 'saga'))\n",
    "cv_result_logreg = cross_validate( pipe_logreg, X_train, y_train, cv = 5, return_train_score = True, scoring = scoring_metrics)\n",
    "pd.DataFrame( cv_result_logreg)"
   ]
  },
  {
   "cell_type": "code",
   "execution_count": 54,
   "id": "cb9b6314-9b37-4877-b9f4-042e31670e1e",
   "metadata": {},
   "outputs": [
    {
     "data": {
      "text/plain": [
       "fit_time           1.548450\n",
       "score_time         0.021862\n",
       "test_precision     0.598597\n",
       "train_precision    0.620059\n",
       "test_recall        0.184468\n",
       "train_recall       0.193496\n",
       "test_f1            0.281176\n",
       "train_f1           0.294904\n",
       "dtype: float64"
      ]
     },
     "execution_count": 54,
     "metadata": {},
     "output_type": "execute_result"
    }
   ],
   "source": [
    "pd.DataFrame( cv_result_logreg).mean()"
   ]
  },
  {
   "cell_type": "markdown",
   "id": "13924bbd-0216-4ddb-833f-cd07be6678de",
   "metadata": {},
   "source": [
    "### Hyperparameter optimization"
   ]
  },
  {
   "cell_type": "code",
   "execution_count": 56,
   "id": "e6842ff6-4e0e-4a38-998e-917e82563e63",
   "metadata": {},
   "outputs": [
    {
     "name": "stderr",
     "output_type": "stream",
     "text": [
      "C:\\Users\\User\\miniconda3\\lib\\site-packages\\sklearn\\linear_model\\_logistic.py:1106: UserWarning: l1_ratio parameter is only used when penalty is 'elasticnet'. Got (penalty=l2)\n",
      "  warnings.warn(\n"
     ]
    },
    {
     "data": {
      "text/html": [
       "<div>\n",
       "<style scoped>\n",
       "    .dataframe tbody tr th:only-of-type {\n",
       "        vertical-align: middle;\n",
       "    }\n",
       "\n",
       "    .dataframe tbody tr th {\n",
       "        vertical-align: top;\n",
       "    }\n",
       "\n",
       "    .dataframe thead th {\n",
       "        text-align: right;\n",
       "    }\n",
       "</style>\n",
       "<table border=\"1\" class=\"dataframe\">\n",
       "  <thead>\n",
       "    <tr style=\"text-align: right;\">\n",
       "      <th></th>\n",
       "      <th>params</th>\n",
       "      <th>mean_test_score</th>\n",
       "    </tr>\n",
       "  </thead>\n",
       "  <tbody>\n",
       "    <tr>\n",
       "      <th>3</th>\n",
       "      <td>{'logisticregression__penalty': 'l2', 'logisti...</td>\n",
       "      <td>0.647035</td>\n",
       "    </tr>\n",
       "    <tr>\n",
       "      <th>0</th>\n",
       "      <td>{'logisticregression__penalty': 'none', 'logis...</td>\n",
       "      <td>0.603293</td>\n",
       "    </tr>\n",
       "    <tr>\n",
       "      <th>1</th>\n",
       "      <td>{'logisticregression__penalty': 'elasticnet', ...</td>\n",
       "      <td>0.603293</td>\n",
       "    </tr>\n",
       "    <tr>\n",
       "      <th>2</th>\n",
       "      <td>{'logisticregression__penalty': 'none', 'logis...</td>\n",
       "      <td>0.603293</td>\n",
       "    </tr>\n",
       "    <tr>\n",
       "      <th>4</th>\n",
       "      <td>{'logisticregression__penalty': 'l2', 'logisti...</td>\n",
       "      <td>0.603293</td>\n",
       "    </tr>\n",
       "  </tbody>\n",
       "</table>\n",
       "</div>"
      ],
      "text/plain": [
       "                                              params  mean_test_score\n",
       "3  {'logisticregression__penalty': 'l2', 'logisti...         0.647035\n",
       "0  {'logisticregression__penalty': 'none', 'logis...         0.603293\n",
       "1  {'logisticregression__penalty': 'elasticnet', ...         0.603293\n",
       "2  {'logisticregression__penalty': 'none', 'logis...         0.603293\n",
       "4  {'logisticregression__penalty': 'l2', 'logisti...         0.603293"
      ]
     },
     "execution_count": 56,
     "metadata": {},
     "output_type": "execute_result"
    }
   ],
   "source": [
    "param_dist = {\n",
    "    'logisticregression__C': [ 10**x for x in range( -2, 5)],\n",
    "    'logisticregression__penalty': [ 'none', 'l2', 'l1', 'elasticnet'],\n",
    "    'logisticregression__l1_ratio': [ 0, 0.5, 1]\n",
    "}\n",
    "\n",
    "grid_search_logreg = RandomizedSearchCV(\n",
    "    pipe_logreg, param_dist, cv = 20, scoring = 'precision', n_jobs=-1, return_train_score = True, random_state = 918\n",
    ")\n",
    "\n",
    "grid_search_logreg.fit( X_train, y_train)\n",
    "cv_results_logreg_opt = pd.DataFrame( grid_search_logreg.cv_results_)\n",
    "cv_results_logreg_opt[ ['params', 'mean_test_score']].sort_values( 'mean_test_score', ascending = False).head()"
   ]
  },
  {
   "cell_type": "code",
   "execution_count": 57,
   "id": "2be175ed-0ec8-4962-b8db-a32c19457ce9",
   "metadata": {},
   "outputs": [
    {
     "data": {
      "text/plain": [
       "{'logisticregression__penalty': 'l2',\n",
       " 'logisticregression__l1_ratio': 0,\n",
       " 'logisticregression__C': 0.01}"
      ]
     },
     "execution_count": 57,
     "metadata": {},
     "output_type": "execute_result"
    }
   ],
   "source": [
    "grid_search_logreg.best_params_"
   ]
  },
  {
   "cell_type": "markdown",
   "id": "863d30ed-ab1d-4597-8f95-3327cc3abdcd",
   "metadata": {},
   "source": [
    "### Threshold tuning"
   ]
  },
  {
   "cell_type": "code",
   "execution_count": 58,
   "id": "7b30e31e-1718-4309-9e0f-d0bb7f5bdfe8",
   "metadata": {
    "tags": []
   },
   "outputs": [],
   "source": [
    "pipe_logreg_opt = make_pipeline( column_transformer,\n",
    "                                 LogisticRegression( max_iter = 500,\n",
    "                                                     solver = 'saga',\n",
    "                                                     C = grid_search_logreg.best_params_[ 'logisticregression__C'],\n",
    "                                                     penalty = grid_search_logreg.best_params_[ 'logisticregression__penalty'],\n",
    "                                                     l1_ratio = grid_search_logreg.best_params_[ 'logisticregression__l1_ratio']))"
   ]
  },
  {
   "cell_type": "raw",
   "id": "4ff56f5f-adea-4397-81a8-890680b8f71f",
   "metadata": {},
   "source": [
    "pipe_logreg_opt = make_pipeline( column_transformer,\n",
    "                                 LogisticRegression( max_iter = 500,\n",
    "                                                     solver = 'saga',\n",
    "                                                     C = 0.01,\n",
    "                                                     penalty = 'l2',\n",
    "                                                     l1_ratio = 0))"
   ]
  },
  {
   "cell_type": "code",
   "execution_count": 59,
   "id": "a3d3fe0d-255f-4a99-a56c-353557e44cd6",
   "metadata": {},
   "outputs": [
    {
     "name": "stderr",
     "output_type": "stream",
     "text": [
      "C:\\Users\\User\\miniconda3\\lib\\site-packages\\sklearn\\linear_model\\_logistic.py:1106: UserWarning: l1_ratio parameter is only used when penalty is 'elasticnet'. Got (penalty=l2)\n",
      "  warnings.warn(\n"
     ]
    },
    {
     "data": {
      "application/vnd.vegalite.v4+json": {
       "$schema": "https://vega.github.io/schema/vega-lite/v4.17.0.json",
       "config": {
        "view": {
         "continuousHeight": 300,
         "continuousWidth": 400
        }
       },
       "data": {
        "url": "http://localhost:50351/4e31c08a65a28ad8fa311ee15590b9d7.json"
       },
       "encoding": {
        "tooltip": {
         "field": "thresholds",
         "type": "quantitative"
        },
        "x": {
         "field": "precision",
         "type": "quantitative"
        },
        "y": {
         "field": "recall",
         "type": "quantitative"
        }
       },
       "height": 300,
       "mark": "point",
       "width": 300
      },
      "image/png": "[encoded data removed]",
      "text/plain": [
       "<VegaLite 4 object>\n",
       "\n",
       "If you see this message, it means the renderer has not been properly enabled\n",
       "for the frontend that you are using. For more information, see\n",
       "https://altair-viz.github.io/user_guide/troubleshooting.html\n"
      ]
     },
     "execution_count": 59,
     "metadata": {},
     "output_type": "execute_result"
    }
   ],
   "source": [
    "pr_curve( pipe_logreg_opt, X_cv_train, X_cv_test, y_cv_train, y_cv_test)"
   ]
  },
  {
   "cell_type": "markdown",
   "id": "6ebbdad6-c59d-482b-a6e2-0ac9b800d532",
   "metadata": {},
   "source": [
    "A threshold of 0.45 is selected."
   ]
  },
  {
   "cell_type": "markdown",
   "id": "38a45f61-8490-4dba-ab89-e62f4e419cdc",
   "metadata": {},
   "source": [
    "### Final model evaluation"
   ]
  },
  {
   "cell_type": "code",
   "execution_count": 60,
   "id": "062aac49-7d09-429d-9293-3414ecf3b0a0",
   "metadata": {},
   "outputs": [
    {
     "name": "stderr",
     "output_type": "stream",
     "text": [
      "C:\\Users\\User\\miniconda3\\lib\\site-packages\\sklearn\\linear_model\\_logistic.py:1106: UserWarning: l1_ratio parameter is only used when penalty is 'elasticnet'. Got (penalty=l2)\n",
      "  warnings.warn(\n"
     ]
    },
    {
     "data": {
      "text/html": [
       "<div>\n",
       "<style scoped>\n",
       "    .dataframe tbody tr th:only-of-type {\n",
       "        vertical-align: middle;\n",
       "    }\n",
       "\n",
       "    .dataframe tbody tr th {\n",
       "        vertical-align: top;\n",
       "    }\n",
       "\n",
       "    .dataframe thead tr th {\n",
       "        text-align: left;\n",
       "    }\n",
       "</style>\n",
       "<table border=\"1\" class=\"dataframe\">\n",
       "  <thead>\n",
       "    <tr>\n",
       "      <th></th>\n",
       "      <th></th>\n",
       "      <th colspan=\"2\" halign=\"left\">Predicted</th>\n",
       "    </tr>\n",
       "    <tr>\n",
       "      <th></th>\n",
       "      <th></th>\n",
       "      <th>True</th>\n",
       "      <th>False</th>\n",
       "    </tr>\n",
       "  </thead>\n",
       "  <tbody>\n",
       "    <tr>\n",
       "      <th rowspan=\"2\" valign=\"top\">Actual</th>\n",
       "      <th>True</th>\n",
       "      <td>71</td>\n",
       "      <td>200</td>\n",
       "    </tr>\n",
       "    <tr>\n",
       "      <th>False</th>\n",
       "      <td>51</td>\n",
       "      <td>2957</td>\n",
       "    </tr>\n",
       "  </tbody>\n",
       "</table>\n",
       "</div>"
      ],
      "text/plain": [
       "             Predicted      \n",
       "                  True False\n",
       "Actual True         71   200\n",
       "       False        51  2957"
      ]
     },
     "execution_count": 60,
     "metadata": {},
     "output_type": "execute_result"
    }
   ],
   "source": [
    "def logreg_by_proba( pipe_logreg, X_test, threshold):\n",
    "    proba = pipe_logreg.predict_proba( X_test)[ :, 1]\n",
    "    y_hat = proba > threshold\n",
    "    return y_hat\n",
    "pipe_logreg_opt.fit( X_train, y_train)\n",
    "y_hat_logreg_opt = logreg_by_proba( pipe_logreg_opt, X_test, 0.38)\n",
    "better_confusion_matrix( y_test, y_hat_logreg_opt, labels = [ True, False])"
   ]
  },
  {
   "cell_type": "code",
   "execution_count": 61,
   "id": "da132c86-d0cc-44be-8a82-523098936748",
   "metadata": {
    "tags": []
   },
   "outputs": [
    {
     "name": "stdout",
     "output_type": "stream",
     "text": [
      "              precision    recall  f1-score   support\n",
      "\n",
      "       False       0.94      0.98      0.96      3008\n",
      "        True       0.58      0.26      0.36       271\n",
      "\n",
      "    accuracy                           0.92      3279\n",
      "   macro avg       0.76      0.62      0.66      3279\n",
      "weighted avg       0.91      0.92      0.91      3279\n",
      "\n"
     ]
    }
   ],
   "source": [
    "print( classification_report( y_test, y_hat_logreg_opt))"
   ]
  },
  {
   "cell_type": "markdown",
   "id": "ebcedd66-2c37-4e7a-84bb-d4310e7b9c42",
   "metadata": {},
   "source": [
    "## Linear SVC"
   ]
  },
  {
   "cell_type": "markdown",
   "id": "d96740cc-26ce-44e4-a362-f1cd8bec990d",
   "metadata": {},
   "source": [
    "### Model training"
   ]
  },
  {
   "cell_type": "code",
   "execution_count": 62,
   "id": "681595f0-d341-4684-94f4-b4f1a925643e",
   "metadata": {},
   "outputs": [
    {
     "data": {
      "text/html": [
       "<div>\n",
       "<style scoped>\n",
       "    .dataframe tbody tr th:only-of-type {\n",
       "        vertical-align: middle;\n",
       "    }\n",
       "\n",
       "    .dataframe tbody tr th {\n",
       "        vertical-align: top;\n",
       "    }\n",
       "\n",
       "    .dataframe thead th {\n",
       "        text-align: right;\n",
       "    }\n",
       "</style>\n",
       "<table border=\"1\" class=\"dataframe\">\n",
       "  <thead>\n",
       "    <tr style=\"text-align: right;\">\n",
       "      <th></th>\n",
       "      <th>fit_time</th>\n",
       "      <th>score_time</th>\n",
       "      <th>test_precision</th>\n",
       "      <th>train_precision</th>\n",
       "      <th>test_recall</th>\n",
       "      <th>train_recall</th>\n",
       "      <th>test_f1</th>\n",
       "      <th>train_f1</th>\n",
       "    </tr>\n",
       "  </thead>\n",
       "  <tbody>\n",
       "    <tr>\n",
       "      <th>0</th>\n",
       "      <td>0.235033</td>\n",
       "      <td>0.008964</td>\n",
       "      <td>0.710526</td>\n",
       "      <td>0.699248</td>\n",
       "      <td>0.124424</td>\n",
       "      <td>0.107266</td>\n",
       "      <td>0.211765</td>\n",
       "      <td>0.186000</td>\n",
       "    </tr>\n",
       "    <tr>\n",
       "      <th>1</th>\n",
       "      <td>0.243047</td>\n",
       "      <td>0.008953</td>\n",
       "      <td>0.666667</td>\n",
       "      <td>0.729927</td>\n",
       "      <td>0.110599</td>\n",
       "      <td>0.115340</td>\n",
       "      <td>0.189723</td>\n",
       "      <td>0.199203</td>\n",
       "    </tr>\n",
       "    <tr>\n",
       "      <th>2</th>\n",
       "      <td>0.223024</td>\n",
       "      <td>0.012010</td>\n",
       "      <td>0.718750</td>\n",
       "      <td>0.726027</td>\n",
       "      <td>0.105991</td>\n",
       "      <td>0.122261</td>\n",
       "      <td>0.184739</td>\n",
       "      <td>0.209279</td>\n",
       "    </tr>\n",
       "    <tr>\n",
       "      <th>3</th>\n",
       "      <td>0.288048</td>\n",
       "      <td>0.008955</td>\n",
       "      <td>0.771429</td>\n",
       "      <td>0.710938</td>\n",
       "      <td>0.124424</td>\n",
       "      <td>0.104960</td>\n",
       "      <td>0.214286</td>\n",
       "      <td>0.182915</td>\n",
       "    </tr>\n",
       "    <tr>\n",
       "      <th>4</th>\n",
       "      <td>0.210100</td>\n",
       "      <td>0.000000</td>\n",
       "      <td>0.800000</td>\n",
       "      <td>0.721805</td>\n",
       "      <td>0.092593</td>\n",
       "      <td>0.110599</td>\n",
       "      <td>0.165975</td>\n",
       "      <td>0.191808</td>\n",
       "    </tr>\n",
       "  </tbody>\n",
       "</table>\n",
       "</div>"
      ],
      "text/plain": [
       "   fit_time  score_time  test_precision  train_precision  test_recall  \\\n",
       "0  0.235033    0.008964        0.710526         0.699248     0.124424   \n",
       "1  0.243047    0.008953        0.666667         0.729927     0.110599   \n",
       "2  0.223024    0.012010        0.718750         0.726027     0.105991   \n",
       "3  0.288048    0.008955        0.771429         0.710938     0.124424   \n",
       "4  0.210100    0.000000        0.800000         0.721805     0.092593   \n",
       "\n",
       "   train_recall   test_f1  train_f1  \n",
       "0      0.107266  0.211765  0.186000  \n",
       "1      0.115340  0.189723  0.199203  \n",
       "2      0.122261  0.184739  0.209279  \n",
       "3      0.104960  0.214286  0.182915  \n",
       "4      0.110599  0.165975  0.191808  "
      ]
     },
     "execution_count": 62,
     "metadata": {},
     "output_type": "execute_result"
    }
   ],
   "source": [
    "pipe_lsvc = make_pipeline( column_transformer, LinearSVC( dual = False, random_state = 918))\n",
    "cv_result_lsvc = cross_validate( pipe_lsvc, X_train, y_train, cv = 5, return_train_score = True, scoring = scoring_metrics)\n",
    "pd.DataFrame( cv_result_lsvc)"
   ]
  },
  {
   "cell_type": "code",
   "execution_count": 63,
   "id": "c6f9f35b-3c38-4cf7-b62f-79a04ae1938d",
   "metadata": {},
   "outputs": [
    {
     "data": {
      "text/plain": [
       "fit_time           0.239850\n",
       "score_time         0.007776\n",
       "test_precision     0.733474\n",
       "train_precision    0.717589\n",
       "test_recall        0.111606\n",
       "train_recall       0.112085\n",
       "test_f1            0.193298\n",
       "train_f1           0.193841\n",
       "dtype: float64"
      ]
     },
     "execution_count": 63,
     "metadata": {},
     "output_type": "execute_result"
    }
   ],
   "source": [
    "pd.DataFrame( cv_result_lsvc).mean()"
   ]
  },
  {
   "cell_type": "markdown",
   "id": "fe989268-0ce5-459b-a8e5-f345871e490d",
   "metadata": {},
   "source": [
    "### Hyperparameter optimization"
   ]
  },
  {
   "cell_type": "code",
   "execution_count": 64,
   "id": "927aca25-14be-45e3-a778-f2487048d2d4",
   "metadata": {},
   "outputs": [
    {
     "data": {
      "text/html": [
       "<div>\n",
       "<style scoped>\n",
       "    .dataframe tbody tr th:only-of-type {\n",
       "        vertical-align: middle;\n",
       "    }\n",
       "\n",
       "    .dataframe tbody tr th {\n",
       "        vertical-align: top;\n",
       "    }\n",
       "\n",
       "    .dataframe thead th {\n",
       "        text-align: right;\n",
       "    }\n",
       "</style>\n",
       "<table border=\"1\" class=\"dataframe\">\n",
       "  <thead>\n",
       "    <tr style=\"text-align: right;\">\n",
       "      <th></th>\n",
       "      <th>params</th>\n",
       "      <th>mean_test_score</th>\n",
       "    </tr>\n",
       "  </thead>\n",
       "  <tbody>\n",
       "    <tr>\n",
       "      <th>2</th>\n",
       "      <td>{'linearsvc__C': 1}</td>\n",
       "      <td>0.733474</td>\n",
       "    </tr>\n",
       "    <tr>\n",
       "      <th>3</th>\n",
       "      <td>{'linearsvc__C': 10}</td>\n",
       "      <td>0.723677</td>\n",
       "    </tr>\n",
       "    <tr>\n",
       "      <th>1</th>\n",
       "      <td>{'linearsvc__C': 0.1}</td>\n",
       "      <td>0.719809</td>\n",
       "    </tr>\n",
       "    <tr>\n",
       "      <th>4</th>\n",
       "      <td>{'linearsvc__C': 100}</td>\n",
       "      <td>0.717300</td>\n",
       "    </tr>\n",
       "    <tr>\n",
       "      <th>5</th>\n",
       "      <td>{'linearsvc__C': 1000}</td>\n",
       "      <td>0.717300</td>\n",
       "    </tr>\n",
       "  </tbody>\n",
       "</table>\n",
       "</div>"
      ],
      "text/plain": [
       "                   params  mean_test_score\n",
       "2     {'linearsvc__C': 1}         0.733474\n",
       "3    {'linearsvc__C': 10}         0.723677\n",
       "1   {'linearsvc__C': 0.1}         0.719809\n",
       "4   {'linearsvc__C': 100}         0.717300\n",
       "5  {'linearsvc__C': 1000}         0.717300"
      ]
     },
     "execution_count": 64,
     "metadata": {},
     "output_type": "execute_result"
    }
   ],
   "source": [
    "param_dist = {\n",
    "    'linearsvc__C': [ 10**x for x in range( -2, 5)]\n",
    "}\n",
    "\n",
    "grid_search_lsvc = GridSearchCV(\n",
    "    pipe_lsvc, param_dist, cv = 5, scoring = 'precision', n_jobs=-1, return_train_score = True\n",
    ")\n",
    "\n",
    "grid_search_lsvc.fit( X_train, y_train)\n",
    "cv_results_lsvc_opt = pd.DataFrame( grid_search_lsvc.cv_results_)\n",
    "cv_results_lsvc_opt[ ['params', 'mean_test_score']].sort_values( 'mean_test_score', ascending = False).head()"
   ]
  },
  {
   "cell_type": "code",
   "execution_count": 65,
   "id": "3962dec1-bb3d-435d-aa28-5deb5d8d0b20",
   "metadata": {},
   "outputs": [
    {
     "data": {
      "text/plain": [
       "{'linearsvc__C': 1}"
      ]
     },
     "execution_count": 65,
     "metadata": {},
     "output_type": "execute_result"
    }
   ],
   "source": [
    "grid_search_lsvc.best_params_"
   ]
  },
  {
   "cell_type": "markdown",
   "id": "21b00f75-4b8d-481e-93df-c51ad4db9d40",
   "metadata": {},
   "source": [
    "### Threshold tuning"
   ]
  },
  {
   "cell_type": "code",
   "execution_count": 66,
   "id": "850eed14-ad9d-4bf8-9e94-6aa21bd7c973",
   "metadata": {
    "tags": []
   },
   "outputs": [],
   "source": [
    "pipe_lsvc_opt = make_pipeline( column_transformer,\n",
    "                               LinearSVC( dual = False,\n",
    "                                          C = grid_search_lsvc.best_params_[ 'linearsvc__C'],\n",
    "                                          random_state = 918))"
   ]
  },
  {
   "cell_type": "raw",
   "id": "aa81b660-b4d2-42f2-95da-54a0c6a2cee3",
   "metadata": {},
   "source": [
    "# Best C is 0.01.\n",
    "pipe_lsvc_opt = make_pipeline( column_transformer,\n",
    "                               LinearSVC( dual = False,\n",
    "                                          C = 0.01,\n",
    "                                          random_state = 918))"
   ]
  },
  {
   "cell_type": "code",
   "execution_count": 67,
   "id": "de30ddbd-298b-48d0-b2da-252185faa897",
   "metadata": {},
   "outputs": [
    {
     "data": {
      "application/vnd.vegalite.v4+json": {
       "$schema": "https://vega.github.io/schema/vega-lite/v4.17.0.json",
       "config": {
        "view": {
         "continuousHeight": 300,
         "continuousWidth": 400
        }
       },
       "data": {
        "url": "http://localhost:50351/a39991c43944e198ae2822c09d8cd0ad.json"
       },
       "encoding": {
        "tooltip": {
         "field": "thresholds",
         "type": "quantitative"
        },
        "x": {
         "field": "precision",
         "type": "quantitative"
        },
        "y": {
         "field": "recall",
         "type": "quantitative"
        }
       },
       "height": 300,
       "mark": "point",
       "width": 300
      },
      "image/png": "[encoded data removed]",
      "text/plain": [
       "<VegaLite 4 object>\n",
       "\n",
       "If you see this message, it means the renderer has not been properly enabled\n",
       "for the frontend that you are using. For more information, see\n",
       "https://altair-viz.github.io/user_guide/troubleshooting.html\n"
      ]
     },
     "execution_count": 67,
     "metadata": {},
     "output_type": "execute_result"
    }
   ],
   "source": [
    "pr_curve( pipe_lsvc_opt, X_cv_train, X_cv_test, y_cv_train, y_cv_test)"
   ]
  },
  {
   "cell_type": "markdown",
   "id": "e52ec0b8-23e4-42e2-b981-377f65015859",
   "metadata": {},
   "source": [
    "A threshold of -0.16 is selected."
   ]
  },
  {
   "cell_type": "markdown",
   "id": "441683a1-0aed-4e24-936f-bed086831dca",
   "metadata": {},
   "source": [
    "### Final model evaluation"
   ]
  },
  {
   "cell_type": "code",
   "execution_count": 68,
   "id": "624e358e-6cf4-4ddc-b8ab-da0eca74de44",
   "metadata": {},
   "outputs": [
    {
     "data": {
      "text/html": [
       "<div>\n",
       "<style scoped>\n",
       "    .dataframe tbody tr th:only-of-type {\n",
       "        vertical-align: middle;\n",
       "    }\n",
       "\n",
       "    .dataframe tbody tr th {\n",
       "        vertical-align: top;\n",
       "    }\n",
       "\n",
       "    .dataframe thead tr th {\n",
       "        text-align: left;\n",
       "    }\n",
       "</style>\n",
       "<table border=\"1\" class=\"dataframe\">\n",
       "  <thead>\n",
       "    <tr>\n",
       "      <th></th>\n",
       "      <th></th>\n",
       "      <th colspan=\"2\" halign=\"left\">Predicted</th>\n",
       "    </tr>\n",
       "    <tr>\n",
       "      <th></th>\n",
       "      <th></th>\n",
       "      <th>True</th>\n",
       "      <th>False</th>\n",
       "    </tr>\n",
       "  </thead>\n",
       "  <tbody>\n",
       "    <tr>\n",
       "      <th rowspan=\"2\" valign=\"top\">Actual</th>\n",
       "      <th>True</th>\n",
       "      <td>31</td>\n",
       "      <td>240</td>\n",
       "    </tr>\n",
       "    <tr>\n",
       "      <th>False</th>\n",
       "      <td>15</td>\n",
       "      <td>2993</td>\n",
       "    </tr>\n",
       "  </tbody>\n",
       "</table>\n",
       "</div>"
      ],
      "text/plain": [
       "             Predicted      \n",
       "                  True False\n",
       "Actual True         31   240\n",
       "       False        15  2993"
      ]
     },
     "execution_count": 68,
     "metadata": {},
     "output_type": "execute_result"
    }
   ],
   "source": [
    "def lsvc_by_proba( pipe_lsvc, X_test, threshold):\n",
    "    proba = pipe_lsvc.decision_function( X_test)\n",
    "    y_hat = proba > threshold\n",
    "    return y_hat\n",
    "pipe_lsvc_opt.fit( X_train, y_train)\n",
    "y_hat_lsvc_opt = lsvc_by_proba( pipe_lsvc_opt, X_test, -0.0113)\n",
    "better_confusion_matrix( y_test, y_hat_lsvc_opt, labels = [ True, False])"
   ]
  },
  {
   "cell_type": "code",
   "execution_count": 69,
   "id": "dfb736a7-7b45-43e2-976f-1c5e582cf0dd",
   "metadata": {
    "tags": []
   },
   "outputs": [
    {
     "name": "stdout",
     "output_type": "stream",
     "text": [
      "              precision    recall  f1-score   support\n",
      "\n",
      "       False       0.93      1.00      0.96      3008\n",
      "        True       0.67      0.11      0.20       271\n",
      "\n",
      "    accuracy                           0.92      3279\n",
      "   macro avg       0.80      0.55      0.58      3279\n",
      "weighted avg       0.90      0.92      0.90      3279\n",
      "\n"
     ]
    }
   ],
   "source": [
    "print( classification_report( y_test, y_hat_lsvc_opt))"
   ]
  },
  {
   "cell_type": "code",
   "execution_count": null,
   "id": "035adc1e-4fd5-4616-9b5f-875312d61785",
   "metadata": {},
   "outputs": [],
   "source": []
  }
 ],
 "metadata": {
  "kernelspec": {
   "display_name": "Python 3 (ipykernel)",
   "language": "python",
   "name": "python3"
  },
  "language_info": {
   "codemirror_mode": {
    "name": "ipython",
    "version": 3
   },
   "file_extension": ".py",
   "mimetype": "text/x-python",
   "name": "python",
   "nbconvert_exporter": "python",
   "pygments_lexer": "ipython3",
   "version": "3.9.13"
  }
 },
 "nbformat": 4,
 "nbformat_minor": 5
}
